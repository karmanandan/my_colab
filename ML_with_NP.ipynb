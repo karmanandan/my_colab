{
  "nbformat": 4,
  "nbformat_minor": 0,
  "metadata": {
    "colab": {
      "name": "ML_with_NP.ipynb",
      "provenance": [],
      "authorship_tag": "ABX9TyOGI72FDTLTMEXJA5aAoQ4t",
      "include_colab_link": true
    },
    "kernelspec": {
      "display_name": "Python 3",
      "name": "python3"
    },
    "language_info": {
      "name": "python"
    }
  },
  "cells": [
    {
      "cell_type": "markdown",
      "metadata": {
        "id": "view-in-github",
        "colab_type": "text"
      },
      "source": [
        "<a href=\"https://colab.research.google.com/github/karmanandan/my_colab/blob/master/ML_with_NP.ipynb\" target=\"_parent\"><img src=\"https://colab.research.google.com/assets/colab-badge.svg\" alt=\"Open In Colab\"/></a>"
      ]
    },
    {
      "cell_type": "code",
      "metadata": {
        "id": "3RL7UVprc7Q5"
      },
      "source": [
        "# Machine Learning with Numpy"
      ],
      "execution_count": null,
      "outputs": []
    },
    {
      "cell_type": "code",
      "metadata": {
        "id": "X-9xXbriNhJQ"
      },
      "source": [
        ""
      ],
      "execution_count": null,
      "outputs": []
    },
    {
      "cell_type": "code",
      "metadata": {
        "id": "Q2ICGBrrdEAg"
      },
      "source": [
        "import numpy as np"
      ],
      "execution_count": null,
      "outputs": []
    },
    {
      "cell_type": "code",
      "metadata": {
        "id": "1-BHXX90dFts"
      },
      "source": [
        "class LinearRegression:\n",
        "\n",
        "    def __init__(self, learning_rate=0.001, n_iters=1000):\n",
        "        self.lr = learning_rate\n",
        "        self.n_iters = n_iters\n",
        "        self.weights = None\n",
        "        self.bias = None\n",
        "\n",
        "    def fit(self, X, y):\n",
        "        n_samples, n_features = X.shape\n",
        "\n",
        "        # init parameters\n",
        "        self.weights = np.zeros(n_features)\n",
        "        self.bias = 0\n",
        "\n",
        "        # gradient descent\n",
        "        for _ in range(self.n_iters):\n",
        "            y_predicted = np.dot(X, self.weights) + self.bias\n",
        "            # compute gradients\n",
        "            dw = (1 / n_samples) * np.dot(X.T, (y_predicted - y))\n",
        "            db = (1 / n_samples) * np.sum(y_predicted - y)\n",
        "\n",
        "            # update parameters\n",
        "            self.weights -= self.lr * dw\n",
        "            self.bias -= self.lr * db\n",
        " \n",
        "\n",
        "    def predict(self, X):\n",
        "        y_approximated = np.dot(X, self.weights) + self.bias\n",
        "        return y_approximated\n",
        "\n",
        "    def score(self,X,y):\n",
        "      actual = y\n",
        "      predict = self.predict(X)\n",
        "      score_list = []\n",
        "      for i in range(len(y)):\n",
        "        score_list.append(np.sqrt((actual[i]-predict[i])**2))\n",
        "      return  sum(score_list)"
      ],
      "execution_count": null,
      "outputs": []
    },
    {
      "cell_type": "code",
      "metadata": {
        "id": "JUFFGfPsdGML"
      },
      "source": [
        "lr = LinearRegression()"
      ],
      "execution_count": null,
      "outputs": []
    },
    {
      "cell_type": "code",
      "metadata": {
        "id": "HuaJ3mg8dXyO"
      },
      "source": [
        "X = np.array([[1, 1], [1, 2], [2, 2], [2, 3]])\n",
        "y = np.dot(X, np.array([1, 2])) + 3"
      ],
      "execution_count": null,
      "outputs": []
    },
    {
      "cell_type": "code",
      "metadata": {
        "id": "ujVlb_pudMQU"
      },
      "source": [
        "lr.fit(X,y)"
      ],
      "execution_count": null,
      "outputs": []
    },
    {
      "cell_type": "code",
      "metadata": {
        "colab": {
          "base_uri": "https://localhost:8080/"
        },
        "id": "QyxRVw_XdwUA",
        "outputId": "41e92968-8aa4-44e5-ddb7-5bd16c91f151"
      },
      "source": [
        "lr.predict(X)"
      ],
      "execution_count": null,
      "outputs": [
        {
          "output_type": "execute_result",
          "data": {
            "text/plain": [
              "array([ 5.20879105,  7.5068133 ,  9.20205384, 11.50007609])"
            ]
          },
          "metadata": {},
          "execution_count": 7
        }
      ]
    },
    {
      "cell_type": "code",
      "metadata": {
        "colab": {
          "base_uri": "https://localhost:8080/"
        },
        "id": "4K0-OnqDd46i",
        "outputId": "1aefe30b-d8b0-440f-cb5b-be4f14f185e2"
      },
      "source": [
        "y"
      ],
      "execution_count": null,
      "outputs": [
        {
          "output_type": "execute_result",
          "data": {
            "text/plain": [
              "array([ 6,  8,  9, 11])"
            ]
          },
          "metadata": {},
          "execution_count": 8
        }
      ]
    },
    {
      "cell_type": "code",
      "metadata": {
        "colab": {
          "base_uri": "https://localhost:8080/"
        },
        "id": "oGtkcZCjd6bb",
        "outputId": "69669d32-9e9c-446a-de8b-515dbbb9901e"
      },
      "source": [
        "lr.score(X,y)"
      ],
      "execution_count": null,
      "outputs": [
        {
          "output_type": "execute_result",
          "data": {
            "text/plain": [
              "1.9865255831903106"
            ]
          },
          "metadata": {},
          "execution_count": 9
        }
      ]
    },
    {
      "cell_type": "code",
      "metadata": {
        "id": "3FKbrY9if93E"
      },
      "source": [
        "from sklearn import datasets\n",
        "X, y = datasets.make_regression(n_samples=150, n_features=1, noise=2, random_state=0)"
      ],
      "execution_count": null,
      "outputs": []
    },
    {
      "cell_type": "code",
      "metadata": {
        "id": "T5PcFAZIBYfb"
      },
      "source": [
        "X_train = X[:100,]\n",
        "y_train = y[:100,]"
      ],
      "execution_count": null,
      "outputs": []
    },
    {
      "cell_type": "code",
      "metadata": {
        "id": "r-ytkumeBYfb"
      },
      "source": [
        "X_test = X[100:,]\n",
        "y_test = y[100:,]"
      ],
      "execution_count": null,
      "outputs": []
    },
    {
      "cell_type": "code",
      "metadata": {
        "id": "EvN8RRo5BDG2"
      },
      "source": [
        "lr = LinearRegression(n_iters=100000)\n",
        "lr.fit(X_train, y_train)"
      ],
      "execution_count": null,
      "outputs": []
    },
    {
      "cell_type": "code",
      "metadata": {
        "id": "5GzwL70EBDKC"
      },
      "source": [
        "preds = lr.predict(X_test)"
      ],
      "execution_count": null,
      "outputs": []
    },
    {
      "cell_type": "code",
      "metadata": {
        "colab": {
          "base_uri": "https://localhost:8080/"
        },
        "id": "zKUCWQ24BDNO",
        "outputId": "6d19be77-381a-406e-f103-395980199206"
      },
      "source": [
        "lr.score(X_test, y_test)"
      ],
      "execution_count": null,
      "outputs": [
        {
          "output_type": "execute_result",
          "data": {
            "text/plain": [
              "78.27646502379571"
            ]
          },
          "metadata": {},
          "execution_count": 45
        }
      ]
    },
    {
      "cell_type": "code",
      "metadata": {
        "id": "y_Qa1B2gBs19"
      },
      "source": [
        "import torch\n",
        "import torch.nn as nn\n",
        "import matplotlib.pyplot as plt"
      ],
      "execution_count": null,
      "outputs": []
    },
    {
      "cell_type": "code",
      "metadata": {
        "colab": {
          "base_uri": "https://localhost:8080/",
          "height": 1000
        },
        "id": "y9BrckHZCxJE",
        "outputId": "bd31afae-70e6-4872-ae8f-f88a4b66395a"
      },
      "source": [
        "X_numpy, y_numpy = datasets.make_regression(n_samples=100, n_features=1, noise=20,\n",
        "                                            random_state=0)\n",
        "X = torch.from_numpy(X_numpy.astype('float32'))\n",
        "y = torch.from_numpy(y_numpy.astype('float32'))\n",
        "\n",
        "y = y.view(y.shape[0],1)\n",
        "\n",
        "n_samples, n_features = X.shape\n",
        "\n",
        "input_size = n_features\n",
        "output_size = 1\n",
        "\n",
        "model = nn.Linear(input_size, output_size)\n",
        "\n",
        "learning_rate = 0.001\n",
        "loss_criterion = nn.MSELoss()\n",
        "optimizer = torch.optim.SGD(model.parameters(), lr=learning_rate)\n",
        "num_epochs = 1000\n",
        "\n",
        "for i in range(num_epochs):\n",
        "  y_predicted = model(X)\n",
        "  loss = loss_criterion(y_predicted,y)\n",
        "\n",
        "  loss.backward()\n",
        "  optimizer.step()\n",
        "\n",
        "  optimizer.zero_grad()\n",
        "\n",
        "  if (i+1)%10==0:\n",
        "    print(f'Epoch {i+1}, Loss {loss.item():.4f}')\n",
        "\n",
        "predicted = model(X).detach().numpy()\n",
        "\n",
        "plt.plot(X_numpy, y_numpy, 'ro')\n",
        "plt.plot(X_numpy, predicted, 'b')\n",
        "plt.show()\n",
        "\n"
      ],
      "execution_count": null,
      "outputs": [
        {
          "output_type": "stream",
          "text": [
            "Epoch 10, Loss 2299.0312\n",
            "Epoch 20, Loss 2225.4741\n",
            "Epoch 30, Loss 2154.8630\n",
            "Epoch 40, Loss 2087.0806\n",
            "Epoch 50, Loss 2022.0129\n",
            "Epoch 60, Loss 1959.5504\n",
            "Epoch 70, Loss 1899.5891\n",
            "Epoch 80, Loss 1842.0280\n",
            "Epoch 90, Loss 1786.7708\n",
            "Epoch 100, Loss 1733.7251\n",
            "Epoch 110, Loss 1682.8024\n",
            "Epoch 120, Loss 1633.9169\n",
            "Epoch 130, Loss 1586.9873\n",
            "Epoch 140, Loss 1541.9347\n",
            "Epoch 150, Loss 1498.6841\n",
            "Epoch 160, Loss 1457.1626\n",
            "Epoch 170, Loss 1417.3014\n",
            "Epoch 180, Loss 1379.0339\n",
            "Epoch 190, Loss 1342.2959\n",
            "Epoch 200, Loss 1307.0264\n",
            "Epoch 210, Loss 1273.1660\n",
            "Epoch 220, Loss 1240.6586\n",
            "Epoch 230, Loss 1209.4498\n",
            "Epoch 240, Loss 1179.4878\n",
            "Epoch 250, Loss 1150.7223\n",
            "Epoch 260, Loss 1123.1056\n",
            "Epoch 270, Loss 1096.5914\n",
            "Epoch 280, Loss 1071.1359\n",
            "Epoch 290, Loss 1046.6964\n",
            "Epoch 300, Loss 1023.2322\n",
            "Epoch 310, Loss 1000.7045\n",
            "Epoch 320, Loss 979.0754\n",
            "Epoch 330, Loss 958.3093\n",
            "Epoch 340, Loss 938.3717\n",
            "Epoch 350, Loss 919.2291\n",
            "Epoch 360, Loss 900.8499\n",
            "Epoch 370, Loss 883.2034\n",
            "Epoch 380, Loss 866.2606\n",
            "Epoch 390, Loss 849.9931\n",
            "Epoch 400, Loss 834.3738\n",
            "Epoch 410, Loss 819.3772\n",
            "Epoch 420, Loss 804.9778\n",
            "Epoch 430, Loss 791.1522\n",
            "Epoch 440, Loss 777.8773\n",
            "Epoch 450, Loss 765.1312\n",
            "Epoch 460, Loss 752.8925\n",
            "Epoch 470, Loss 741.1410\n",
            "Epoch 480, Loss 729.8576\n",
            "Epoch 490, Loss 719.0231\n",
            "Epoch 500, Loss 708.6199\n",
            "Epoch 510, Loss 698.6306\n",
            "Epoch 520, Loss 689.0388\n",
            "Epoch 530, Loss 679.8286\n",
            "Epoch 540, Loss 670.9849\n",
            "Epoch 550, Loss 662.4925\n",
            "Epoch 560, Loss 654.3382\n",
            "Epoch 570, Loss 646.5079\n",
            "Epoch 580, Loss 638.9890\n",
            "Epoch 590, Loss 631.7689\n",
            "Epoch 600, Loss 624.8358\n",
            "Epoch 610, Loss 618.1781\n",
            "Epoch 620, Loss 611.7851\n",
            "Epoch 630, Loss 605.6459\n",
            "Epoch 640, Loss 599.7504\n",
            "Epoch 650, Loss 594.0892\n",
            "Epoch 660, Loss 588.6529\n",
            "Epoch 670, Loss 583.4324\n",
            "Epoch 680, Loss 578.4190\n",
            "Epoch 690, Loss 573.6047\n",
            "Epoch 700, Loss 568.9813\n",
            "Epoch 710, Loss 564.5415\n",
            "Epoch 720, Loss 560.2777\n",
            "Epoch 730, Loss 556.1832\n",
            "Epoch 740, Loss 552.2512\n",
            "Epoch 750, Loss 548.4749\n",
            "Epoch 760, Loss 544.8486\n",
            "Epoch 770, Loss 541.3659\n",
            "Epoch 780, Loss 538.0212\n",
            "Epoch 790, Loss 534.8092\n",
            "Epoch 800, Loss 531.7245\n",
            "Epoch 810, Loss 528.7618\n",
            "Epoch 820, Loss 525.9167\n",
            "Epoch 830, Loss 523.1842\n",
            "Epoch 840, Loss 520.5599\n",
            "Epoch 850, Loss 518.0397\n",
            "Epoch 860, Loss 515.6191\n",
            "Epoch 870, Loss 513.2945\n",
            "Epoch 880, Loss 511.0619\n",
            "Epoch 890, Loss 508.9175\n",
            "Epoch 900, Loss 506.8581\n",
            "Epoch 910, Loss 504.8801\n",
            "Epoch 920, Loss 502.9805\n",
            "Epoch 930, Loss 501.1558\n",
            "Epoch 940, Loss 499.4035\n",
            "Epoch 950, Loss 497.7203\n",
            "Epoch 960, Loss 496.1038\n",
            "Epoch 970, Loss 494.5511\n",
            "Epoch 980, Loss 493.0597\n",
            "Epoch 990, Loss 491.6273\n",
            "Epoch 1000, Loss 490.2515\n"
          ],
          "name": "stdout"
        },
        {
          "output_type": "display_data",
          "data": {
            "image/png": "[encoded data removed]",
            "text/plain": [
              "<Figure size 432x288 with 1 Axes>"
            ]
          },
          "metadata": {
            "needs_background": "light"
          }
        }
      ]
    },
    {
      "cell_type": "code",
      "metadata": {
        "id": "SagApSbvGLHt"
      },
      "source": [
        ""
      ],
      "execution_count": null,
      "outputs": []
    },
    {
      "cell_type": "code",
      "metadata": {
        "id": "zLOgITCdGLK2"
      },
      "source": [
        ""
      ],
      "execution_count": null,
      "outputs": []
    },
    {
      "cell_type": "code",
      "metadata": {
        "id": "UWetzd5cmWy8"
      },
      "source": [
        "class LogisticRegression:\n",
        "\n",
        "  def __init__(self, learning_rate=0.001, num_iters=1000):\n",
        "    self.lr = learning_rate\n",
        "    self.n_iter = num_iters\n",
        "    self.weights = None\n",
        "    self.bias = None\n",
        "\n",
        "  def fit(self, X, y):\n",
        "    n_samples, n_features = X.shape\n",
        "\n",
        "    self.weights = np.zeros(n_features)\n",
        "    self.bias = 0\n",
        "\n",
        "    for _ in range(self.n_iter):\n",
        "      linear_model = np.dot(X, self.weights) + self.bias\n",
        "      predicted = self._sigmoid(linear_model)\n",
        "\n",
        "      dw = (1/n_samples)*np.dot(X.T,(predicted-y))\n",
        "      db = (1/n_samples)*np.sum(predicted-y)\n",
        "\n",
        "      self.weights -= self.lr*dw\n",
        "      self.bias -= self.lr*db\n",
        "\n",
        "  def predict(self, X):\n",
        "      linear_model = np.dot(X, self.weights) + self.bias\n",
        "      predicted = self._sigmoid(linear_model)\n",
        "\n",
        "      predicted_cls = [1 if i > 0.5 else 0 for i in predicted]\n",
        "\n",
        "      return np.array(predicted_cls)\n",
        "\n",
        "  def score(self, X,y):\n",
        "    actual = y\n",
        "    predict = self.predict(X)\n",
        "    true_positives = 0\n",
        "    false_positives = 0\n",
        "    true_negatives = 0\n",
        "    false_negatives = 0\n",
        "\n",
        "    for i in range(len(actual)):\n",
        "      if actual[i] ==1 and predict[i] ==1:\n",
        "        true_positives +=1\n",
        "      if actual[i] ==0 and predict[i] ==1:\n",
        "        false_positives +=1\n",
        "      if actual[i] ==0 and predict[i] ==0:\n",
        "        true_negatives +=1\n",
        "      if actual[i] ==1 and predict[i] ==0:\n",
        "        false_negatives +=1\n",
        "\n",
        "\n",
        "    print(f'True positives {true_positives}')\n",
        "    print(f'False positives {false_positives}')\n",
        "    print(f'True Negatives {true_negatives}')\n",
        "    print(f'False Negatives {false_negatives}')\n",
        "\n",
        "    all = true_positives+false_positives+true_negatives+false_negatives\n",
        "\n",
        "    accuracy = (true_positives+true_negatives)/all\n",
        "\n",
        "    error = (false_positives+false_negatives)/all\n",
        "\n",
        "    print(f'Accuracy {accuracy}')\n",
        "\n",
        "    print(f'Error Rate {error}')\n",
        "\n",
        "\n",
        "  def _sigmoid(self,x):\n",
        "    return 1/(1+np.exp(-x))"
      ],
      "execution_count": null,
      "outputs": []
    },
    {
      "cell_type": "code",
      "metadata": {
        "id": "BY18TTK2uJEm"
      },
      "source": [
        "# from sklearn.datasets import load_iris\n",
        "# X, y = load_iris(return_X_y=True)\n",
        "from sklearn.datasets import make_classification\n",
        "X, y = make_classification(n_samples=150, n_features=5, n_classes=2) "
      ],
      "execution_count": null,
      "outputs": []
    },
    {
      "cell_type": "code",
      "metadata": {
        "id": "e8SXNz4o8mK-"
      },
      "source": [
        "X_train = X[:100,]\n",
        "y_train = y[:100,]"
      ],
      "execution_count": null,
      "outputs": []
    },
    {
      "cell_type": "code",
      "metadata": {
        "id": "gHh8O7Xg8-tk"
      },
      "source": [
        "X_test = X[100:,]\n",
        "y_test = y[100:,]"
      ],
      "execution_count": null,
      "outputs": []
    },
    {
      "cell_type": "code",
      "metadata": {
        "id": "NHdYODWL8Qqb"
      },
      "source": [
        "log_r = LogisticRegression()"
      ],
      "execution_count": null,
      "outputs": []
    },
    {
      "cell_type": "code",
      "metadata": {
        "id": "7pIaVjQ88Wwh"
      },
      "source": [
        "log_r.fit(X_train,y_train)"
      ],
      "execution_count": null,
      "outputs": []
    },
    {
      "cell_type": "code",
      "metadata": {
        "colab": {
          "base_uri": "https://localhost:8080/"
        },
        "id": "Ogejr8Td8Zee",
        "outputId": "d18c4d4d-abc0-4cb2-fc82-26f7bfd88bb1"
      },
      "source": [
        "log_r.predict(X_test)"
      ],
      "execution_count": null,
      "outputs": [
        {
          "output_type": "execute_result",
          "data": {
            "text/plain": [
              "array([1, 0, 0, 0, 0, 1, 0, 1, 1, 1, 0, 1, 0, 0, 1, 1, 1, 0, 1, 0, 1, 1,\n",
              "       1, 1, 0, 0, 0, 0, 0, 1, 0, 1, 0, 1, 0, 1, 1, 0, 0, 1, 0, 0, 0, 0,\n",
              "       1, 0, 0, 0, 1, 1])"
            ]
          },
          "metadata": {},
          "execution_count": 150
        }
      ]
    },
    {
      "cell_type": "code",
      "metadata": {
        "colab": {
          "base_uri": "https://localhost:8080/"
        },
        "id": "4ACzzoC89R3i",
        "outputId": "bd2134ce-a555-4525-c826-5ea38750db5b"
      },
      "source": [
        "y_test"
      ],
      "execution_count": null,
      "outputs": [
        {
          "output_type": "execute_result",
          "data": {
            "text/plain": [
              "array([1, 0, 0, 0, 0, 1, 0, 1, 1, 1, 0, 1, 1, 0, 1, 1, 1, 0, 1, 0, 1, 1,\n",
              "       1, 1, 0, 0, 0, 0, 0, 1, 0, 1, 0, 1, 0, 1, 1, 0, 0, 1, 0, 1, 0, 0,\n",
              "       1, 0, 0, 0, 1, 1])"
            ]
          },
          "metadata": {},
          "execution_count": 151
        }
      ]
    },
    {
      "cell_type": "code",
      "metadata": {
        "colab": {
          "base_uri": "https://localhost:8080/"
        },
        "id": "XVTe1PUt9hPK",
        "outputId": "e0960490-3c9b-4e32-9dcb-5258661f244a"
      },
      "source": [
        "log_r.score(X_test, y_test)"
      ],
      "execution_count": null,
      "outputs": [
        {
          "output_type": "stream",
          "text": [
            "True positives 23\n",
            "False positives 0\n",
            "True Negatives 25\n",
            "False Negatives 2\n",
            "Accuracy 0.96\n",
            "Error Rate 0.04\n"
          ],
          "name": "stdout"
        }
      ]
    }
  ]
}