{
  "nbformat": 4,
  "nbformat_minor": 0,
  "metadata": {
    "colab": {
      "name": "Linear_Regression_with_Numpy_and_PyTorch.ipynb",
      "provenance": [],
      "collapsed_sections": [],
      "toc_visible": true,
      "authorship_tag": "ABX9TyPvjm5BTvUHTEuMkiKrK3o+",
      "include_colab_link": true
    },
    "kernelspec": {
      "name": "python3",
      "display_name": "Python 3"
    },
    "language_info": {
      "name": "python"
    }
  },
  "cells": [
    {
      "cell_type": "markdown",
      "metadata": {
        "id": "view-in-github",
        "colab_type": "text"
      },
      "source": [
        "<a href=\"https://colab.research.google.com/github/karmanandan/my_colab/blob/master/Linear_Regression_with_Numpy_and_PyTorch.ipynb\" target=\"_parent\"><img src=\"https://colab.research.google.com/assets/colab-badge.svg\" alt=\"Open In Colab\"/></a>"
      ]
    },
    {
      "cell_type": "markdown",
      "metadata": {
        "id": "puGwKHh3Nrlc"
      },
      "source": [
        "# Linear Regrerssion with Numpy"
      ]
    },
    {
      "cell_type": "code",
      "metadata": {
        "id": "MCnuTWIsNs8y"
      },
      "source": [
        "# Import Required libraries"
      ],
      "execution_count": null,
      "outputs": []
    },
    {
      "cell_type": "code",
      "metadata": {
        "id": "epiRA11BNyQ-"
      },
      "source": [
        "import numpy as np\n",
        "import matplotlib.pyplot as plt\n",
        "from sklearn.metrics import mean_squared_error"
      ],
      "execution_count": null,
      "outputs": []
    },
    {
      "cell_type": "code",
      "metadata": {
        "id": "OB3Lj50GN3s5"
      },
      "source": [
        "class LinearRegression:\n",
        "\n",
        "    def __init__(self, learning_rate=0.001, n_iters=10000):\n",
        "        self.lr = learning_rate\n",
        "        self.n_iters = n_iters\n",
        "        self.weights = None\n",
        "        self.bias = None\n",
        "\n",
        "    def fit(self, X, y):\n",
        "        n_samples, n_features = X.shape\n",
        "\n",
        "        # init parameters\n",
        "        self.weights = np.zeros(n_features)\n",
        "        self.bias = 0\n",
        "\n",
        "        # gradient descent\n",
        "        for _ in range(self.n_iters):\n",
        "            y_predicted = np.dot(X, self.weights) + self.bias\n",
        "            # compute gradients\n",
        "            dw = (1 / n_samples) * np.dot(X.T, (y_predicted - y))\n",
        "            db = (1 / n_samples) * np.sum(y_predicted - y)\n",
        "\n",
        "            # update parameters\n",
        "            self.weights -= self.lr * dw\n",
        "            self.bias -= self.lr * db\n",
        " \n",
        "\n",
        "    def predict(self, X):\n",
        "        # dot product of X_test and trained weights\n",
        "        y_approximated = np.dot(X, self.weights) + self.bias\n",
        "        return y_approximated\n",
        "\n",
        "    def rmse(self, predictions, targets):\n",
        "      return np.sqrt(((predictions - targets) ** 2).mean())"
      ],
      "execution_count": null,
      "outputs": []
    },
    {
      "cell_type": "code",
      "metadata": {
        "id": "ByBg9E9DOWOY"
      },
      "source": [
        "# load model\n",
        "lr = LinearRegression()"
      ],
      "execution_count": null,
      "outputs": []
    },
    {
      "cell_type": "code",
      "metadata": {
        "id": "6teuYvkSOeAn"
      },
      "source": [
        "# create dummy to test\n",
        "X = np.array([[1, 1], [1, 2], [2, 2], [2, 3]])\n",
        "y = np.dot(X, np.array([1, 2])) + 3"
      ],
      "execution_count": null,
      "outputs": []
    },
    {
      "cell_type": "code",
      "metadata": {
        "id": "wYY_O9i6OkQh"
      },
      "source": [
        "# fit the model\n",
        "lr.fit(X,y)"
      ],
      "execution_count": null,
      "outputs": []
    },
    {
      "cell_type": "code",
      "metadata": {
        "colab": {
          "base_uri": "https://localhost:8080/"
        },
        "id": "T-Rr5frkOp8Q",
        "outputId": "ad04318c-bb6a-49db-dbf1-ccdefa98399b"
      },
      "source": [
        "# predict the train data\n",
        "predict = lr.predict(X)\n",
        "predict"
      ],
      "execution_count": null,
      "outputs": [
        {
          "output_type": "execute_result",
          "data": {
            "text/plain": [
              "array([ 5.63264689,  7.72018347,  9.14303192, 11.2305685 ])"
            ]
          },
          "metadata": {},
          "execution_count": 7
        }
      ]
    },
    {
      "cell_type": "code",
      "metadata": {
        "colab": {
          "base_uri": "https://localhost:8080/"
        },
        "id": "02Qj3RvvOuJA",
        "outputId": "d53a063c-8753-40eb-f02a-6cf112c5c13e"
      },
      "source": [
        "# original values\n",
        "y"
      ],
      "execution_count": null,
      "outputs": [
        {
          "output_type": "execute_result",
          "data": {
            "text/plain": [
              "array([ 6,  8,  9, 11])"
            ]
          },
          "metadata": {},
          "execution_count": 8
        }
      ]
    },
    {
      "cell_type": "code",
      "metadata": {
        "colab": {
          "base_uri": "https://localhost:8080/"
        },
        "id": "_AI9xrCGV2lk",
        "outputId": "1f7a526e-cf61-46cd-dc22-885bbd46330f"
      },
      "source": [
        "lr.rmse(predict,y)"
      ],
      "execution_count": null,
      "outputs": [
        {
          "output_type": "execute_result",
          "data": {
            "text/plain": [
              "0.2677991577497642"
            ]
          },
          "metadata": {},
          "execution_count": 9
        }
      ]
    },
    {
      "cell_type": "code",
      "metadata": {
        "id": "HMlwAJHlRj_v"
      },
      "source": [
        "# test2:\n",
        "X_test = np.array([[2, 5], [2, 7], [3, 4], [3, 7]])\n",
        "y_test = np.dot(X, np.array([2, 4])) + 3"
      ],
      "execution_count": null,
      "outputs": []
    },
    {
      "cell_type": "code",
      "metadata": {
        "colab": {
          "base_uri": "https://localhost:8080/"
        },
        "id": "Lu61h8neR3s2",
        "outputId": "ad93afed-ef87-40d2-8c00-7f3d401579c4"
      },
      "source": [
        "y_test"
      ],
      "execution_count": null,
      "outputs": [
        {
          "output_type": "execute_result",
          "data": {
            "text/plain": [
              "array([ 9, 13, 15, 19])"
            ]
          },
          "metadata": {},
          "execution_count": 11
        }
      ]
    },
    {
      "cell_type": "code",
      "metadata": {
        "colab": {
          "base_uri": "https://localhost:8080/"
        },
        "id": "8TG-0xG2R7U3",
        "outputId": "28654c7f-aad6-44bf-9fc1-937dc56640c3"
      },
      "source": [
        "predict_test = lr.predict(X_test)\n",
        "predict_test"
      ],
      "execution_count": null,
      "outputs": [
        {
          "output_type": "execute_result",
          "data": {
            "text/plain": [
              "array([15.40564166, 19.58071482, 14.74095352, 21.00356326])"
            ]
          },
          "metadata": {},
          "execution_count": 12
        }
      ]
    },
    {
      "cell_type": "code",
      "metadata": {
        "colab": {
          "base_uri": "https://localhost:8080/"
        },
        "id": "j88c0g6OWHSo",
        "outputId": "3d078ebf-e9ec-4f2c-b20e-e296e3fa52d9"
      },
      "source": [
        "lr.rmse(predict_test,y_test)"
      ],
      "execution_count": null,
      "outputs": [
        {
          "output_type": "execute_result",
          "data": {
            "text/plain": [
              "4.701580144293446"
            ]
          },
          "metadata": {},
          "execution_count": 13
        }
      ]
    },
    {
      "cell_type": "code",
      "metadata": {
        "colab": {
          "base_uri": "https://localhost:8080/"
        },
        "id": "Dt12RetVVYtt",
        "outputId": "6bf8c79e-2b62-42d7-817f-374bcda0c242"
      },
      "source": [
        "mean_squared_error(y_test, predict_test,squared=False)"
      ],
      "execution_count": null,
      "outputs": [
        {
          "output_type": "execute_result",
          "data": {
            "text/plain": [
              "4.701580144293446"
            ]
          },
          "metadata": {},
          "execution_count": 14
        }
      ]
    },
    {
      "cell_type": "code",
      "metadata": {
        "id": "TI21OL_AP0Vv"
      },
      "source": [
        "# verify with sklearn "
      ],
      "execution_count": null,
      "outputs": []
    },
    {
      "cell_type": "code",
      "metadata": {
        "colab": {
          "base_uri": "https://localhost:8080/"
        },
        "id": "s0TcVDlUREov",
        "outputId": "85a961aa-0a47-4bb7-a77e-ccbd10e2e25b"
      },
      "source": [
        "from sklearn.linear_model import LinearRegression\n",
        "\n",
        "lr_model = LinearRegression().fit(X,y)\n",
        "lr_model.score(X, y)"
      ],
      "execution_count": null,
      "outputs": [
        {
          "output_type": "execute_result",
          "data": {
            "text/plain": [
              "1.0"
            ]
          },
          "metadata": {},
          "execution_count": 16
        }
      ]
    },
    {
      "cell_type": "code",
      "metadata": {
        "colab": {
          "base_uri": "https://localhost:8080/"
        },
        "id": "VOCA3PJ1RVMY",
        "outputId": "fe7bb0ec-f77c-4a09-89d8-ce160b0bce20"
      },
      "source": [
        "lr_model_pred = lr_model.predict(X_test)\n",
        "lr_model_pred"
      ],
      "execution_count": null,
      "outputs": [
        {
          "output_type": "execute_result",
          "data": {
            "text/plain": [
              "array([15., 19., 14., 20.])"
            ]
          },
          "metadata": {},
          "execution_count": 17
        }
      ]
    },
    {
      "cell_type": "code",
      "metadata": {
        "colab": {
          "base_uri": "https://localhost:8080/"
        },
        "id": "HGb-4U_oTRUM",
        "outputId": "299d7727-e8b5-4f36-aeda-bd59308bd5c7"
      },
      "source": [
        "mean_squared_error(y_test, lr_model_pred,squared=False)"
      ],
      "execution_count": null,
      "outputs": [
        {
          "output_type": "execute_result",
          "data": {
            "text/plain": [
              "4.30116263352131"
            ]
          },
          "metadata": {},
          "execution_count": 18
        }
      ]
    },
    {
      "cell_type": "code",
      "metadata": {
        "id": "fKesNrSbXZSP"
      },
      "source": [
        ""
      ],
      "execution_count": null,
      "outputs": []
    },
    {
      "cell_type": "markdown",
      "metadata": {
        "id": "mk3jdw8gXdu1"
      },
      "source": [
        "# Linear Regression with Torch"
      ]
    },
    {
      "cell_type": "code",
      "metadata": {
        "id": "mcvOw3NdXg6r"
      },
      "source": [
        "import torch\n",
        "import torch.nn as nn\n",
        "from sklearn import datasets"
      ],
      "execution_count": null,
      "outputs": []
    },
    {
      "cell_type": "code",
      "metadata": {
        "colab": {
          "base_uri": "https://localhost:8080/",
          "height": 1000
        },
        "id": "6_AbBTFEXhZF",
        "outputId": "000b84e3-7811-421c-9aef-e57711044eda"
      },
      "source": [
        "X_numpy, y_numpy = datasets.make_regression(n_samples=1000, n_features=1, noise=20,\n",
        "                                            random_state=0)\n",
        "X = torch.from_numpy(X_numpy.astype('float32'))\n",
        "y = torch.from_numpy(y_numpy.astype('float32'))\n",
        "\n",
        "y = y.view(y.shape[0],1)\n",
        "\n",
        "n_samples, n_features = X.shape\n",
        "\n",
        "input_size = n_features\n",
        "output_size = 1\n",
        "\n",
        "model = nn.Linear(input_size, output_size)\n",
        "\n",
        "learning_rate = 0.001\n",
        "loss_criterion = nn.MSELoss()\n",
        "optimizer = torch.optim.SGD(model.parameters(), lr=learning_rate)\n",
        "num_epochs = 1000\n",
        "\n",
        "for i in range(num_epochs):\n",
        "  y_predicted = model(X)\n",
        "  loss = loss_criterion(y_predicted,y)\n",
        "\n",
        "  loss.backward()\n",
        "  optimizer.step()\n",
        "\n",
        "  optimizer.zero_grad()\n",
        "\n",
        "  if (i+1)%10==0:\n",
        "    print(f'Epoch {i+1}, Loss {loss.item():.4f}')\n",
        "\n",
        "predicted = model(X).detach().numpy()\n",
        "\n",
        "plt.plot(X_numpy, y_numpy, 'ro')\n",
        "plt.plot(X_numpy, predicted, 'b')\n",
        "plt.show()"
      ],
      "execution_count": null,
      "outputs": [
        {
          "output_type": "stream",
          "name": "stdout",
          "text": [
            "Epoch 10, Loss 6895.7651\n",
            "Epoch 20, Loss 6646.0420\n",
            "Epoch 30, Loss 6405.9312\n",
            "Epoch 40, Loss 6175.0605\n",
            "Epoch 50, Loss 5953.0737\n",
            "Epoch 60, Loss 5739.6279\n",
            "Epoch 70, Loss 5534.3955\n",
            "Epoch 80, Loss 5337.0586\n",
            "Epoch 90, Loss 5147.3125\n",
            "Epoch 100, Loss 4964.8652\n",
            "Epoch 110, Loss 4789.4346\n",
            "Epoch 120, Loss 4620.7515\n",
            "Epoch 130, Loss 4458.5547\n",
            "Epoch 140, Loss 4302.5952\n",
            "Epoch 150, Loss 4152.6313\n",
            "Epoch 160, Loss 4008.4331\n",
            "Epoch 170, Loss 3869.7781\n",
            "Epoch 180, Loss 3736.4526\n",
            "Epoch 190, Loss 3608.2520\n",
            "Epoch 200, Loss 3484.9780\n",
            "Epoch 210, Loss 3366.4417\n",
            "Epoch 220, Loss 3252.4602\n",
            "Epoch 230, Loss 3142.8584\n",
            "Epoch 240, Loss 3037.4670\n",
            "Epoch 250, Loss 2936.1243\n",
            "Epoch 260, Loss 2838.6746\n",
            "Epoch 270, Loss 2744.9683\n",
            "Epoch 280, Loss 2654.8601\n",
            "Epoch 290, Loss 2568.2131\n",
            "Epoch 300, Loss 2484.8933\n",
            "Epoch 310, Loss 2404.7725\n",
            "Epoch 320, Loss 2327.7275\n",
            "Epoch 330, Loss 2253.6409\n",
            "Epoch 340, Loss 2182.3982\n",
            "Epoch 350, Loss 2113.8899\n",
            "Epoch 360, Loss 2048.0110\n",
            "Epoch 370, Loss 1984.6609\n",
            "Epoch 380, Loss 1923.7412\n",
            "Epoch 390, Loss 1865.1591\n",
            "Epoch 400, Loss 1808.8240\n",
            "Epoch 410, Loss 1754.6506\n",
            "Epoch 420, Loss 1702.5557\n",
            "Epoch 430, Loss 1652.4590\n",
            "Epoch 440, Loss 1604.2834\n",
            "Epoch 450, Loss 1557.9564\n",
            "Epoch 460, Loss 1513.4052\n",
            "Epoch 470, Loss 1470.5624\n",
            "Epoch 480, Loss 1429.3623\n",
            "Epoch 490, Loss 1389.7415\n",
            "Epoch 500, Loss 1351.6398\n",
            "Epoch 510, Loss 1314.9988\n",
            "Epoch 520, Loss 1279.7622\n",
            "Epoch 530, Loss 1245.8756\n",
            "Epoch 540, Loss 1213.2882\n",
            "Epoch 550, Loss 1181.9495\n",
            "Epoch 560, Loss 1151.8120\n",
            "Epoch 570, Loss 1122.8287\n",
            "Epoch 580, Loss 1094.9562\n",
            "Epoch 590, Loss 1068.1510\n",
            "Epoch 600, Loss 1042.3729\n",
            "Epoch 610, Loss 1017.5820\n",
            "Epoch 620, Loss 993.7405\n",
            "Epoch 630, Loss 970.8120\n",
            "Epoch 640, Loss 948.7617\n",
            "Epoch 650, Loss 927.5555\n",
            "Epoch 660, Loss 907.1611\n",
            "Epoch 670, Loss 887.5476\n",
            "Epoch 680, Loss 868.6849\n",
            "Epoch 690, Loss 850.5442\n",
            "Epoch 700, Loss 833.0978\n",
            "Epoch 710, Loss 816.3193\n",
            "Epoch 720, Loss 800.1826\n",
            "Epoch 730, Loss 784.6635\n",
            "Epoch 740, Loss 769.7380\n",
            "Epoch 750, Loss 755.3835\n",
            "Epoch 760, Loss 741.5784\n",
            "Epoch 770, Loss 728.3012\n",
            "Epoch 780, Loss 715.5317\n",
            "Epoch 790, Loss 703.2510\n",
            "Epoch 800, Loss 691.4396\n",
            "Epoch 810, Loss 680.0800\n",
            "Epoch 820, Loss 669.1545\n",
            "Epoch 830, Loss 658.6469\n",
            "Epoch 840, Loss 648.5413\n",
            "Epoch 850, Loss 638.8221\n",
            "Epoch 860, Loss 629.4739\n",
            "Epoch 870, Loss 620.4830\n",
            "Epoch 880, Loss 611.8356\n",
            "Epoch 890, Loss 603.5188\n",
            "Epoch 900, Loss 595.5200\n",
            "Epoch 910, Loss 587.8267\n",
            "Epoch 920, Loss 580.4273\n",
            "Epoch 930, Loss 573.3105\n",
            "Epoch 940, Loss 566.4656\n",
            "Epoch 950, Loss 559.8824\n",
            "Epoch 960, Loss 553.5505\n",
            "Epoch 970, Loss 547.4605\n",
            "Epoch 980, Loss 541.6030\n",
            "Epoch 990, Loss 535.9692\n",
            "Epoch 1000, Loss 530.5506\n"
          ]
        },
        {
          "output_type": "display_data",
          "data": {
            "image/png": "[encoded data removed]",
            "text/plain": [
              "<Figure size 432x288 with 1 Axes>"
            ]
          },
          "metadata": {
            "needs_background": "light"
          }
        }
      ]
    },
    {
      "cell_type": "code",
      "metadata": {
        "id": "di8sWuu-bmrm"
      },
      "source": [
        ""
      ],
      "execution_count": null,
      "outputs": []
    }
  ]
}