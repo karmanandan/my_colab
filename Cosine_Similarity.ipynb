{
  "nbformat": 4,
  "nbformat_minor": 0,
  "metadata": {
    "colab": {
      "name": "Cosine_Similarity.ipynb",
      "provenance": [],
      "toc_visible": true,
      "machine_shape": "hm",
      "include_colab_link": true
    },
    "kernelspec": {
      "name": "python3",
      "display_name": "Python 3"
    },
    "widgets": {
      "application/vnd.jupyter.widget-state+json": {
        "cf95c425dcf24a1ba18c61d2d7e16695": {
          "model_module": "@jupyter-widgets/controls",
          "model_name": "HBoxModel",
          "state": {
            "_view_name": "HBoxView",
            "_dom_classes": [],
            "_model_name": "HBoxModel",
            "_view_module": "@jupyter-widgets/controls",
            "_model_module_version": "1.5.0",
            "_view_count": null,
            "_view_module_version": "1.5.0",
            "box_style": "",
            "layout": "IPY_MODEL_c66a22213c434b0791fad2931eb2b49f",
            "_model_module": "@jupyter-widgets/controls",
            "children": [
              "IPY_MODEL_1eee63bc6dfb449fac9792771f7550e7",
              "IPY_MODEL_aa78b1db2d814ab98aef4be803e958e5"
            ]
          }
        },
        "c66a22213c434b0791fad2931eb2b49f": {
          "model_module": "@jupyter-widgets/base",
          "model_name": "LayoutModel",
          "state": {
            "_view_name": "LayoutView",
            "grid_template_rows": null,
            "right": null,
            "justify_content": null,
            "_view_module": "@jupyter-widgets/base",
            "overflow": null,
            "_model_module_version": "1.2.0",
            "_view_count": null,
            "flex_flow": null,
            "width": null,
            "min_width": null,
            "border": null,
            "align_items": null,
            "bottom": null,
            "_model_module": "@jupyter-widgets/base",
            "top": null,
            "grid_column": null,
            "overflow_y": null,
            "overflow_x": null,
            "grid_auto_flow": null,
            "grid_area": null,
            "grid_template_columns": null,
            "flex": null,
            "_model_name": "LayoutModel",
            "justify_items": null,
            "grid_row": null,
            "max_height": null,
            "align_content": null,
            "visibility": null,
            "align_self": null,
            "height": null,
            "min_height": null,
            "padding": null,
            "grid_auto_rows": null,
            "grid_gap": null,
            "max_width": null,
            "order": null,
            "_view_module_version": "1.2.0",
            "grid_template_areas": null,
            "object_position": null,
            "object_fit": null,
            "grid_auto_columns": null,
            "margin": null,
            "display": null,
            "left": null
          }
        },
        "1eee63bc6dfb449fac9792771f7550e7": {
          "model_module": "@jupyter-widgets/controls",
          "model_name": "IntProgressModel",
          "state": {
            "_view_name": "ProgressView",
            "style": "IPY_MODEL_65bdf26564744e54a0bd364f02604cb1",
            "_dom_classes": [],
            "description": " 35%",
            "_model_name": "IntProgressModel",
            "bar_style": "",
            "max": 1000,
            "_view_module": "@jupyter-widgets/controls",
            "_model_module_version": "1.5.0",
            "value": 347,
            "_view_count": null,
            "_view_module_version": "1.5.0",
            "orientation": "horizontal",
            "min": 0,
            "description_tooltip": null,
            "_model_module": "@jupyter-widgets/controls",
            "layout": "IPY_MODEL_bdf548d748054a59ab5fdd220979db2d"
          }
        },
        "aa78b1db2d814ab98aef4be803e958e5": {
          "model_module": "@jupyter-widgets/controls",
          "model_name": "HTMLModel",
          "state": {
            "_view_name": "HTMLView",
            "style": "IPY_MODEL_0828e26c069644d5a728add416a832e9",
            "_dom_classes": [],
            "description": "",
            "_model_name": "HTMLModel",
            "placeholder": "​",
            "_view_module": "@jupyter-widgets/controls",
            "_model_module_version": "1.5.0",
            "value": " 347/1000 [05:04&lt;09:13,  1.18it/s]",
            "_view_count": null,
            "_view_module_version": "1.5.0",
            "description_tooltip": null,
            "_model_module": "@jupyter-widgets/controls",
            "layout": "IPY_MODEL_e74f049b0cd24698b29591655e66e1b8"
          }
        },
        "65bdf26564744e54a0bd364f02604cb1": {
          "model_module": "@jupyter-widgets/controls",
          "model_name": "ProgressStyleModel",
          "state": {
            "_view_name": "StyleView",
            "_model_name": "ProgressStyleModel",
            "description_width": "initial",
            "_view_module": "@jupyter-widgets/base",
            "_model_module_version": "1.5.0",
            "_view_count": null,
            "_view_module_version": "1.2.0",
            "bar_color": null,
            "_model_module": "@jupyter-widgets/controls"
          }
        },
        "bdf548d748054a59ab5fdd220979db2d": {
          "model_module": "@jupyter-widgets/base",
          "model_name": "LayoutModel",
          "state": {
            "_view_name": "LayoutView",
            "grid_template_rows": null,
            "right": null,
            "justify_content": null,
            "_view_module": "@jupyter-widgets/base",
            "overflow": null,
            "_model_module_version": "1.2.0",
            "_view_count": null,
            "flex_flow": null,
            "width": null,
            "min_width": null,
            "border": null,
            "align_items": null,
            "bottom": null,
            "_model_module": "@jupyter-widgets/base",
            "top": null,
            "grid_column": null,
            "overflow_y": null,
            "overflow_x": null,
            "grid_auto_flow": null,
            "grid_area": null,
            "grid_template_columns": null,
            "flex": null,
            "_model_name": "LayoutModel",
            "justify_items": null,
            "grid_row": null,
            "max_height": null,
            "align_content": null,
            "visibility": null,
            "align_self": null,
            "height": null,
            "min_height": null,
            "padding": null,
            "grid_auto_rows": null,
            "grid_gap": null,
            "max_width": null,
            "order": null,
            "_view_module_version": "1.2.0",
            "grid_template_areas": null,
            "object_position": null,
            "object_fit": null,
            "grid_auto_columns": null,
            "margin": null,
            "display": null,
            "left": null
          }
        },
        "0828e26c069644d5a728add416a832e9": {
          "model_module": "@jupyter-widgets/controls",
          "model_name": "DescriptionStyleModel",
          "state": {
            "_view_name": "StyleView",
            "_model_name": "DescriptionStyleModel",
            "description_width": "",
            "_view_module": "@jupyter-widgets/base",
            "_model_module_version": "1.5.0",
            "_view_count": null,
            "_view_module_version": "1.2.0",
            "_model_module": "@jupyter-widgets/controls"
          }
        },
        "e74f049b0cd24698b29591655e66e1b8": {
          "model_module": "@jupyter-widgets/base",
          "model_name": "LayoutModel",
          "state": {
            "_view_name": "LayoutView",
            "grid_template_rows": null,
            "right": null,
            "justify_content": null,
            "_view_module": "@jupyter-widgets/base",
            "overflow": null,
            "_model_module_version": "1.2.0",
            "_view_count": null,
            "flex_flow": null,
            "width": null,
            "min_width": null,
            "border": null,
            "align_items": null,
            "bottom": null,
            "_model_module": "@jupyter-widgets/base",
            "top": null,
            "grid_column": null,
            "overflow_y": null,
            "overflow_x": null,
            "grid_auto_flow": null,
            "grid_area": null,
            "grid_template_columns": null,
            "flex": null,
            "_model_name": "LayoutModel",
            "justify_items": null,
            "grid_row": null,
            "max_height": null,
            "align_content": null,
            "visibility": null,
            "align_self": null,
            "height": null,
            "min_height": null,
            "padding": null,
            "grid_auto_rows": null,
            "grid_gap": null,
            "max_width": null,
            "order": null,
            "_view_module_version": "1.2.0",
            "grid_template_areas": null,
            "object_position": null,
            "object_fit": null,
            "grid_auto_columns": null,
            "margin": null,
            "display": null,
            "left": null
          }
        },
        "6e3f7e6d7011408b9b9fbfa322e53f64": {
          "model_module": "@jupyter-widgets/controls",
          "model_name": "HBoxModel",
          "state": {
            "_view_name": "HBoxView",
            "_dom_classes": [],
            "_model_name": "HBoxModel",
            "_view_module": "@jupyter-widgets/controls",
            "_model_module_version": "1.5.0",
            "_view_count": null,
            "_view_module_version": "1.5.0",
            "box_style": "",
            "layout": "IPY_MODEL_0dd40838a2aa4fc4802a9133d572e4ab",
            "_model_module": "@jupyter-widgets/controls",
            "children": [
              "IPY_MODEL_9b6ea0f6d1fc40da9fc38fd017e43f73",
              "IPY_MODEL_6722b9535e654361bb20c7eb12e142c9"
            ]
          }
        },
        "0dd40838a2aa4fc4802a9133d572e4ab": {
          "model_module": "@jupyter-widgets/base",
          "model_name": "LayoutModel",
          "state": {
            "_view_name": "LayoutView",
            "grid_template_rows": null,
            "right": null,
            "justify_content": null,
            "_view_module": "@jupyter-widgets/base",
            "overflow": null,
            "_model_module_version": "1.2.0",
            "_view_count": null,
            "flex_flow": null,
            "width": null,
            "min_width": null,
            "border": null,
            "align_items": null,
            "bottom": null,
            "_model_module": "@jupyter-widgets/base",
            "top": null,
            "grid_column": null,
            "overflow_y": null,
            "overflow_x": null,
            "grid_auto_flow": null,
            "grid_area": null,
            "grid_template_columns": null,
            "flex": null,
            "_model_name": "LayoutModel",
            "justify_items": null,
            "grid_row": null,
            "max_height": null,
            "align_content": null,
            "visibility": null,
            "align_self": null,
            "height": null,
            "min_height": null,
            "padding": null,
            "grid_auto_rows": null,
            "grid_gap": null,
            "max_width": null,
            "order": null,
            "_view_module_version": "1.2.0",
            "grid_template_areas": null,
            "object_position": null,
            "object_fit": null,
            "grid_auto_columns": null,
            "margin": null,
            "display": null,
            "left": null
          }
        },
        "9b6ea0f6d1fc40da9fc38fd017e43f73": {
          "model_module": "@jupyter-widgets/controls",
          "model_name": "IntProgressModel",
          "state": {
            "_view_name": "ProgressView",
            "style": "IPY_MODEL_54994b55efd4417bbfacb8a04d1d424b",
            "_dom_classes": [],
            "description": "100%",
            "_model_name": "IntProgressModel",
            "bar_style": "success",
            "max": 100,
            "_view_module": "@jupyter-widgets/controls",
            "_model_module_version": "1.5.0",
            "value": 100,
            "_view_count": null,
            "_view_module_version": "1.5.0",
            "orientation": "horizontal",
            "min": 0,
            "description_tooltip": null,
            "_model_module": "@jupyter-widgets/controls",
            "layout": "IPY_MODEL_a45829616dbc4eeebe5ad2eb8162a987"
          }
        },
        "6722b9535e654361bb20c7eb12e142c9": {
          "model_module": "@jupyter-widgets/controls",
          "model_name": "HTMLModel",
          "state": {
            "_view_name": "HTMLView",
            "style": "IPY_MODEL_0787d02b6c814fb180ec3ae576011728",
            "_dom_classes": [],
            "description": "",
            "_model_name": "HTMLModel",
            "placeholder": "​",
            "_view_module": "@jupyter-widgets/controls",
            "_model_module_version": "1.5.0",
            "value": " 100/100 [00:23&lt;00:00,  4.33it/s]",
            "_view_count": null,
            "_view_module_version": "1.5.0",
            "description_tooltip": null,
            "_model_module": "@jupyter-widgets/controls",
            "layout": "IPY_MODEL_3c29046f631f459aab2e098a16c339ff"
          }
        },
        "54994b55efd4417bbfacb8a04d1d424b": {
          "model_module": "@jupyter-widgets/controls",
          "model_name": "ProgressStyleModel",
          "state": {
            "_view_name": "StyleView",
            "_model_name": "ProgressStyleModel",
            "description_width": "initial",
            "_view_module": "@jupyter-widgets/base",
            "_model_module_version": "1.5.0",
            "_view_count": null,
            "_view_module_version": "1.2.0",
            "bar_color": null,
            "_model_module": "@jupyter-widgets/controls"
          }
        },
        "a45829616dbc4eeebe5ad2eb8162a987": {
          "model_module": "@jupyter-widgets/base",
          "model_name": "LayoutModel",
          "state": {
            "_view_name": "LayoutView",
            "grid_template_rows": null,
            "right": null,
            "justify_content": null,
            "_view_module": "@jupyter-widgets/base",
            "overflow": null,
            "_model_module_version": "1.2.0",
            "_view_count": null,
            "flex_flow": null,
            "width": null,
            "min_width": null,
            "border": null,
            "align_items": null,
            "bottom": null,
            "_model_module": "@jupyter-widgets/base",
            "top": null,
            "grid_column": null,
            "overflow_y": null,
            "overflow_x": null,
            "grid_auto_flow": null,
            "grid_area": null,
            "grid_template_columns": null,
            "flex": null,
            "_model_name": "LayoutModel",
            "justify_items": null,
            "grid_row": null,
            "max_height": null,
            "align_content": null,
            "visibility": null,
            "align_self": null,
            "height": null,
            "min_height": null,
            "padding": null,
            "grid_auto_rows": null,
            "grid_gap": null,
            "max_width": null,
            "order": null,
            "_view_module_version": "1.2.0",
            "grid_template_areas": null,
            "object_position": null,
            "object_fit": null,
            "grid_auto_columns": null,
            "margin": null,
            "display": null,
            "left": null
          }
        },
        "0787d02b6c814fb180ec3ae576011728": {
          "model_module": "@jupyter-widgets/controls",
          "model_name": "DescriptionStyleModel",
          "state": {
            "_view_name": "StyleView",
            "_model_name": "DescriptionStyleModel",
            "description_width": "",
            "_view_module": "@jupyter-widgets/base",
            "_model_module_version": "1.5.0",
            "_view_count": null,
            "_view_module_version": "1.2.0",
            "_model_module": "@jupyter-widgets/controls"
          }
        },
        "3c29046f631f459aab2e098a16c339ff": {
          "model_module": "@jupyter-widgets/base",
          "model_name": "LayoutModel",
          "state": {
            "_view_name": "LayoutView",
            "grid_template_rows": null,
            "right": null,
            "justify_content": null,
            "_view_module": "@jupyter-widgets/base",
            "overflow": null,
            "_model_module_version": "1.2.0",
            "_view_count": null,
            "flex_flow": null,
            "width": null,
            "min_width": null,
            "border": null,
            "align_items": null,
            "bottom": null,
            "_model_module": "@jupyter-widgets/base",
            "top": null,
            "grid_column": null,
            "overflow_y": null,
            "overflow_x": null,
            "grid_auto_flow": null,
            "grid_area": null,
            "grid_template_columns": null,
            "flex": null,
            "_model_name": "LayoutModel",
            "justify_items": null,
            "grid_row": null,
            "max_height": null,
            "align_content": null,
            "visibility": null,
            "align_self": null,
            "height": null,
            "min_height": null,
            "padding": null,
            "grid_auto_rows": null,
            "grid_gap": null,
            "max_width": null,
            "order": null,
            "_view_module_version": "1.2.0",
            "grid_template_areas": null,
            "object_position": null,
            "object_fit": null,
            "grid_auto_columns": null,
            "margin": null,
            "display": null,
            "left": null
          }
        },
        "c1eab38c8dfd46f38348858f515a627f": {
          "model_module": "@jupyter-widgets/controls",
          "model_name": "HBoxModel",
          "state": {
            "_view_name": "HBoxView",
            "_dom_classes": [],
            "_model_name": "HBoxModel",
            "_view_module": "@jupyter-widgets/controls",
            "_model_module_version": "1.5.0",
            "_view_count": null,
            "_view_module_version": "1.5.0",
            "box_style": "",
            "layout": "IPY_MODEL_f6b1d70c82374920adaac4e8deff3b50",
            "_model_module": "@jupyter-widgets/controls",
            "children": [
              "IPY_MODEL_b33783ab4dc746e8b86efcd2e51b40ef",
              "IPY_MODEL_9e872aec60e148019d0932f5d4c4df49"
            ]
          }
        },
        "f6b1d70c82374920adaac4e8deff3b50": {
          "model_module": "@jupyter-widgets/base",
          "model_name": "LayoutModel",
          "state": {
            "_view_name": "LayoutView",
            "grid_template_rows": null,
            "right": null,
            "justify_content": null,
            "_view_module": "@jupyter-widgets/base",
            "overflow": null,
            "_model_module_version": "1.2.0",
            "_view_count": null,
            "flex_flow": null,
            "width": null,
            "min_width": null,
            "border": null,
            "align_items": null,
            "bottom": null,
            "_model_module": "@jupyter-widgets/base",
            "top": null,
            "grid_column": null,
            "overflow_y": null,
            "overflow_x": null,
            "grid_auto_flow": null,
            "grid_area": null,
            "grid_template_columns": null,
            "flex": null,
            "_model_name": "LayoutModel",
            "justify_items": null,
            "grid_row": null,
            "max_height": null,
            "align_content": null,
            "visibility": null,
            "align_self": null,
            "height": null,
            "min_height": null,
            "padding": null,
            "grid_auto_rows": null,
            "grid_gap": null,
            "max_width": null,
            "order": null,
            "_view_module_version": "1.2.0",
            "grid_template_areas": null,
            "object_position": null,
            "object_fit": null,
            "grid_auto_columns": null,
            "margin": null,
            "display": null,
            "left": null
          }
        },
        "b33783ab4dc746e8b86efcd2e51b40ef": {
          "model_module": "@jupyter-widgets/controls",
          "model_name": "IntProgressModel",
          "state": {
            "_view_name": "ProgressView",
            "style": "IPY_MODEL_466ea6fcb63949d791802544bdb9a49a",
            "_dom_classes": [],
            "description": "100%",
            "_model_name": "IntProgressModel",
            "bar_style": "success",
            "max": 97,
            "_view_module": "@jupyter-widgets/controls",
            "_model_module_version": "1.5.0",
            "value": 97,
            "_view_count": null,
            "_view_module_version": "1.5.0",
            "orientation": "horizontal",
            "min": 0,
            "description_tooltip": null,
            "_model_module": "@jupyter-widgets/controls",
            "layout": "IPY_MODEL_847cde01c83444d88e476bee3a16f30f"
          }
        },
        "9e872aec60e148019d0932f5d4c4df49": {
          "model_module": "@jupyter-widgets/controls",
          "model_name": "HTMLModel",
          "state": {
            "_view_name": "HTMLView",
            "style": "IPY_MODEL_79705f2faec24f9ab219f7ae967b8c21",
            "_dom_classes": [],
            "description": "",
            "_model_name": "HTMLModel",
            "placeholder": "​",
            "_view_module": "@jupyter-widgets/controls",
            "_model_module_version": "1.5.0",
            "value": " 97/97 [04:05&lt;00:00,  2.53s/it]",
            "_view_count": null,
            "_view_module_version": "1.5.0",
            "description_tooltip": null,
            "_model_module": "@jupyter-widgets/controls",
            "layout": "IPY_MODEL_2a71ff85fec24326920861452b5207df"
          }
        },
        "466ea6fcb63949d791802544bdb9a49a": {
          "model_module": "@jupyter-widgets/controls",
          "model_name": "ProgressStyleModel",
          "state": {
            "_view_name": "StyleView",
            "_model_name": "ProgressStyleModel",
            "description_width": "initial",
            "_view_module": "@jupyter-widgets/base",
            "_model_module_version": "1.5.0",
            "_view_count": null,
            "_view_module_version": "1.2.0",
            "bar_color": null,
            "_model_module": "@jupyter-widgets/controls"
          }
        },
        "847cde01c83444d88e476bee3a16f30f": {
          "model_module": "@jupyter-widgets/base",
          "model_name": "LayoutModel",
          "state": {
            "_view_name": "LayoutView",
            "grid_template_rows": null,
            "right": null,
            "justify_content": null,
            "_view_module": "@jupyter-widgets/base",
            "overflow": null,
            "_model_module_version": "1.2.0",
            "_view_count": null,
            "flex_flow": null,
            "width": null,
            "min_width": null,
            "border": null,
            "align_items": null,
            "bottom": null,
            "_model_module": "@jupyter-widgets/base",
            "top": null,
            "grid_column": null,
            "overflow_y": null,
            "overflow_x": null,
            "grid_auto_flow": null,
            "grid_area": null,
            "grid_template_columns": null,
            "flex": null,
            "_model_name": "LayoutModel",
            "justify_items": null,
            "grid_row": null,
            "max_height": null,
            "align_content": null,
            "visibility": null,
            "align_self": null,
            "height": null,
            "min_height": null,
            "padding": null,
            "grid_auto_rows": null,
            "grid_gap": null,
            "max_width": null,
            "order": null,
            "_view_module_version": "1.2.0",
            "grid_template_areas": null,
            "object_position": null,
            "object_fit": null,
            "grid_auto_columns": null,
            "margin": null,
            "display": null,
            "left": null
          }
        },
        "79705f2faec24f9ab219f7ae967b8c21": {
          "model_module": "@jupyter-widgets/controls",
          "model_name": "DescriptionStyleModel",
          "state": {
            "_view_name": "StyleView",
            "_model_name": "DescriptionStyleModel",
            "description_width": "",
            "_view_module": "@jupyter-widgets/base",
            "_model_module_version": "1.5.0",
            "_view_count": null,
            "_view_module_version": "1.2.0",
            "_model_module": "@jupyter-widgets/controls"
          }
        },
        "2a71ff85fec24326920861452b5207df": {
          "model_module": "@jupyter-widgets/base",
          "model_name": "LayoutModel",
          "state": {
            "_view_name": "LayoutView",
            "grid_template_rows": null,
            "right": null,
            "justify_content": null,
            "_view_module": "@jupyter-widgets/base",
            "overflow": null,
            "_model_module_version": "1.2.0",
            "_view_count": null,
            "flex_flow": null,
            "width": null,
            "min_width": null,
            "border": null,
            "align_items": null,
            "bottom": null,
            "_model_module": "@jupyter-widgets/base",
            "top": null,
            "grid_column": null,
            "overflow_y": null,
            "overflow_x": null,
            "grid_auto_flow": null,
            "grid_area": null,
            "grid_template_columns": null,
            "flex": null,
            "_model_name": "LayoutModel",
            "justify_items": null,
            "grid_row": null,
            "max_height": null,
            "align_content": null,
            "visibility": null,
            "align_self": null,
            "height": null,
            "min_height": null,
            "padding": null,
            "grid_auto_rows": null,
            "grid_gap": null,
            "max_width": null,
            "order": null,
            "_view_module_version": "1.2.0",
            "grid_template_areas": null,
            "object_position": null,
            "object_fit": null,
            "grid_auto_columns": null,
            "margin": null,
            "display": null,
            "left": null
          }
        },
        "f1701a9bc1a54f7195d3a6cc519ae1eb": {
          "model_module": "@jupyter-widgets/controls",
          "model_name": "HBoxModel",
          "state": {
            "_view_name": "HBoxView",
            "_dom_classes": [],
            "_model_name": "HBoxModel",
            "_view_module": "@jupyter-widgets/controls",
            "_model_module_version": "1.5.0",
            "_view_count": null,
            "_view_module_version": "1.5.0",
            "box_style": "",
            "layout": "IPY_MODEL_1521070666cb4126a91d85c977021b84",
            "_model_module": "@jupyter-widgets/controls",
            "children": [
              "IPY_MODEL_747c727d377847f3b2600ffe31ae90c6",
              "IPY_MODEL_90f8cb06e57e4f9facf47b087984287b"
            ]
          }
        },
        "1521070666cb4126a91d85c977021b84": {
          "model_module": "@jupyter-widgets/base",
          "model_name": "LayoutModel",
          "state": {
            "_view_name": "LayoutView",
            "grid_template_rows": null,
            "right": null,
            "justify_content": null,
            "_view_module": "@jupyter-widgets/base",
            "overflow": null,
            "_model_module_version": "1.2.0",
            "_view_count": null,
            "flex_flow": null,
            "width": null,
            "min_width": null,
            "border": null,
            "align_items": null,
            "bottom": null,
            "_model_module": "@jupyter-widgets/base",
            "top": null,
            "grid_column": null,
            "overflow_y": null,
            "overflow_x": null,
            "grid_auto_flow": null,
            "grid_area": null,
            "grid_template_columns": null,
            "flex": null,
            "_model_name": "LayoutModel",
            "justify_items": null,
            "grid_row": null,
            "max_height": null,
            "align_content": null,
            "visibility": null,
            "align_self": null,
            "height": null,
            "min_height": null,
            "padding": null,
            "grid_auto_rows": null,
            "grid_gap": null,
            "max_width": null,
            "order": null,
            "_view_module_version": "1.2.0",
            "grid_template_areas": null,
            "object_position": null,
            "object_fit": null,
            "grid_auto_columns": null,
            "margin": null,
            "display": null,
            "left": null
          }
        },
        "747c727d377847f3b2600ffe31ae90c6": {
          "model_module": "@jupyter-widgets/controls",
          "model_name": "IntProgressModel",
          "state": {
            "_view_name": "ProgressView",
            "style": "IPY_MODEL_9cb2d7ced3534a7eb1c38cb645c44a32",
            "_dom_classes": [],
            "description": "100%",
            "_model_name": "IntProgressModel",
            "bar_style": "success",
            "max": 94765,
            "_view_module": "@jupyter-widgets/controls",
            "_model_module_version": "1.5.0",
            "value": 94765,
            "_view_count": null,
            "_view_module_version": "1.5.0",
            "orientation": "horizontal",
            "min": 0,
            "description_tooltip": null,
            "_model_module": "@jupyter-widgets/controls",
            "layout": "IPY_MODEL_932579f8331540338b64d7f4ac8071f9"
          }
        },
        "90f8cb06e57e4f9facf47b087984287b": {
          "model_module": "@jupyter-widgets/controls",
          "model_name": "HTMLModel",
          "state": {
            "_view_name": "HTMLView",
            "style": "IPY_MODEL_bfd75c7cb8454186adcf8fe9d2b94252",
            "_dom_classes": [],
            "description": "",
            "_model_name": "HTMLModel",
            "placeholder": "​",
            "_view_module": "@jupyter-widgets/controls",
            "_model_module_version": "1.5.0",
            "value": " 94765/94765 [00:40&lt;00:00, 2336.26it/s]",
            "_view_count": null,
            "_view_module_version": "1.5.0",
            "description_tooltip": null,
            "_model_module": "@jupyter-widgets/controls",
            "layout": "IPY_MODEL_5349fc537f5944818861fef3a68c3cd7"
          }
        },
        "9cb2d7ced3534a7eb1c38cb645c44a32": {
          "model_module": "@jupyter-widgets/controls",
          "model_name": "ProgressStyleModel",
          "state": {
            "_view_name": "StyleView",
            "_model_name": "ProgressStyleModel",
            "description_width": "initial",
            "_view_module": "@jupyter-widgets/base",
            "_model_module_version": "1.5.0",
            "_view_count": null,
            "_view_module_version": "1.2.0",
            "bar_color": null,
            "_model_module": "@jupyter-widgets/controls"
          }
        },
        "932579f8331540338b64d7f4ac8071f9": {
          "model_module": "@jupyter-widgets/base",
          "model_name": "LayoutModel",
          "state": {
            "_view_name": "LayoutView",
            "grid_template_rows": null,
            "right": null,
            "justify_content": null,
            "_view_module": "@jupyter-widgets/base",
            "overflow": null,
            "_model_module_version": "1.2.0",
            "_view_count": null,
            "flex_flow": null,
            "width": null,
            "min_width": null,
            "border": null,
            "align_items": null,
            "bottom": null,
            "_model_module": "@jupyter-widgets/base",
            "top": null,
            "grid_column": null,
            "overflow_y": null,
            "overflow_x": null,
            "grid_auto_flow": null,
            "grid_area": null,
            "grid_template_columns": null,
            "flex": null,
            "_model_name": "LayoutModel",
            "justify_items": null,
            "grid_row": null,
            "max_height": null,
            "align_content": null,
            "visibility": null,
            "align_self": null,
            "height": null,
            "min_height": null,
            "padding": null,
            "grid_auto_rows": null,
            "grid_gap": null,
            "max_width": null,
            "order": null,
            "_view_module_version": "1.2.0",
            "grid_template_areas": null,
            "object_position": null,
            "object_fit": null,
            "grid_auto_columns": null,
            "margin": null,
            "display": null,
            "left": null
          }
        },
        "bfd75c7cb8454186adcf8fe9d2b94252": {
          "model_module": "@jupyter-widgets/controls",
          "model_name": "DescriptionStyleModel",
          "state": {
            "_view_name": "StyleView",
            "_model_name": "DescriptionStyleModel",
            "description_width": "",
            "_view_module": "@jupyter-widgets/base",
            "_model_module_version": "1.5.0",
            "_view_count": null,
            "_view_module_version": "1.2.0",
            "_model_module": "@jupyter-widgets/controls"
          }
        },
        "5349fc537f5944818861fef3a68c3cd7": {
          "model_module": "@jupyter-widgets/base",
          "model_name": "LayoutModel",
          "state": {
            "_view_name": "LayoutView",
            "grid_template_rows": null,
            "right": null,
            "justify_content": null,
            "_view_module": "@jupyter-widgets/base",
            "overflow": null,
            "_model_module_version": "1.2.0",
            "_view_count": null,
            "flex_flow": null,
            "width": null,
            "min_width": null,
            "border": null,
            "align_items": null,
            "bottom": null,
            "_model_module": "@jupyter-widgets/base",
            "top": null,
            "grid_column": null,
            "overflow_y": null,
            "overflow_x": null,
            "grid_auto_flow": null,
            "grid_area": null,
            "grid_template_columns": null,
            "flex": null,
            "_model_name": "LayoutModel",
            "justify_items": null,
            "grid_row": null,
            "max_height": null,
            "align_content": null,
            "visibility": null,
            "align_self": null,
            "height": null,
            "min_height": null,
            "padding": null,
            "grid_auto_rows": null,
            "grid_gap": null,
            "max_width": null,
            "order": null,
            "_view_module_version": "1.2.0",
            "grid_template_areas": null,
            "object_position": null,
            "object_fit": null,
            "grid_auto_columns": null,
            "margin": null,
            "display": null,
            "left": null
          }
        },
        "40bd3bdb50d14eec9a8677ec8dfe4617": {
          "model_module": "@jupyter-widgets/controls",
          "model_name": "HBoxModel",
          "state": {
            "_view_name": "HBoxView",
            "_dom_classes": [],
            "_model_name": "HBoxModel",
            "_view_module": "@jupyter-widgets/controls",
            "_model_module_version": "1.5.0",
            "_view_count": null,
            "_view_module_version": "1.5.0",
            "box_style": "",
            "layout": "IPY_MODEL_37816fe6386442ce8333a38444b9cbc8",
            "_model_module": "@jupyter-widgets/controls",
            "children": [
              "IPY_MODEL_226f95bf6d7f4b8ba34e4fa134163c65",
              "IPY_MODEL_c79d39cce8994f278117646263c6746d"
            ]
          }
        },
        "37816fe6386442ce8333a38444b9cbc8": {
          "model_module": "@jupyter-widgets/base",
          "model_name": "LayoutModel",
          "state": {
            "_view_name": "LayoutView",
            "grid_template_rows": null,
            "right": null,
            "justify_content": null,
            "_view_module": "@jupyter-widgets/base",
            "overflow": null,
            "_model_module_version": "1.2.0",
            "_view_count": null,
            "flex_flow": null,
            "width": null,
            "min_width": null,
            "border": null,
            "align_items": null,
            "bottom": null,
            "_model_module": "@jupyter-widgets/base",
            "top": null,
            "grid_column": null,
            "overflow_y": null,
            "overflow_x": null,
            "grid_auto_flow": null,
            "grid_area": null,
            "grid_template_columns": null,
            "flex": null,
            "_model_name": "LayoutModel",
            "justify_items": null,
            "grid_row": null,
            "max_height": null,
            "align_content": null,
            "visibility": null,
            "align_self": null,
            "height": null,
            "min_height": null,
            "padding": null,
            "grid_auto_rows": null,
            "grid_gap": null,
            "max_width": null,
            "order": null,
            "_view_module_version": "1.2.0",
            "grid_template_areas": null,
            "object_position": null,
            "object_fit": null,
            "grid_auto_columns": null,
            "margin": null,
            "display": null,
            "left": null
          }
        },
        "226f95bf6d7f4b8ba34e4fa134163c65": {
          "model_module": "@jupyter-widgets/controls",
          "model_name": "IntProgressModel",
          "state": {
            "_view_name": "ProgressView",
            "style": "IPY_MODEL_718ce9404de04165bb84856b3abb803b",
            "_dom_classes": [],
            "description": "100%",
            "_model_name": "IntProgressModel",
            "bar_style": "success",
            "max": 97,
            "_view_module": "@jupyter-widgets/controls",
            "_model_module_version": "1.5.0",
            "value": 97,
            "_view_count": null,
            "_view_module_version": "1.5.0",
            "orientation": "horizontal",
            "min": 0,
            "description_tooltip": null,
            "_model_module": "@jupyter-widgets/controls",
            "layout": "IPY_MODEL_7b1ba1be5411405f95690f9918a49bee"
          }
        },
        "c79d39cce8994f278117646263c6746d": {
          "model_module": "@jupyter-widgets/controls",
          "model_name": "HTMLModel",
          "state": {
            "_view_name": "HTMLView",
            "style": "IPY_MODEL_657645359dd744ec9c2fda4743b0a32f",
            "_dom_classes": [],
            "description": "",
            "_model_name": "HTMLModel",
            "placeholder": "​",
            "_view_module": "@jupyter-widgets/controls",
            "_model_module_version": "1.5.0",
            "value": " 97/97 [01:14&lt;00:00,  1.30it/s]",
            "_view_count": null,
            "_view_module_version": "1.5.0",
            "description_tooltip": null,
            "_model_module": "@jupyter-widgets/controls",
            "layout": "IPY_MODEL_24fcff01e5244331981f82b57d35be26"
          }
        },
        "718ce9404de04165bb84856b3abb803b": {
          "model_module": "@jupyter-widgets/controls",
          "model_name": "ProgressStyleModel",
          "state": {
            "_view_name": "StyleView",
            "_model_name": "ProgressStyleModel",
            "description_width": "initial",
            "_view_module": "@jupyter-widgets/base",
            "_model_module_version": "1.5.0",
            "_view_count": null,
            "_view_module_version": "1.2.0",
            "bar_color": null,
            "_model_module": "@jupyter-widgets/controls"
          }
        },
        "7b1ba1be5411405f95690f9918a49bee": {
          "model_module": "@jupyter-widgets/base",
          "model_name": "LayoutModel",
          "state": {
            "_view_name": "LayoutView",
            "grid_template_rows": null,
            "right": null,
            "justify_content": null,
            "_view_module": "@jupyter-widgets/base",
            "overflow": null,
            "_model_module_version": "1.2.0",
            "_view_count": null,
            "flex_flow": null,
            "width": null,
            "min_width": null,
            "border": null,
            "align_items": null,
            "bottom": null,
            "_model_module": "@jupyter-widgets/base",
            "top": null,
            "grid_column": null,
            "overflow_y": null,
            "overflow_x": null,
            "grid_auto_flow": null,
            "grid_area": null,
            "grid_template_columns": null,
            "flex": null,
            "_model_name": "LayoutModel",
            "justify_items": null,
            "grid_row": null,
            "max_height": null,
            "align_content": null,
            "visibility": null,
            "align_self": null,
            "height": null,
            "min_height": null,
            "padding": null,
            "grid_auto_rows": null,
            "grid_gap": null,
            "max_width": null,
            "order": null,
            "_view_module_version": "1.2.0",
            "grid_template_areas": null,
            "object_position": null,
            "object_fit": null,
            "grid_auto_columns": null,
            "margin": null,
            "display": null,
            "left": null
          }
        },
        "657645359dd744ec9c2fda4743b0a32f": {
          "model_module": "@jupyter-widgets/controls",
          "model_name": "DescriptionStyleModel",
          "state": {
            "_view_name": "StyleView",
            "_model_name": "DescriptionStyleModel",
            "description_width": "",
            "_view_module": "@jupyter-widgets/base",
            "_model_module_version": "1.5.0",
            "_view_count": null,
            "_view_module_version": "1.2.0",
            "_model_module": "@jupyter-widgets/controls"
          }
        },
        "24fcff01e5244331981f82b57d35be26": {
          "model_module": "@jupyter-widgets/base",
          "model_name": "LayoutModel",
          "state": {
            "_view_name": "LayoutView",
            "grid_template_rows": null,
            "right": null,
            "justify_content": null,
            "_view_module": "@jupyter-widgets/base",
            "overflow": null,
            "_model_module_version": "1.2.0",
            "_view_count": null,
            "flex_flow": null,
            "width": null,
            "min_width": null,
            "border": null,
            "align_items": null,
            "bottom": null,
            "_model_module": "@jupyter-widgets/base",
            "top": null,
            "grid_column": null,
            "overflow_y": null,
            "overflow_x": null,
            "grid_auto_flow": null,
            "grid_area": null,
            "grid_template_columns": null,
            "flex": null,
            "_model_name": "LayoutModel",
            "justify_items": null,
            "grid_row": null,
            "max_height": null,
            "align_content": null,
            "visibility": null,
            "align_self": null,
            "height": null,
            "min_height": null,
            "padding": null,
            "grid_auto_rows": null,
            "grid_gap": null,
            "max_width": null,
            "order": null,
            "_view_module_version": "1.2.0",
            "grid_template_areas": null,
            "object_position": null,
            "object_fit": null,
            "grid_auto_columns": null,
            "margin": null,
            "display": null,
            "left": null
          }
        },
        "2b7bd384a6184a048c310c1d8b148dbf": {
          "model_module": "@jupyter-widgets/controls",
          "model_name": "HBoxModel",
          "state": {
            "_view_name": "HBoxView",
            "_dom_classes": [],
            "_model_name": "HBoxModel",
            "_view_module": "@jupyter-widgets/controls",
            "_model_module_version": "1.5.0",
            "_view_count": null,
            "_view_module_version": "1.5.0",
            "box_style": "",
            "layout": "IPY_MODEL_f163d97027cf418596606ab624d01ed2",
            "_model_module": "@jupyter-widgets/controls",
            "children": [
              "IPY_MODEL_6df9649df7144aadb753c0b4703391aa",
              "IPY_MODEL_a99ca1f7a99241339f1142a69927614b"
            ]
          }
        },
        "f163d97027cf418596606ab624d01ed2": {
          "model_module": "@jupyter-widgets/base",
          "model_name": "LayoutModel",
          "state": {
            "_view_name": "LayoutView",
            "grid_template_rows": null,
            "right": null,
            "justify_content": null,
            "_view_module": "@jupyter-widgets/base",
            "overflow": null,
            "_model_module_version": "1.2.0",
            "_view_count": null,
            "flex_flow": null,
            "width": null,
            "min_width": null,
            "border": null,
            "align_items": null,
            "bottom": null,
            "_model_module": "@jupyter-widgets/base",
            "top": null,
            "grid_column": null,
            "overflow_y": null,
            "overflow_x": null,
            "grid_auto_flow": null,
            "grid_area": null,
            "grid_template_columns": null,
            "flex": null,
            "_model_name": "LayoutModel",
            "justify_items": null,
            "grid_row": null,
            "max_height": null,
            "align_content": null,
            "visibility": null,
            "align_self": null,
            "height": null,
            "min_height": null,
            "padding": null,
            "grid_auto_rows": null,
            "grid_gap": null,
            "max_width": null,
            "order": null,
            "_view_module_version": "1.2.0",
            "grid_template_areas": null,
            "object_position": null,
            "object_fit": null,
            "grid_auto_columns": null,
            "margin": null,
            "display": null,
            "left": null
          }
        },
        "6df9649df7144aadb753c0b4703391aa": {
          "model_module": "@jupyter-widgets/controls",
          "model_name": "IntProgressModel",
          "state": {
            "_view_name": "ProgressView",
            "style": "IPY_MODEL_572c8a6ddf194277a65304b7ab3eb926",
            "_dom_classes": [],
            "description": "100%",
            "_model_name": "IntProgressModel",
            "bar_style": "success",
            "max": 94765,
            "_view_module": "@jupyter-widgets/controls",
            "_model_module_version": "1.5.0",
            "value": 94765,
            "_view_count": null,
            "_view_module_version": "1.5.0",
            "orientation": "horizontal",
            "min": 0,
            "description_tooltip": null,
            "_model_module": "@jupyter-widgets/controls",
            "layout": "IPY_MODEL_92bf1bd020d642729dc196c57d5e8fe8"
          }
        },
        "a99ca1f7a99241339f1142a69927614b": {
          "model_module": "@jupyter-widgets/controls",
          "model_name": "HTMLModel",
          "state": {
            "_view_name": "HTMLView",
            "style": "IPY_MODEL_fa4d854687a24666a9b35f3360956edf",
            "_dom_classes": [],
            "description": "",
            "_model_name": "HTMLModel",
            "placeholder": "​",
            "_view_module": "@jupyter-widgets/controls",
            "_model_module_version": "1.5.0",
            "value": " 94765/94765 [00:39&lt;00:00, 2395.83it/s]",
            "_view_count": null,
            "_view_module_version": "1.5.0",
            "description_tooltip": null,
            "_model_module": "@jupyter-widgets/controls",
            "layout": "IPY_MODEL_93a063c16648440cac3385826c9fcf4f"
          }
        },
        "572c8a6ddf194277a65304b7ab3eb926": {
          "model_module": "@jupyter-widgets/controls",
          "model_name": "ProgressStyleModel",
          "state": {
            "_view_name": "StyleView",
            "_model_name": "ProgressStyleModel",
            "description_width": "initial",
            "_view_module": "@jupyter-widgets/base",
            "_model_module_version": "1.5.0",
            "_view_count": null,
            "_view_module_version": "1.2.0",
            "bar_color": null,
            "_model_module": "@jupyter-widgets/controls"
          }
        },
        "92bf1bd020d642729dc196c57d5e8fe8": {
          "model_module": "@jupyter-widgets/base",
          "model_name": "LayoutModel",
          "state": {
            "_view_name": "LayoutView",
            "grid_template_rows": null,
            "right": null,
            "justify_content": null,
            "_view_module": "@jupyter-widgets/base",
            "overflow": null,
            "_model_module_version": "1.2.0",
            "_view_count": null,
            "flex_flow": null,
            "width": null,
            "min_width": null,
            "border": null,
            "align_items": null,
            "bottom": null,
            "_model_module": "@jupyter-widgets/base",
            "top": null,
            "grid_column": null,
            "overflow_y": null,
            "overflow_x": null,
            "grid_auto_flow": null,
            "grid_area": null,
            "grid_template_columns": null,
            "flex": null,
            "_model_name": "LayoutModel",
            "justify_items": null,
            "grid_row": null,
            "max_height": null,
            "align_content": null,
            "visibility": null,
            "align_self": null,
            "height": null,
            "min_height": null,
            "padding": null,
            "grid_auto_rows": null,
            "grid_gap": null,
            "max_width": null,
            "order": null,
            "_view_module_version": "1.2.0",
            "grid_template_areas": null,
            "object_position": null,
            "object_fit": null,
            "grid_auto_columns": null,
            "margin": null,
            "display": null,
            "left": null
          }
        },
        "fa4d854687a24666a9b35f3360956edf": {
          "model_module": "@jupyter-widgets/controls",
          "model_name": "DescriptionStyleModel",
          "state": {
            "_view_name": "StyleView",
            "_model_name": "DescriptionStyleModel",
            "description_width": "",
            "_view_module": "@jupyter-widgets/base",
            "_model_module_version": "1.5.0",
            "_view_count": null,
            "_view_module_version": "1.2.0",
            "_model_module": "@jupyter-widgets/controls"
          }
        },
        "93a063c16648440cac3385826c9fcf4f": {
          "model_module": "@jupyter-widgets/base",
          "model_name": "LayoutModel",
          "state": {
            "_view_name": "LayoutView",
            "grid_template_rows": null,
            "right": null,
            "justify_content": null,
            "_view_module": "@jupyter-widgets/base",
            "overflow": null,
            "_model_module_version": "1.2.0",
            "_view_count": null,
            "flex_flow": null,
            "width": null,
            "min_width": null,
            "border": null,
            "align_items": null,
            "bottom": null,
            "_model_module": "@jupyter-widgets/base",
            "top": null,
            "grid_column": null,
            "overflow_y": null,
            "overflow_x": null,
            "grid_auto_flow": null,
            "grid_area": null,
            "grid_template_columns": null,
            "flex": null,
            "_model_name": "LayoutModel",
            "justify_items": null,
            "grid_row": null,
            "max_height": null,
            "align_content": null,
            "visibility": null,
            "align_self": null,
            "height": null,
            "min_height": null,
            "padding": null,
            "grid_auto_rows": null,
            "grid_gap": null,
            "max_width": null,
            "order": null,
            "_view_module_version": "1.2.0",
            "grid_template_areas": null,
            "object_position": null,
            "object_fit": null,
            "grid_auto_columns": null,
            "margin": null,
            "display": null,
            "left": null
          }
        },
        "8f244224d34744199c5f2c88ce1404b9": {
          "model_module": "@jupyter-widgets/controls",
          "model_name": "HBoxModel",
          "state": {
            "_view_name": "HBoxView",
            "_dom_classes": [],
            "_model_name": "HBoxModel",
            "_view_module": "@jupyter-widgets/controls",
            "_model_module_version": "1.5.0",
            "_view_count": null,
            "_view_module_version": "1.5.0",
            "box_style": "",
            "layout": "IPY_MODEL_77304ec2fee245dc912cdf49435b0b14",
            "_model_module": "@jupyter-widgets/controls",
            "children": [
              "IPY_MODEL_405784c2cb34419ca68f56665153ed44",
              "IPY_MODEL_22cf2b8d749449228877fa3e066bac01"
            ]
          }
        },
        "77304ec2fee245dc912cdf49435b0b14": {
          "model_module": "@jupyter-widgets/base",
          "model_name": "LayoutModel",
          "state": {
            "_view_name": "LayoutView",
            "grid_template_rows": null,
            "right": null,
            "justify_content": null,
            "_view_module": "@jupyter-widgets/base",
            "overflow": null,
            "_model_module_version": "1.2.0",
            "_view_count": null,
            "flex_flow": null,
            "width": null,
            "min_width": null,
            "border": null,
            "align_items": null,
            "bottom": null,
            "_model_module": "@jupyter-widgets/base",
            "top": null,
            "grid_column": null,
            "overflow_y": null,
            "overflow_x": null,
            "grid_auto_flow": null,
            "grid_area": null,
            "grid_template_columns": null,
            "flex": null,
            "_model_name": "LayoutModel",
            "justify_items": null,
            "grid_row": null,
            "max_height": null,
            "align_content": null,
            "visibility": null,
            "align_self": null,
            "height": null,
            "min_height": null,
            "padding": null,
            "grid_auto_rows": null,
            "grid_gap": null,
            "max_width": null,
            "order": null,
            "_view_module_version": "1.2.0",
            "grid_template_areas": null,
            "object_position": null,
            "object_fit": null,
            "grid_auto_columns": null,
            "margin": null,
            "display": null,
            "left": null
          }
        },
        "405784c2cb34419ca68f56665153ed44": {
          "model_module": "@jupyter-widgets/controls",
          "model_name": "IntProgressModel",
          "state": {
            "_view_name": "ProgressView",
            "style": "IPY_MODEL_539f5443402b4700a03696d38c4823c8",
            "_dom_classes": [],
            "description": "100%",
            "_model_name": "IntProgressModel",
            "bar_style": "success",
            "max": 94765,
            "_view_module": "@jupyter-widgets/controls",
            "_model_module_version": "1.5.0",
            "value": 94765,
            "_view_count": null,
            "_view_module_version": "1.5.0",
            "orientation": "horizontal",
            "min": 0,
            "description_tooltip": null,
            "_model_module": "@jupyter-widgets/controls",
            "layout": "IPY_MODEL_dcc7ae44129642a384cd090822ed4a69"
          }
        },
        "22cf2b8d749449228877fa3e066bac01": {
          "model_module": "@jupyter-widgets/controls",
          "model_name": "HTMLModel",
          "state": {
            "_view_name": "HTMLView",
            "style": "IPY_MODEL_c8de6f6aa8824bc49434cbcaf38469e6",
            "_dom_classes": [],
            "description": "",
            "_model_name": "HTMLModel",
            "placeholder": "​",
            "_view_module": "@jupyter-widgets/controls",
            "_model_module_version": "1.5.0",
            "value": " 94765/94765 [02:06&lt;00:00, 750.62it/s]",
            "_view_count": null,
            "_view_module_version": "1.5.0",
            "description_tooltip": null,
            "_model_module": "@jupyter-widgets/controls",
            "layout": "IPY_MODEL_e35120dd56cf458c810a5559217472b1"
          }
        },
        "539f5443402b4700a03696d38c4823c8": {
          "model_module": "@jupyter-widgets/controls",
          "model_name": "ProgressStyleModel",
          "state": {
            "_view_name": "StyleView",
            "_model_name": "ProgressStyleModel",
            "description_width": "initial",
            "_view_module": "@jupyter-widgets/base",
            "_model_module_version": "1.5.0",
            "_view_count": null,
            "_view_module_version": "1.2.0",
            "bar_color": null,
            "_model_module": "@jupyter-widgets/controls"
          }
        },
        "dcc7ae44129642a384cd090822ed4a69": {
          "model_module": "@jupyter-widgets/base",
          "model_name": "LayoutModel",
          "state": {
            "_view_name": "LayoutView",
            "grid_template_rows": null,
            "right": null,
            "justify_content": null,
            "_view_module": "@jupyter-widgets/base",
            "overflow": null,
            "_model_module_version": "1.2.0",
            "_view_count": null,
            "flex_flow": null,
            "width": null,
            "min_width": null,
            "border": null,
            "align_items": null,
            "bottom": null,
            "_model_module": "@jupyter-widgets/base",
            "top": null,
            "grid_column": null,
            "overflow_y": null,
            "overflow_x": null,
            "grid_auto_flow": null,
            "grid_area": null,
            "grid_template_columns": null,
            "flex": null,
            "_model_name": "LayoutModel",
            "justify_items": null,
            "grid_row": null,
            "max_height": null,
            "align_content": null,
            "visibility": null,
            "align_self": null,
            "height": null,
            "min_height": null,
            "padding": null,
            "grid_auto_rows": null,
            "grid_gap": null,
            "max_width": null,
            "order": null,
            "_view_module_version": "1.2.0",
            "grid_template_areas": null,
            "object_position": null,
            "object_fit": null,
            "grid_auto_columns": null,
            "margin": null,
            "display": null,
            "left": null
          }
        },
        "c8de6f6aa8824bc49434cbcaf38469e6": {
          "model_module": "@jupyter-widgets/controls",
          "model_name": "DescriptionStyleModel",
          "state": {
            "_view_name": "StyleView",
            "_model_name": "DescriptionStyleModel",
            "description_width": "",
            "_view_module": "@jupyter-widgets/base",
            "_model_module_version": "1.5.0",
            "_view_count": null,
            "_view_module_version": "1.2.0",
            "_model_module": "@jupyter-widgets/controls"
          }
        },
        "e35120dd56cf458c810a5559217472b1": {
          "model_module": "@jupyter-widgets/base",
          "model_name": "LayoutModel",
          "state": {
            "_view_name": "LayoutView",
            "grid_template_rows": null,
            "right": null,
            "justify_content": null,
            "_view_module": "@jupyter-widgets/base",
            "overflow": null,
            "_model_module_version": "1.2.0",
            "_view_count": null,
            "flex_flow": null,
            "width": null,
            "min_width": null,
            "border": null,
            "align_items": null,
            "bottom": null,
            "_model_module": "@jupyter-widgets/base",
            "top": null,
            "grid_column": null,
            "overflow_y": null,
            "overflow_x": null,
            "grid_auto_flow": null,
            "grid_area": null,
            "grid_template_columns": null,
            "flex": null,
            "_model_name": "LayoutModel",
            "justify_items": null,
            "grid_row": null,
            "max_height": null,
            "align_content": null,
            "visibility": null,
            "align_self": null,
            "height": null,
            "min_height": null,
            "padding": null,
            "grid_auto_rows": null,
            "grid_gap": null,
            "max_width": null,
            "order": null,
            "_view_module_version": "1.2.0",
            "grid_template_areas": null,
            "object_position": null,
            "object_fit": null,
            "grid_auto_columns": null,
            "margin": null,
            "display": null,
            "left": null
          }
        },
        "0bde2ebf2c5e475dba018368dc3520bd": {
          "model_module": "@jupyter-widgets/controls",
          "model_name": "HBoxModel",
          "state": {
            "_view_name": "HBoxView",
            "_dom_classes": [],
            "_model_name": "HBoxModel",
            "_view_module": "@jupyter-widgets/controls",
            "_model_module_version": "1.5.0",
            "_view_count": null,
            "_view_module_version": "1.5.0",
            "box_style": "",
            "layout": "IPY_MODEL_f40c8a15d5824f0c84fc080a3e9ec055",
            "_model_module": "@jupyter-widgets/controls",
            "children": [
              "IPY_MODEL_2b09b56d88a140b7a482386c9ac7c1da",
              "IPY_MODEL_fbc8ced5142a414594386606e328e5dd"
            ]
          }
        },
        "f40c8a15d5824f0c84fc080a3e9ec055": {
          "model_module": "@jupyter-widgets/base",
          "model_name": "LayoutModel",
          "state": {
            "_view_name": "LayoutView",
            "grid_template_rows": null,
            "right": null,
            "justify_content": null,
            "_view_module": "@jupyter-widgets/base",
            "overflow": null,
            "_model_module_version": "1.2.0",
            "_view_count": null,
            "flex_flow": null,
            "width": null,
            "min_width": null,
            "border": null,
            "align_items": null,
            "bottom": null,
            "_model_module": "@jupyter-widgets/base",
            "top": null,
            "grid_column": null,
            "overflow_y": null,
            "overflow_x": null,
            "grid_auto_flow": null,
            "grid_area": null,
            "grid_template_columns": null,
            "flex": null,
            "_model_name": "LayoutModel",
            "justify_items": null,
            "grid_row": null,
            "max_height": null,
            "align_content": null,
            "visibility": null,
            "align_self": null,
            "height": null,
            "min_height": null,
            "padding": null,
            "grid_auto_rows": null,
            "grid_gap": null,
            "max_width": null,
            "order": null,
            "_view_module_version": "1.2.0",
            "grid_template_areas": null,
            "object_position": null,
            "object_fit": null,
            "grid_auto_columns": null,
            "margin": null,
            "display": null,
            "left": null
          }
        },
        "2b09b56d88a140b7a482386c9ac7c1da": {
          "model_module": "@jupyter-widgets/controls",
          "model_name": "IntProgressModel",
          "state": {
            "_view_name": "ProgressView",
            "style": "IPY_MODEL_2fae8252067840a7994350d0d26b167d",
            "_dom_classes": [],
            "description": "100%",
            "_model_name": "IntProgressModel",
            "bar_style": "success",
            "max": 94765,
            "_view_module": "@jupyter-widgets/controls",
            "_model_module_version": "1.5.0",
            "value": 94765,
            "_view_count": null,
            "_view_module_version": "1.5.0",
            "orientation": "horizontal",
            "min": 0,
            "description_tooltip": null,
            "_model_module": "@jupyter-widgets/controls",
            "layout": "IPY_MODEL_81df2437caf8480e9479c3743e54ca96"
          }
        },
        "fbc8ced5142a414594386606e328e5dd": {
          "model_module": "@jupyter-widgets/controls",
          "model_name": "HTMLModel",
          "state": {
            "_view_name": "HTMLView",
            "style": "IPY_MODEL_b1d9d808b440432bbbb6d034d79fbdaa",
            "_dom_classes": [],
            "description": "",
            "_model_name": "HTMLModel",
            "placeholder": "​",
            "_view_module": "@jupyter-widgets/controls",
            "_model_module_version": "1.5.0",
            "value": " 94765/94765 [00:43&lt;00:00, 2203.67it/s]",
            "_view_count": null,
            "_view_module_version": "1.5.0",
            "description_tooltip": null,
            "_model_module": "@jupyter-widgets/controls",
            "layout": "IPY_MODEL_1c1c7b12e49c4781890613f4adf1fb87"
          }
        },
        "2fae8252067840a7994350d0d26b167d": {
          "model_module": "@jupyter-widgets/controls",
          "model_name": "ProgressStyleModel",
          "state": {
            "_view_name": "StyleView",
            "_model_name": "ProgressStyleModel",
            "description_width": "initial",
            "_view_module": "@jupyter-widgets/base",
            "_model_module_version": "1.5.0",
            "_view_count": null,
            "_view_module_version": "1.2.0",
            "bar_color": null,
            "_model_module": "@jupyter-widgets/controls"
          }
        },
        "81df2437caf8480e9479c3743e54ca96": {
          "model_module": "@jupyter-widgets/base",
          "model_name": "LayoutModel",
          "state": {
            "_view_name": "LayoutView",
            "grid_template_rows": null,
            "right": null,
            "justify_content": null,
            "_view_module": "@jupyter-widgets/base",
            "overflow": null,
            "_model_module_version": "1.2.0",
            "_view_count": null,
            "flex_flow": null,
            "width": null,
            "min_width": null,
            "border": null,
            "align_items": null,
            "bottom": null,
            "_model_module": "@jupyter-widgets/base",
            "top": null,
            "grid_column": null,
            "overflow_y": null,
            "overflow_x": null,
            "grid_auto_flow": null,
            "grid_area": null,
            "grid_template_columns": null,
            "flex": null,
            "_model_name": "LayoutModel",
            "justify_items": null,
            "grid_row": null,
            "max_height": null,
            "align_content": null,
            "visibility": null,
            "align_self": null,
            "height": null,
            "min_height": null,
            "padding": null,
            "grid_auto_rows": null,
            "grid_gap": null,
            "max_width": null,
            "order": null,
            "_view_module_version": "1.2.0",
            "grid_template_areas": null,
            "object_position": null,
            "object_fit": null,
            "grid_auto_columns": null,
            "margin": null,
            "display": null,
            "left": null
          }
        },
        "b1d9d808b440432bbbb6d034d79fbdaa": {
          "model_module": "@jupyter-widgets/controls",
          "model_name": "DescriptionStyleModel",
          "state": {
            "_view_name": "StyleView",
            "_model_name": "DescriptionStyleModel",
            "description_width": "",
            "_view_module": "@jupyter-widgets/base",
            "_model_module_version": "1.5.0",
            "_view_count": null,
            "_view_module_version": "1.2.0",
            "_model_module": "@jupyter-widgets/controls"
          }
        },
        "1c1c7b12e49c4781890613f4adf1fb87": {
          "model_module": "@jupyter-widgets/base",
          "model_name": "LayoutModel",
          "state": {
            "_view_name": "LayoutView",
            "grid_template_rows": null,
            "right": null,
            "justify_content": null,
            "_view_module": "@jupyter-widgets/base",
            "overflow": null,
            "_model_module_version": "1.2.0",
            "_view_count": null,
            "flex_flow": null,
            "width": null,
            "min_width": null,
            "border": null,
            "align_items": null,
            "bottom": null,
            "_model_module": "@jupyter-widgets/base",
            "top": null,
            "grid_column": null,
            "overflow_y": null,
            "overflow_x": null,
            "grid_auto_flow": null,
            "grid_area": null,
            "grid_template_columns": null,
            "flex": null,
            "_model_name": "LayoutModel",
            "justify_items": null,
            "grid_row": null,
            "max_height": null,
            "align_content": null,
            "visibility": null,
            "align_self": null,
            "height": null,
            "min_height": null,
            "padding": null,
            "grid_auto_rows": null,
            "grid_gap": null,
            "max_width": null,
            "order": null,
            "_view_module_version": "1.2.0",
            "grid_template_areas": null,
            "object_position": null,
            "object_fit": null,
            "grid_auto_columns": null,
            "margin": null,
            "display": null,
            "left": null
          }
        }
      }
    },
    "accelerator": "GPU"
  },
  "cells": [
    {
      "cell_type": "markdown",
      "metadata": {
        "id": "view-in-github",
        "colab_type": "text"
      },
      "source": [
        "<a href=\"https://colab.research.google.com/github/raghukarma/my_colab/blob/master/Cosine_Similarity.ipynb\" target=\"_parent\"><img src=\"https://colab.research.google.com/assets/colab-badge.svg\" alt=\"Open In Colab\"/></a>"
      ]
    },
    {
      "cell_type": "code",
      "metadata": {
        "id": "n3UqNRSIFW7M",
        "colab_type": "code",
        "outputId": "629b8d53-89e0-45f4-cdd2-01630340ea61",
        "colab": {
          "base_uri": "https://localhost:8080/",
          "height": 102
        }
      },
      "source": [
        "import pandas as pd\n",
        "import numpy as np\n",
        "from tensorflow.keras.preprocessing.sequence import pad_sequences\n",
        "from tensorflow.keras.utils import to_categorical\n",
        "from tensorflow.keras.models import Model , Sequential\n",
        "from tensorflow.keras import Input\n",
        "from tensorflow.keras.layers import LSTM, Embedding, Dense, TimeDistributed, Dropout, Bidirectional, RepeatVector\n",
        "import gensim\n",
        "from gensim.test.utils import common_texts, get_tmpfile\n",
        "from gensim.models import Word2Vec\n",
        "from nltk.corpus import stopwords \n",
        "from nltk.tokenize import word_tokenize\n",
        "import nltk\n",
        "nltk.download('stopwords')\n",
        "nltk.download('punkt')"
      ],
      "execution_count": 0,
      "outputs": [
        {
          "output_type": "stream",
          "text": [
            "[nltk_data] Downloading package stopwords to /root/nltk_data...\n",
            "[nltk_data]   Unzipping corpora/stopwords.zip.\n",
            "[nltk_data] Downloading package punkt to /root/nltk_data...\n",
            "[nltk_data]   Unzipping tokenizers/punkt.zip.\n"
          ],
          "name": "stdout"
        },
        {
          "output_type": "execute_result",
          "data": {
            "text/plain": [
              "True"
            ]
          },
          "metadata": {
            "tags": []
          },
          "execution_count": 4
        }
      ]
    },
    {
      "cell_type": "markdown",
      "metadata": {
        "id": "ggVpCwD8HAKd",
        "colab_type": "text"
      },
      "source": [
        "## W2V"
      ]
    },
    {
      "cell_type": "code",
      "metadata": {
        "id": "fhPBObYRF6oK",
        "colab_type": "code",
        "colab": {}
      },
      "source": [
        "data = pd.read_excel(\"/content/ICD10-2020.xlsm\",header=None,index_col=0,names=['idx','sno','out','input'])\n",
        "data = data.loc[:,['out','input']].sample(n=1000, random_state=1)"
      ],
      "execution_count": 0,
      "outputs": []
    },
    {
      "cell_type": "code",
      "metadata": {
        "id": "o6LeQlGQHPy_",
        "colab_type": "code",
        "outputId": "414b09ed-5f61-4d6b-b215-0497f11d70c8",
        "colab": {
          "base_uri": "https://localhost:8080/",
          "height": 204
        }
      },
      "source": [
        "data.head()"
      ],
      "execution_count": 0,
      "outputs": [
        {
          "output_type": "execute_result",
          "data": {
            "text/html": [
              "<div>\n",
              "<style scoped>\n",
              "    .dataframe tbody tr th:only-of-type {\n",
              "        vertical-align: middle;\n",
              "    }\n",
              "\n",
              "    .dataframe tbody tr th {\n",
              "        vertical-align: top;\n",
              "    }\n",
              "\n",
              "    .dataframe thead th {\n",
              "        text-align: right;\n",
              "    }\n",
              "</style>\n",
              "<table border=\"1\" class=\"dataframe\">\n",
              "  <thead>\n",
              "    <tr style=\"text-align: right;\">\n",
              "      <th></th>\n",
              "      <th>out</th>\n",
              "      <th>input</th>\n",
              "    </tr>\n",
              "  </thead>\n",
              "  <tbody>\n",
              "    <tr>\n",
              "      <th>64570</th>\n",
              "      <td>Sltr-haris Type I physl fx upper end of unsp f...</td>\n",
              "      <td>Salter-Harris Type I physeal fracture of upper...</td>\n",
              "    </tr>\n",
              "    <tr>\n",
              "      <th>34475</th>\n",
              "      <td>Pnctr w/o fb of unsp bk wl of thorax w penet t...</td>\n",
              "      <td>Puncture wound without foreign body of unspeci...</td>\n",
              "    </tr>\n",
              "    <tr>\n",
              "      <th>30249</th>\n",
              "      <td>Open bite of left eyelid and periocular area, ...</td>\n",
              "      <td>Open bite of left eyelid and periocular area, ...</td>\n",
              "    </tr>\n",
              "    <tr>\n",
              "      <th>89285</th>\n",
              "      <td>Contact with electric knife, subsequent encounter</td>\n",
              "      <td>Contact with electric knife, subsequent encounter</td>\n",
              "    </tr>\n",
              "    <tr>\n",
              "      <th>52297</th>\n",
              "      <td>Subluxation of MCP joint of right index finger...</td>\n",
              "      <td>Subluxation of metacarpophalangeal joint of ri...</td>\n",
              "    </tr>\n",
              "  </tbody>\n",
              "</table>\n",
              "</div>"
            ],
            "text/plain": [
              "                                                     out                                              input\n",
              "64570  Sltr-haris Type I physl fx upper end of unsp f...  Salter-Harris Type I physeal fracture of upper...\n",
              "34475  Pnctr w/o fb of unsp bk wl of thorax w penet t...  Puncture wound without foreign body of unspeci...\n",
              "30249  Open bite of left eyelid and periocular area, ...  Open bite of left eyelid and periocular area, ...\n",
              "89285  Contact with electric knife, subsequent encounter  Contact with electric knife, subsequent encounter\n",
              "52297  Subluxation of MCP joint of right index finger...  Subluxation of metacarpophalangeal joint of ri..."
            ]
          },
          "metadata": {
            "tags": []
          },
          "execution_count": 4
        }
      ]
    },
    {
      "cell_type": "code",
      "metadata": {
        "id": "-kcTcPZ8JRGn",
        "colab_type": "code",
        "colab": {}
      },
      "source": [
        "from nltk.tokenize import RegexpTokenizer\n",
        "def preprocess_text(text,MAX_LEN,pad_word = 'padword'):\n",
        "  stop_words = set(stopwords.words('english')) \n",
        "  tokenizer = RegexpTokenizer(r'\\w+')\n",
        "  text = text.lower()\n",
        "  text = text.split()\n",
        "  text = [w for w in text if not w in stop_words]\n",
        "  text = [word for word in text if word.isalpha()]\n",
        "  if len(text) < MAX_LEN:\n",
        "    diff = MAX_LEN - len(text)\n",
        "    for i in range(diff):\n",
        "      text.append(pad_word)    \n",
        "    text = \" \".join(text)\n",
        "    w_t = tokenizer.tokenize(text)  \n",
        "  else:\n",
        "    text = \" \".join(text[:MAX_LEN])\n",
        "    w_t = tokenizer.tokenize(text)\n",
        "  return w_t"
      ],
      "execution_count": 0,
      "outputs": []
    },
    {
      "cell_type": "code",
      "metadata": {
        "id": "s9YBqrsyWbig",
        "colab_type": "code",
        "colab": {}
      },
      "source": [
        "d_o = []\n",
        "d_i = []\n",
        "for i,v in data.iterrows():\n",
        "  d_o.append(preprocess_text(v['out'],20))\n",
        "  d_i.append(preprocess_text(v['input'],20))\n"
      ],
      "execution_count": 0,
      "outputs": []
    },
    {
      "cell_type": "code",
      "metadata": {
        "id": "PcWcopglX0ep",
        "colab_type": "code",
        "outputId": "52a37649-8393-4955-94ae-d6167aba2057",
        "colab": {
          "base_uri": "https://localhost:8080/",
          "height": 204
        }
      },
      "source": [
        "data.head()"
      ],
      "execution_count": 0,
      "outputs": [
        {
          "output_type": "execute_result",
          "data": {
            "text/html": [
              "<div>\n",
              "<style scoped>\n",
              "    .dataframe tbody tr th:only-of-type {\n",
              "        vertical-align: middle;\n",
              "    }\n",
              "\n",
              "    .dataframe tbody tr th {\n",
              "        vertical-align: top;\n",
              "    }\n",
              "\n",
              "    .dataframe thead th {\n",
              "        text-align: right;\n",
              "    }\n",
              "</style>\n",
              "<table border=\"1\" class=\"dataframe\">\n",
              "  <thead>\n",
              "    <tr style=\"text-align: right;\">\n",
              "      <th></th>\n",
              "      <th>out</th>\n",
              "      <th>input</th>\n",
              "    </tr>\n",
              "  </thead>\n",
              "  <tbody>\n",
              "    <tr>\n",
              "      <th>64570</th>\n",
              "      <td>Sltr-haris Type I physl fx upper end of unsp f...</td>\n",
              "      <td>Salter-Harris Type I physeal fracture of upper...</td>\n",
              "    </tr>\n",
              "    <tr>\n",
              "      <th>34475</th>\n",
              "      <td>Pnctr w/o fb of unsp bk wl of thorax w penet t...</td>\n",
              "      <td>Puncture wound without foreign body of unspeci...</td>\n",
              "    </tr>\n",
              "    <tr>\n",
              "      <th>30249</th>\n",
              "      <td>Open bite of left eyelid and periocular area, ...</td>\n",
              "      <td>Open bite of left eyelid and periocular area, ...</td>\n",
              "    </tr>\n",
              "    <tr>\n",
              "      <th>89285</th>\n",
              "      <td>Contact with electric knife, subsequent encounter</td>\n",
              "      <td>Contact with electric knife, subsequent encounter</td>\n",
              "    </tr>\n",
              "    <tr>\n",
              "      <th>52297</th>\n",
              "      <td>Subluxation of MCP joint of right index finger...</td>\n",
              "      <td>Subluxation of metacarpophalangeal joint of ri...</td>\n",
              "    </tr>\n",
              "  </tbody>\n",
              "</table>\n",
              "</div>"
            ],
            "text/plain": [
              "                                                     out                                              input\n",
              "64570  Sltr-haris Type I physl fx upper end of unsp f...  Salter-Harris Type I physeal fracture of upper...\n",
              "34475  Pnctr w/o fb of unsp bk wl of thorax w penet t...  Puncture wound without foreign body of unspeci...\n",
              "30249  Open bite of left eyelid and periocular area, ...  Open bite of left eyelid and periocular area, ...\n",
              "89285  Contact with electric knife, subsequent encounter  Contact with electric knife, subsequent encounter\n",
              "52297  Subluxation of MCP joint of right index finger...  Subluxation of metacarpophalangeal joint of ri..."
            ]
          },
          "metadata": {
            "tags": []
          },
          "execution_count": 7
        }
      ]
    },
    {
      "cell_type": "code",
      "metadata": {
        "id": "aCPwtpuh1IjX",
        "colab_type": "code",
        "outputId": "a0b87fd1-b7b9-44eb-c40f-e9bff561f1bb",
        "colab": {
          "base_uri": "https://localhost:8080/",
          "height": 54
        }
      },
      "source": [
        "\" \".join(d_o[0])"
      ],
      "execution_count": 0,
      "outputs": [
        {
          "output_type": "execute_result",
          "data": {
            "text/plain": [
              "'type physl fx upper end unsp sequela padword padword padword padword padword padword padword padword padword padword padword padword padword'"
            ]
          },
          "metadata": {
            "tags": []
          },
          "execution_count": 8
        }
      ]
    },
    {
      "cell_type": "code",
      "metadata": {
        "id": "B6O16UkmaJ9E",
        "colab_type": "code",
        "colab": {}
      },
      "source": [
        "total_data = d_o + d_i"
      ],
      "execution_count": 0,
      "outputs": []
    },
    {
      "cell_type": "code",
      "metadata": {
        "id": "ogunGVorHUfB",
        "colab_type": "code",
        "colab": {}
      },
      "source": [
        "path = get_tmpfile(\"word2vec.model\")\n",
        "\n",
        "cb = Word2Vec(sentences=total_data, size=100, window=2, min_count=1)"
      ],
      "execution_count": 0,
      "outputs": []
    },
    {
      "cell_type": "code",
      "metadata": {
        "id": "PCioq5x539yU",
        "colab_type": "code",
        "outputId": "aeb2e0e1-204e-476e-8f8f-4225ee02d55d",
        "colab": {
          "base_uri": "https://localhost:8080/",
          "height": 34
        }
      },
      "source": [
        "len(total_data)"
      ],
      "execution_count": 0,
      "outputs": [
        {
          "output_type": "execute_result",
          "data": {
            "text/plain": [
              "2000"
            ]
          },
          "metadata": {
            "tags": []
          },
          "execution_count": 11
        }
      ]
    },
    {
      "cell_type": "markdown",
      "metadata": {
        "id": "e4YkzAOb5iDA",
        "colab_type": "text"
      },
      "source": [
        "## Ignore\n"
      ]
    },
    {
      "cell_type": "code",
      "metadata": {
        "colab_type": "code",
        "outputId": "f508bd28-f3af-4348-f58b-bb270013f250",
        "id": "BSlnteeP5hFh",
        "colab": {
          "base_uri": "https://localhost:8080/",
          "height": 34
        }
      },
      "source": [
        "len(embedding_matrix)"
      ],
      "execution_count": 0,
      "outputs": [
        {
          "output_type": "execute_result",
          "data": {
            "text/plain": [
              "2000"
            ]
          },
          "metadata": {
            "tags": []
          },
          "execution_count": 86
        }
      ]
    },
    {
      "cell_type": "code",
      "metadata": {
        "colab_type": "code",
        "outputId": "69a7ef14-e674-4431-eebb-4b6e1e4b591f",
        "id": "GOB7U0KK5gtm",
        "colab": {
          "base_uri": "https://localhost:8080/",
          "height": 34
        }
      },
      "source": [
        "data.shape"
      ],
      "execution_count": 0,
      "outputs": [
        {
          "output_type": "execute_result",
          "data": {
            "text/plain": [
              "(1000, 3)"
            ]
          },
          "metadata": {
            "tags": []
          },
          "execution_count": 87
        }
      ]
    },
    {
      "cell_type": "code",
      "metadata": {
        "id": "hscqMgsV4ggO",
        "colab_type": "code",
        "colab": {}
      },
      "source": [
        "data = data.reset_index()"
      ],
      "execution_count": 0,
      "outputs": []
    },
    {
      "cell_type": "code",
      "metadata": {
        "colab_type": "code",
        "id": "xz-zsKwj5gh7",
        "colab": {}
      },
      "source": [
        "embedding_matrix = np.zeros((len(data), 100))\n",
        "embedding_matrix_ou = np.zeros((len(data), 100))\n",
        "for i,v in data.iterrows():\n",
        "  text = preprocess_text(v['input'],20)\n",
        "  text_ou = preprocess_text(v['out'],20)\n",
        "  for t in text:\n",
        "    embedding_matrix[i] = cb.wv[t]\n",
        "  for t_o in text_ou:\n",
        "    embedding_matrix_ou[i] = cb.wv[t_o]"
      ],
      "execution_count": 0,
      "outputs": []
    },
    {
      "cell_type": "code",
      "metadata": {
        "colab_type": "code",
        "id": "D59_f2uc5gT5",
        "colab": {}
      },
      "source": [
        "embedding_matrix = np.zeros((len(total_data), 100))\n",
        "for i in total_data:\n",
        "  for i,v in enumerate(total_data):\n",
        "    for t in v:\n",
        "      embedding_matrix[i] = cb.wv[t]"
      ],
      "execution_count": 0,
      "outputs": []
    },
    {
      "cell_type": "code",
      "metadata": {
        "colab_type": "code",
        "id": "HsDIozUl5gBe",
        "colab": {}
      },
      "source": [
        "d_o[0]"
      ],
      "execution_count": 0,
      "outputs": []
    },
    {
      "cell_type": "code",
      "metadata": {
        "colab_type": "code",
        "id": "1shDlFg75ezw",
        "colab": {}
      },
      "source": [
        "w_t_idx = {}\n",
        "for li in total_data:\n",
        "  for i,v in enumerate(li):\n",
        "    w_t_idx[v] = i"
      ],
      "execution_count": 0,
      "outputs": []
    },
    {
      "cell_type": "code",
      "metadata": {
        "id": "02RMA6dhtaSI",
        "colab_type": "code",
        "colab": {}
      },
      "source": [
        "w_t_idx"
      ],
      "execution_count": 0,
      "outputs": []
    },
    {
      "cell_type": "code",
      "metadata": {
        "id": "0jbGkZoKBVlW",
        "colab_type": "code",
        "outputId": "3b5f5a3f-5cc0-4ed8-96f4-2e79afeb748f",
        "colab": {
          "base_uri": "https://localhost:8080/",
          "height": 49,
          "referenced_widgets": [
            "cf95c425dcf24a1ba18c61d2d7e16695",
            "c66a22213c434b0791fad2931eb2b49f",
            "1eee63bc6dfb449fac9792771f7550e7",
            "aa78b1db2d814ab98aef4be803e958e5",
            "65bdf26564744e54a0bd364f02604cb1",
            "bdf548d748054a59ab5fdd220979db2d",
            "0828e26c069644d5a728add416a832e9",
            "e74f049b0cd24698b29591655e66e1b8"
          ]
        }
      },
      "source": [
        "from tqdm.notebook import tqdm\n",
        "import torch\n",
        "import torch.nn as nn\n",
        "embs_in_lis = []\n",
        "embs_ou_lis = []\n",
        "\n",
        "for i in tqdm(range(len(d_o))):\n",
        "  for j in d_o:\n",
        "    embeds_ou = nn.Embedding(len(j), 20)\n",
        "    for c in j:\n",
        "      output_tensor = torch.tensor(w_t_idx[c], dtype=torch.long)\n",
        "      ou_embed = embeds_ou(output_tensor)\n",
        "      embs_ou_lis.append(ou_embed)\n",
        "  for k in d_i:\n",
        "    embeds_in = nn.Embedding(len(k), 20)\n",
        "    for ch in k:\n",
        "      input_tensor = torch.tensor(w_t_idx[ch], dtype=torch.long)\n",
        "      in_embed = embeds_in(input_tensor)\n",
        "      embs_in_lis.append(in_embed)\n",
        "    "
      ],
      "execution_count": 0,
      "outputs": [
        {
          "output_type": "display_data",
          "data": {
            "application/vnd.jupyter.widget-view+json": {
              "model_id": "cf95c425dcf24a1ba18c61d2d7e16695",
              "version_minor": 0,
              "version_major": 2
            },
            "text/plain": [
              "HBox(children=(IntProgress(value=0, max=1000), HTML(value='')))"
            ]
          },
          "metadata": {
            "tags": []
          }
        }
      ]
    },
    {
      "cell_type": "code",
      "metadata": {
        "id": "_65_PXIrmzsA",
        "colab_type": "code",
        "colab": {}
      },
      "source": [
        "for i in range(len(d_o[:10])):\n",
        "  for j in d_o:\n",
        "    print(j)\n",
        "    for c in j:\n",
        "      print(len(j))\n",
        "      embeds = nn.Embedding(len(j), 20)\n",
        "      lookup_tensor = torch.tensor(cb.wv[c], dtype=torch.long)\n",
        "      print(lookup_tensor)\n",
        "      hello_embed = embeds(lookup_tensor)\n",
        "      embs_ou_lis.append(hello_embed)"
      ],
      "execution_count": 0,
      "outputs": []
    },
    {
      "cell_type": "code",
      "metadata": {
        "id": "eUhi19ZmjtTD",
        "colab_type": "code",
        "colab": {}
      },
      "source": [
        "sim = []\n",
        "for i in tqdm(range(len(input_ids))):\n",
        "  sim.append(cosine_similarity([list(input_ids[i])],[list(output_ids[i])]))"
      ],
      "execution_count": 0,
      "outputs": []
    },
    {
      "cell_type": "code",
      "metadata": {
        "id": "7FLl4eUyORE8",
        "colab_type": "code",
        "colab": {}
      },
      "source": [
        "cb.wv[\"typhoid\"]"
      ],
      "execution_count": 0,
      "outputs": []
    },
    {
      "cell_type": "markdown",
      "metadata": {
        "id": "3SbEbq7N5pPH",
        "colab_type": "text"
      },
      "source": [
        "## AE\n"
      ]
    },
    {
      "cell_type": "code",
      "metadata": {
        "colab_type": "code",
        "id": "NTFnl6apES3q",
        "colab": {}
      },
      "source": [
        "data = pd.read_excel(\"/content/ICD10-2020.xlsm\",header=None,index_col=0,names=['idx','sno','out','input'])\n",
        "data = data.loc[:,['out','input']].sample(n=1000, random_state=1)"
      ],
      "execution_count": 0,
      "outputs": []
    },
    {
      "cell_type": "code",
      "metadata": {
        "colab_type": "code",
        "outputId": "f43e9a59-237e-437c-f650-6fd99861aa7d",
        "id": "3-c2ygmxES30",
        "colab": {
          "base_uri": "https://localhost:8080/",
          "height": 204
        }
      },
      "source": [
        "data.head()"
      ],
      "execution_count": 0,
      "outputs": [
        {
          "output_type": "execute_result",
          "data": {
            "text/html": [
              "<div>\n",
              "<style scoped>\n",
              "    .dataframe tbody tr th:only-of-type {\n",
              "        vertical-align: middle;\n",
              "    }\n",
              "\n",
              "    .dataframe tbody tr th {\n",
              "        vertical-align: top;\n",
              "    }\n",
              "\n",
              "    .dataframe thead th {\n",
              "        text-align: right;\n",
              "    }\n",
              "</style>\n",
              "<table border=\"1\" class=\"dataframe\">\n",
              "  <thead>\n",
              "    <tr style=\"text-align: right;\">\n",
              "      <th></th>\n",
              "      <th>out</th>\n",
              "      <th>input</th>\n",
              "    </tr>\n",
              "  </thead>\n",
              "  <tbody>\n",
              "    <tr>\n",
              "      <th>64570</th>\n",
              "      <td>Sltr-haris Type I physl fx upper end of unsp f...</td>\n",
              "      <td>Salter-Harris Type I physeal fracture of upper...</td>\n",
              "    </tr>\n",
              "    <tr>\n",
              "      <th>34475</th>\n",
              "      <td>Pnctr w/o fb of unsp bk wl of thorax w penet t...</td>\n",
              "      <td>Puncture wound without foreign body of unspeci...</td>\n",
              "    </tr>\n",
              "    <tr>\n",
              "      <th>30249</th>\n",
              "      <td>Open bite of left eyelid and periocular area, ...</td>\n",
              "      <td>Open bite of left eyelid and periocular area, ...</td>\n",
              "    </tr>\n",
              "    <tr>\n",
              "      <th>89285</th>\n",
              "      <td>Contact with electric knife, subsequent encounter</td>\n",
              "      <td>Contact with electric knife, subsequent encounter</td>\n",
              "    </tr>\n",
              "    <tr>\n",
              "      <th>52297</th>\n",
              "      <td>Subluxation of MCP joint of right index finger...</td>\n",
              "      <td>Subluxation of metacarpophalangeal joint of ri...</td>\n",
              "    </tr>\n",
              "  </tbody>\n",
              "</table>\n",
              "</div>"
            ],
            "text/plain": [
              "                                                     out                                              input\n",
              "64570  Sltr-haris Type I physl fx upper end of unsp f...  Salter-Harris Type I physeal fracture of upper...\n",
              "34475  Pnctr w/o fb of unsp bk wl of thorax w penet t...  Puncture wound without foreign body of unspeci...\n",
              "30249  Open bite of left eyelid and periocular area, ...  Open bite of left eyelid and periocular area, ...\n",
              "89285  Contact with electric knife, subsequent encounter  Contact with electric knife, subsequent encounter\n",
              "52297  Subluxation of MCP joint of right index finger...  Subluxation of metacarpophalangeal joint of ri..."
            ]
          },
          "metadata": {
            "tags": []
          },
          "execution_count": 6
        }
      ]
    },
    {
      "cell_type": "code",
      "metadata": {
        "colab_type": "code",
        "id": "gKK1F057ES33",
        "colab": {}
      },
      "source": [
        "from nltk.tokenize import RegexpTokenizer\n",
        "def preprocess_text(text):\n",
        "  tokenizer = RegexpTokenizer(r'\\w+')\n",
        "  text = text.lower()\n",
        "  text = text.split()\n",
        "  text = \" \".join(text)\n",
        "  w_t = tokenizer.tokenize(text)\n",
        "  return \" \".join(w_t)"
      ],
      "execution_count": 0,
      "outputs": []
    },
    {
      "cell_type": "code",
      "metadata": {
        "id": "0VmnFbKWJQe1",
        "colab_type": "code",
        "colab": {}
      },
      "source": [
        "from nltk.tokenize import RegexpTokenizer\n",
        "def preprocess_text_wv(text,MAX_LEN,pad_word = 'padword'):\n",
        "  stop_words = set(stopwords.words('english')) \n",
        "  tokenizer = RegexpTokenizer(r'\\w+')\n",
        "  text = text.lower()\n",
        "  text = text.split()\n",
        "  text = [w for w in text if not w in stop_words]\n",
        "  text = [word for word in text if word.isalpha()]\n",
        "  if len(text) < MAX_LEN:\n",
        "    diff = MAX_LEN - len(text)\n",
        "    for i in range(diff):\n",
        "      text.append(pad_word)    \n",
        "    text = \" \".join(text)\n",
        "    w_t = tokenizer.tokenize(text)  \n",
        "  else:\n",
        "    text = \" \".join(text[:MAX_LEN])\n",
        "    w_t = tokenizer.tokenize(text)\n",
        "  return w_t"
      ],
      "execution_count": 0,
      "outputs": []
    },
    {
      "cell_type": "code",
      "metadata": {
        "id": "9OrVz5sBJh1f",
        "colab_type": "code",
        "colab": {}
      },
      "source": [
        "d_o_w = []\n",
        "d_i_w = []\n",
        "for i,v in data.iterrows():\n",
        "  d_o_w.append(preprocess_text_wv(v['out'],20))\n",
        "  d_i_w.append(preprocess_text_wv(v['input'],20))\n"
      ],
      "execution_count": 0,
      "outputs": []
    },
    {
      "cell_type": "code",
      "metadata": {
        "id": "w6r0-XxeKOCj",
        "colab_type": "code",
        "colab": {}
      },
      "source": [
        "total_data_wv = d_o_w + d_i_w"
      ],
      "execution_count": 0,
      "outputs": []
    },
    {
      "cell_type": "code",
      "metadata": {
        "id": "w3OJUvh1Kmte",
        "colab_type": "code",
        "colab": {}
      },
      "source": [
        "path = get_tmpfile(\"word2vec.model\")\n",
        "\n",
        "cb = Word2Vec(sentences=total_data_wv, size=100, window=2, min_count=1)"
      ],
      "execution_count": 0,
      "outputs": []
    },
    {
      "cell_type": "code",
      "metadata": {
        "id": "YKPzRSjUKYpj",
        "colab_type": "code",
        "colab": {}
      },
      "source": [
        "wv = []\n",
        "wv_r = []\n",
        "for i in total_data_wv[:5]:\n",
        "  wv_r = []\n",
        "  for w in i:\n",
        "    wv_r.append(cb.wv[w])\n",
        "  wv.append(wv_r)\n",
        "  "
      ],
      "execution_count": 0,
      "outputs": []
    },
    {
      "cell_type": "code",
      "metadata": {
        "id": "M6U2tjF5oeYI",
        "colab_type": "code",
        "outputId": "2d9faf60-2b93-41cd-9ab1-3a0c8111ede6",
        "colab": {
          "base_uri": "https://localhost:8080/",
          "height": 34
        }
      },
      "source": [
        "np.array(wv[0]).shape"
      ],
      "execution_count": 0,
      "outputs": [
        {
          "output_type": "execute_result",
          "data": {
            "text/plain": [
              "(20, 100)"
            ]
          },
          "metadata": {
            "tags": []
          },
          "execution_count": 117
        }
      ]
    },
    {
      "cell_type": "code",
      "metadata": {
        "id": "C-q42h29M6G7",
        "colab_type": "code",
        "colab": {}
      },
      "source": [
        "maxlen = 20\n",
        "encoder_inputs = Input(shape=(maxlen,), name='Encoder-Input')\n",
        "x = wv\n",
        "state_h = Bidirectional(LSTM(10, activation='relu', name='Encoder-Last-LSTM'))(x)\n",
        "encoder_model = Model(inputs=encoder_inputs, outputs=state_h, name='Encoder-Model')\n",
        "seq2seq_encoder_out = encoder_model(encoder_inputs)\n",
        "\n",
        "decoded = RepeatVector(maxlen)(seq2seq_encoder_out)\n",
        "decoder_lstm = Bidirectional(LSTM(10, return_sequences=True, name='Decoder-LSTM-before'))\n",
        "decoder_lstm_output = decoder_lstm(decoded)\n",
        "decoder_dense = Dense(num_words, activation='softmax', name='Final-Output-Dense-before')\n",
        "decoder_outputs = decoder_dense(decoder_lstm_output)\n"
      ],
      "execution_count": 0,
      "outputs": []
    },
    {
      "cell_type": "code",
      "metadata": {
        "id": "XQghVLE3Ntk6",
        "colab_type": "code",
        "colab": {}
      },
      "source": [
        "vecs = encoder_model.predict(wv)"
      ],
      "execution_count": 0,
      "outputs": []
    },
    {
      "cell_type": "code",
      "metadata": {
        "id": "WzCgh3DDQYTS",
        "colab_type": "code",
        "outputId": "b10de6e0-ce46-4455-ee65-1cec533debd0",
        "colab": {
          "base_uri": "https://localhost:8080/",
          "height": 102
        }
      },
      "source": [
        "vecs[0]"
      ],
      "execution_count": 0,
      "outputs": [
        {
          "output_type": "execute_result",
          "data": {
            "text/plain": [
              "array([0.00097221, 0.        , 0.01111911, 0.00551455, 0.00899382,\n",
              "       0.        , 0.00144677, 0.00104177, 0.00907119, 0.00258824,\n",
              "       0.00754483, 0.01400521, 0.        , 0.        , 0.        ,\n",
              "       0.        , 0.00751842, 0.        , 0.        , 0.00371232],\n",
              "      dtype=float32)"
            ]
          },
          "metadata": {
            "tags": []
          },
          "execution_count": 71
        }
      ]
    },
    {
      "cell_type": "code",
      "metadata": {
        "colab_type": "code",
        "id": "CzA-HNB1On5x",
        "colab": {}
      },
      "source": [
        "d_i_wv = []\n",
        "di_w_r = []\n",
        "for i in d_i_w:\n",
        "  di_w_r = []\n",
        "  for w in i:\n",
        "    di_w_r.append(cb.wv[w])\n",
        "  d_i_wv.append(di_w_r)"
      ],
      "execution_count": 0,
      "outputs": []
    },
    {
      "cell_type": "code",
      "metadata": {
        "id": "MrZVSFublBF4",
        "colab_type": "code",
        "outputId": "677fd9c9-8419-4943-b4ba-9d884ccd67ca",
        "colab": {
          "base_uri": "https://localhost:8080/",
          "height": 34
        }
      },
      "source": [
        "d_i_wv[0][0].shape"
      ],
      "execution_count": 0,
      "outputs": [
        {
          "output_type": "execute_result",
          "data": {
            "text/plain": [
              "(100,)"
            ]
          },
          "metadata": {
            "tags": []
          },
          "execution_count": 112
        }
      ]
    },
    {
      "cell_type": "code",
      "metadata": {
        "id": "CuHx_9GuTDNK",
        "colab_type": "code",
        "outputId": "c084c68b-b8f2-4ab2-bf39-09ebb117a17a",
        "colab": {
          "base_uri": "https://localhost:8080/",
          "height": 357
        }
      },
      "source": [
        "d_i_w[1]"
      ],
      "execution_count": 0,
      "outputs": [
        {
          "output_type": "execute_result",
          "data": {
            "text/plain": [
              "['puncture',\n",
              " 'wound',\n",
              " 'without',\n",
              " 'foreign',\n",
              " 'body',\n",
              " 'unspecified',\n",
              " 'back',\n",
              " 'wall',\n",
              " 'thorax',\n",
              " 'penetration',\n",
              " 'thoracic',\n",
              " 'sequela',\n",
              " 'padword',\n",
              " 'padword',\n",
              " 'padword',\n",
              " 'padword',\n",
              " 'padword',\n",
              " 'padword',\n",
              " 'padword',\n",
              " 'padword']"
            ]
          },
          "metadata": {
            "tags": []
          },
          "execution_count": 101
        }
      ]
    },
    {
      "cell_type": "code",
      "metadata": {
        "id": "6DMRd55RTFN2",
        "colab_type": "code",
        "colab": {}
      },
      "source": [
        "d_o_w[1]"
      ],
      "execution_count": 0,
      "outputs": []
    },
    {
      "cell_type": "code",
      "metadata": {
        "colab_type": "code",
        "id": "5e7owsAkOn57",
        "colab": {}
      },
      "source": [
        "maxlen = 20\n",
        "encoder_inputs = Input(shape=(maxlen,), name='Encoder-Input')\n",
        "x = d_i_wv\n",
        "state_h = Bidirectional(LSTM(20, activation='relu', name='Encoder-Last-LSTM'))(x)\n",
        "encoder_model = Model(inputs=encoder_inputs, outputs=state_h, name='Encoder-Model')\n",
        "seq2seq_encoder_out = encoder_model(encoder_inputs)\n",
        "\n",
        "# decoded = RepeatVector(maxlen)(seq2seq_encoder_out)\n",
        "# decoder_lstm = Bidirectional(LSTM(10, return_sequences=True, name='Decoder-LSTM-before'))\n",
        "# decoder_lstm_output = decoder_lstm(decoded)\n",
        "# decoder_dense = Dense(num_words, activation='softmax', name='Final-Output-Dense-before')\n",
        "# decoder_outputs = decoder_dense(decoder_lstm_output)\n"
      ],
      "execution_count": 0,
      "outputs": []
    },
    {
      "cell_type": "code",
      "metadata": {
        "id": "QAhNkb5Cp32v",
        "colab_type": "code",
        "outputId": "1af6a1dd-7734-42a4-fecc-db7e139ebfa6",
        "colab": {
          "base_uri": "https://localhost:8080/",
          "height": 255
        }
      },
      "source": [
        "encoder_model.summary()"
      ],
      "execution_count": 0,
      "outputs": [
        {
          "output_type": "stream",
          "text": [
            "Model: \"Encoder-Model\"\n",
            "_________________________________________________________________\n",
            "Layer (type)                 Output Shape              Param #   \n",
            "=================================================================\n",
            "Encoder-Input (InputLayer)   [(None, 20)]              0         \n",
            "_________________________________________________________________\n",
            "Body-Word-Embedding (Embeddi (None, 20, 100)           200000    \n",
            "_________________________________________________________________\n",
            "bidirectional_5 (Bidirection (None, 20)                8880      \n",
            "=================================================================\n",
            "Total params: 208,880\n",
            "Trainable params: 208,880\n",
            "Non-trainable params: 0\n",
            "_________________________________________________________________\n"
          ],
          "name": "stdout"
        }
      ]
    },
    {
      "cell_type": "code",
      "metadata": {
        "id": "7BmwhhTaO8Xs",
        "colab_type": "code",
        "outputId": "6bbfab65-b58f-40b8-8b32-f27780879214",
        "colab": {
          "base_uri": "https://localhost:8080/",
          "height": 54
        }
      },
      "source": [
        "diw_vecs = encoder_model.predict(d_i_wv)"
      ],
      "execution_count": 0,
      "outputs": [
        {
          "output_type": "stream",
          "text": [
            "WARNING:tensorflow:Model was constructed with shape (None, 20) for input Tensor(\"Encoder-Input_2:0\", shape=(None, 20), dtype=float32), but it was called on an input with incompatible shape (None, 1).\n"
          ],
          "name": "stdout"
        }
      ]
    },
    {
      "cell_type": "code",
      "metadata": {
        "id": "nBxdwxf9lfDf",
        "colab_type": "code",
        "outputId": "184c01a1-3b03-46b6-87e9-882bcdc44633",
        "colab": {
          "base_uri": "https://localhost:8080/",
          "height": 102
        }
      },
      "source": [
        "diw_vecs[0]"
      ],
      "execution_count": 0,
      "outputs": [
        {
          "output_type": "execute_result",
          "data": {
            "text/plain": [
              "array([0.00097221, 0.        , 0.01111911, 0.00551455, 0.00899382,\n",
              "       0.        , 0.00144677, 0.00104177, 0.00907119, 0.00258824,\n",
              "       0.00754483, 0.01400521, 0.        , 0.        , 0.        ,\n",
              "       0.        , 0.00751842, 0.        , 0.        , 0.00371232],\n",
              "      dtype=float32)"
            ]
          },
          "metadata": {
            "tags": []
          },
          "execution_count": 114
        }
      ]
    },
    {
      "cell_type": "code",
      "metadata": {
        "colab_type": "code",
        "id": "JrRYc-oJOvQ4",
        "colab": {}
      },
      "source": [
        "d_o_wv = []\n",
        "do_w_r = []\n",
        "for i in d_o_w:\n",
        "  do_w_r = []\n",
        "  for w in i:\n",
        "    do_w_r.append(cb.wv[w])\n",
        "  d_o_wv.append(do_w_r)"
      ],
      "execution_count": 0,
      "outputs": []
    },
    {
      "cell_type": "code",
      "metadata": {
        "colab_type": "code",
        "id": "v4eeL8qIOvQ7",
        "colab": {}
      },
      "source": [
        "maxlen = 20\n",
        "encoder_inputs = Input(shape=(maxlen,), name='Encoder-Input')\n",
        "x = d_o_wv\n",
        "state_h = Bidirectional(LSTM(10, activation='relu', name='Encoder-Last-LSTM'))(x)\n",
        "encoder_model = Model(inputs=encoder_inputs, outputs=state_h, name='Encoder-Model')\n",
        "seq2seq_encoder_out = encoder_model(encoder_inputs)\n",
        "\n",
        "decoded = RepeatVector(maxlen)(seq2seq_encoder_out)\n",
        "decoder_lstm = Bidirectional(LSTM(10, return_sequences=True, name='Decoder-LSTM-before'))\n",
        "decoder_lstm_output = decoder_lstm(decoded)\n",
        "decoder_dense = Dense(num_words, activation='softmax', name='Final-Output-Dense-before')\n",
        "decoder_outputs = decoder_dense(decoder_lstm_output)\n"
      ],
      "execution_count": 0,
      "outputs": []
    },
    {
      "cell_type": "code",
      "metadata": {
        "id": "QdApSJqNPAi5",
        "colab_type": "code",
        "colab": {}
      },
      "source": [
        "dow_vecs = encoder_model.predict(d_o_wv)"
      ],
      "execution_count": 0,
      "outputs": []
    },
    {
      "cell_type": "code",
      "metadata": {
        "id": "3kquY_ZQPLCf",
        "colab_type": "code",
        "colab": {}
      },
      "source": [
        ""
      ],
      "execution_count": 0,
      "outputs": []
    },
    {
      "cell_type": "code",
      "metadata": {
        "id": "iebJl8-kPCp6",
        "colab_type": "code",
        "outputId": "4535337d-acf0-46af-c90d-31bd85e13e0d",
        "colab": {
          "base_uri": "https://localhost:8080/",
          "height": 66,
          "referenced_widgets": [
            "6e3f7e6d7011408b9b9fbfa322e53f64",
            "0dd40838a2aa4fc4802a9133d572e4ab",
            "9b6ea0f6d1fc40da9fc38fd017e43f73",
            "6722b9535e654361bb20c7eb12e142c9",
            "54994b55efd4417bbfacb8a04d1d424b",
            "a45829616dbc4eeebe5ad2eb8162a987",
            "0787d02b6c814fb180ec3ae576011728",
            "3c29046f631f459aab2e098a16c339ff"
          ]
        }
      },
      "source": [
        "from tqdm.notebook import tqdm\n",
        "from sklearn.metrics.pairwise import cosine_similarity\n",
        "sim = []\n",
        "for i in tqdm(range(len(diw_vecs))):\n",
        "  sim.append(cosine_similarity([list(diw_vecs[i])],[list(dow_vecs[i])]))"
      ],
      "execution_count": 0,
      "outputs": [
        {
          "output_type": "display_data",
          "data": {
            "application/vnd.jupyter.widget-view+json": {
              "model_id": "6e3f7e6d7011408b9b9fbfa322e53f64",
              "version_minor": 0,
              "version_major": 2
            },
            "text/plain": [
              "HBox(children=(IntProgress(value=0), HTML(value='')))"
            ]
          },
          "metadata": {
            "tags": []
          }
        },
        {
          "output_type": "stream",
          "text": [
            "\n"
          ],
          "name": "stdout"
        }
      ]
    },
    {
      "cell_type": "code",
      "metadata": {
        "id": "3OhExdykRwSJ",
        "colab_type": "code",
        "colab": {}
      },
      "source": [
        "data_1 = pd.DataFrame(list(zip(diw_vecs,dow_vecs,sim)), columns=['input','output','similarity'])"
      ],
      "execution_count": 0,
      "outputs": []
    },
    {
      "cell_type": "code",
      "metadata": {
        "id": "G4aU276ASg5t",
        "colab_type": "code",
        "outputId": "f06473a2-cb85-4b16-e6e1-dfed9d970177",
        "colab": {
          "base_uri": "https://localhost:8080/",
          "height": 204
        }
      },
      "source": [
        "data_1.head()"
      ],
      "execution_count": 0,
      "outputs": [
        {
          "output_type": "execute_result",
          "data": {
            "text/html": [
              "<div>\n",
              "<style scoped>\n",
              "    .dataframe tbody tr th:only-of-type {\n",
              "        vertical-align: middle;\n",
              "    }\n",
              "\n",
              "    .dataframe tbody tr th {\n",
              "        vertical-align: top;\n",
              "    }\n",
              "\n",
              "    .dataframe thead th {\n",
              "        text-align: right;\n",
              "    }\n",
              "</style>\n",
              "<table border=\"1\" class=\"dataframe\">\n",
              "  <thead>\n",
              "    <tr style=\"text-align: right;\">\n",
              "      <th></th>\n",
              "      <th>input</th>\n",
              "      <th>output</th>\n",
              "      <th>similarity</th>\n",
              "    </tr>\n",
              "  </thead>\n",
              "  <tbody>\n",
              "    <tr>\n",
              "      <th>0</th>\n",
              "      <td>[0.0009722061, 0.0, 0.011119109, 0.005514547, ...</td>\n",
              "      <td>[0.0009722061, 0.0, 0.011119109, 0.005514547, ...</td>\n",
              "      <td>[[1.0]]</td>\n",
              "    </tr>\n",
              "    <tr>\n",
              "      <th>1</th>\n",
              "      <td>[0.0009722061, 0.0, 0.011119109, 0.005514547, ...</td>\n",
              "      <td>[0.0009722061, 0.0, 0.011119109, 0.005514547, ...</td>\n",
              "      <td>[[1.0]]</td>\n",
              "    </tr>\n",
              "    <tr>\n",
              "      <th>2</th>\n",
              "      <td>[0.0009722061, 0.0, 0.011119109, 0.005514547, ...</td>\n",
              "      <td>[0.0009722061, 0.0, 0.011119109, 0.005514547, ...</td>\n",
              "      <td>[[1.0]]</td>\n",
              "    </tr>\n",
              "    <tr>\n",
              "      <th>3</th>\n",
              "      <td>[0.0009722061, 0.0, 0.011119109, 0.005514547, ...</td>\n",
              "      <td>[0.0009722061, 0.0, 0.011119109, 0.005514547, ...</td>\n",
              "      <td>[[1.0]]</td>\n",
              "    </tr>\n",
              "    <tr>\n",
              "      <th>4</th>\n",
              "      <td>[0.0009722061, 0.0, 0.011119109, 0.005514547, ...</td>\n",
              "      <td>[0.0009722061, 0.0, 0.011119109, 0.005514547, ...</td>\n",
              "      <td>[[1.0]]</td>\n",
              "    </tr>\n",
              "  </tbody>\n",
              "</table>\n",
              "</div>"
            ],
            "text/plain": [
              "                                               input  ... similarity\n",
              "0  [0.0009722061, 0.0, 0.011119109, 0.005514547, ...  ...    [[1.0]]\n",
              "1  [0.0009722061, 0.0, 0.011119109, 0.005514547, ...  ...    [[1.0]]\n",
              "2  [0.0009722061, 0.0, 0.011119109, 0.005514547, ...  ...    [[1.0]]\n",
              "3  [0.0009722061, 0.0, 0.011119109, 0.005514547, ...  ...    [[1.0]]\n",
              "4  [0.0009722061, 0.0, 0.011119109, 0.005514547, ...  ...    [[1.0]]\n",
              "\n",
              "[5 rows x 3 columns]"
            ]
          },
          "metadata": {
            "tags": []
          },
          "execution_count": 92
        }
      ]
    },
    {
      "cell_type": "code",
      "metadata": {
        "colab_type": "code",
        "id": "-zauSLO9TgMF",
        "colab": {}
      },
      "source": [
        "data_1.to_csv('WV_cosine_tokens.csv')"
      ],
      "execution_count": 0,
      "outputs": []
    },
    {
      "cell_type": "code",
      "metadata": {
        "colab_type": "code",
        "id": "sCmLSUP-TgMN",
        "colab": {}
      },
      "source": [
        "data_2 = pd.DataFrame(list(zip(data['input'].tolist(),data['out'].tolist(),sim)),columns=['input','output','similarity'])"
      ],
      "execution_count": 0,
      "outputs": []
    },
    {
      "cell_type": "code",
      "metadata": {
        "colab_type": "code",
        "id": "K3f3XQO3TgMQ",
        "colab": {}
      },
      "source": [
        "data_2.to_csv('WV_cosine_text.csv')"
      ],
      "execution_count": 0,
      "outputs": []
    },
    {
      "cell_type": "code",
      "metadata": {
        "colab_type": "code",
        "id": "PqYhsCA0TgMU",
        "colab": {}
      },
      "source": [
        "import itertools\n",
        "merged_i = list(itertools.chain(*diw_vecs))\n",
        "merged_o = list(itertools.chain(*dow_vecs))"
      ],
      "execution_count": 0,
      "outputs": []
    },
    {
      "cell_type": "code",
      "metadata": {
        "colab_type": "code",
        "outputId": "591e63b5-cbd9-4ccc-8cda-3e1be96e1b42",
        "id": "9AASfkBlTgMZ",
        "colab": {
          "base_uri": "https://localhost:8080/",
          "height": 34
        }
      },
      "source": [
        "cosine_similarity([merged_i],[merged_o])"
      ],
      "execution_count": 0,
      "outputs": [
        {
          "output_type": "execute_result",
          "data": {
            "text/plain": [
              "array([[0.99999946]], dtype=float32)"
            ]
          },
          "metadata": {
            "tags": []
          },
          "execution_count": 107
        }
      ]
    },
    {
      "cell_type": "markdown",
      "metadata": {
        "id": "JhwH6xAqJ5uH",
        "colab_type": "text"
      },
      "source": [
        "### AE Tokens"
      ]
    },
    {
      "cell_type": "code",
      "metadata": {
        "colab_type": "code",
        "id": "pMhg6x4tES37",
        "colab": {}
      },
      "source": [
        "d_o = []\n",
        "d_i = []\n",
        "for i,v in data.iterrows():\n",
        "  d_o.append(preprocess_text(v['out']))\n",
        "  d_i.append(preprocess_text(v['input']))\n"
      ],
      "execution_count": 0,
      "outputs": []
    },
    {
      "cell_type": "code",
      "metadata": {
        "id": "tRARHfHyF-A-",
        "colab_type": "code",
        "colab": {}
      },
      "source": [
        "total_data = d_o + d_i"
      ],
      "execution_count": 0,
      "outputs": []
    },
    {
      "cell_type": "code",
      "metadata": {
        "colab_type": "code",
        "outputId": "b860d53d-57b6-41d3-f0f3-c1ce08733a3a",
        "id": "R4pj01OvES3-",
        "colab": {
          "base_uri": "https://localhost:8080/"
        }
      },
      "source": [
        "data.head()"
      ],
      "execution_count": 0,
      "outputs": [
        {
          "output_type": "execute_result",
          "data": {
            "text/html": [
              "<div>\n",
              "<style scoped>\n",
              "    .dataframe tbody tr th:only-of-type {\n",
              "        vertical-align: middle;\n",
              "    }\n",
              "\n",
              "    .dataframe tbody tr th {\n",
              "        vertical-align: top;\n",
              "    }\n",
              "\n",
              "    .dataframe thead th {\n",
              "        text-align: right;\n",
              "    }\n",
              "</style>\n",
              "<table border=\"1\" class=\"dataframe\">\n",
              "  <thead>\n",
              "    <tr style=\"text-align: right;\">\n",
              "      <th></th>\n",
              "      <th>out</th>\n",
              "      <th>input</th>\n",
              "    </tr>\n",
              "  </thead>\n",
              "  <tbody>\n",
              "    <tr>\n",
              "      <th>64570</th>\n",
              "      <td>Sltr-haris Type I physl fx upper end of unsp f...</td>\n",
              "      <td>Salter-Harris Type I physeal fracture of upper...</td>\n",
              "    </tr>\n",
              "    <tr>\n",
              "      <th>34475</th>\n",
              "      <td>Pnctr w/o fb of unsp bk wl of thorax w penet t...</td>\n",
              "      <td>Puncture wound without foreign body of unspeci...</td>\n",
              "    </tr>\n",
              "    <tr>\n",
              "      <th>30249</th>\n",
              "      <td>Open bite of left eyelid and periocular area, ...</td>\n",
              "      <td>Open bite of left eyelid and periocular area, ...</td>\n",
              "    </tr>\n",
              "    <tr>\n",
              "      <th>89285</th>\n",
              "      <td>Contact with electric knife, subsequent encounter</td>\n",
              "      <td>Contact with electric knife, subsequent encounter</td>\n",
              "    </tr>\n",
              "    <tr>\n",
              "      <th>52297</th>\n",
              "      <td>Subluxation of MCP joint of right index finger...</td>\n",
              "      <td>Subluxation of metacarpophalangeal joint of ri...</td>\n",
              "    </tr>\n",
              "  </tbody>\n",
              "</table>\n",
              "</div>"
            ],
            "text/plain": [
              "                                                     out                                              input\n",
              "64570  Sltr-haris Type I physl fx upper end of unsp f...  Salter-Harris Type I physeal fracture of upper...\n",
              "34475  Pnctr w/o fb of unsp bk wl of thorax w penet t...  Puncture wound without foreign body of unspeci...\n",
              "30249  Open bite of left eyelid and periocular area, ...  Open bite of left eyelid and periocular area, ...\n",
              "89285  Contact with electric knife, subsequent encounter  Contact with electric knife, subsequent encounter\n",
              "52297  Subluxation of MCP joint of right index finger...  Subluxation of metacarpophalangeal joint of ri..."
            ]
          },
          "metadata": {
            "tags": []
          },
          "execution_count": 10
        }
      ]
    },
    {
      "cell_type": "code",
      "metadata": {
        "id": "fkQDxdkU7jTI",
        "colab_type": "code",
        "colab": {}
      },
      "source": [
        "from tensorflow.keras.preprocessing.text import Tokenizer\n",
        "maxlen = 20\n",
        "embed_dim = 100\n",
        "num_words = len(total_data)\n",
        "sentences = total_data\n",
        "tokenizer = Tokenizer(num_words = num_words, split=' ')\n",
        "tokenizer.fit_on_texts(sentences)\n",
        "seqs = tokenizer.texts_to_sequences(sentences)\n",
        "pad_seqs = pad_sequences(seqs, maxlen,padding='post',truncating='post')"
      ],
      "execution_count": 0,
      "outputs": []
    },
    {
      "cell_type": "code",
      "metadata": {
        "id": "xxmah3UX-MQw",
        "colab_type": "code",
        "outputId": "034f8814-750b-42f6-f5ba-b6b4c5ba31e9",
        "colab": {
          "base_uri": "https://localhost:8080/"
        }
      },
      "source": [
        "seqs[0]\n",
        "pad_seqs[0]"
      ],
      "execution_count": 0,
      "outputs": [
        {
          "output_type": "execute_result",
          "data": {
            "text/plain": [
              "[155, 156, 23, 69, 179, 13, 40, 27, 1, 14, 165, 12]"
            ]
          },
          "metadata": {
            "tags": []
          },
          "execution_count": 12
        }
      ]
    },
    {
      "cell_type": "code",
      "metadata": {
        "id": "0UPR7ew5JJwA",
        "colab_type": "code",
        "colab": {}
      },
      "source": [
        ""
      ],
      "execution_count": 0,
      "outputs": []
    },
    {
      "cell_type": "code",
      "metadata": {
        "id": "UNpiV7-T5oBA",
        "colab_type": "code",
        "outputId": "d4e8dacf-bb5b-4db2-80c5-53e74442c6db",
        "colab": {
          "base_uri": "https://localhost:8080/"
        }
      },
      "source": [
        "encoder_inputs = Input(shape=(maxlen,), name='Encoder-Input')\n",
        "emb_layer = Embedding(num_words, embed_dim,input_length = maxlen, name='Body-Word-Embedding', mask_zero=False)\n",
        "x = emb_layer(encoder_inputs)\n",
        "state_h = Bidirectional(LSTM(10, activation='relu', name='Encoder-Last-LSTM'))(x)\n",
        "encoder_model = Model(inputs=encoder_inputs, outputs=state_h, name='Encoder-Model')\n",
        "seq2seq_encoder_out = encoder_model(encoder_inputs)\n",
        "\n",
        "decoded = RepeatVector(maxlen)(seq2seq_encoder_out)\n",
        "decoder_lstm = Bidirectional(LSTM(10, return_sequences=True, name='Decoder-LSTM-before'))\n",
        "decoder_lstm_output = decoder_lstm(decoded)\n",
        "decoder_dense = Dense(num_words, activation='softmax', name='Final-Output-Dense-before')\n",
        "decoder_outputs = decoder_dense(decoder_lstm_output)\n"
      ],
      "execution_count": 0,
      "outputs": [
        {
          "output_type": "stream",
          "text": [
            "WARNING:tensorflow:Layer Encoder-Last-LSTM will not use cuDNN kernel since it doesn't meet the cuDNN kernel criteria. It will use generic GPU kernel as fallback when running on GPU\n",
            "WARNING:tensorflow:Layer Encoder-Last-LSTM will not use cuDNN kernel since it doesn't meet the cuDNN kernel criteria. It will use generic GPU kernel as fallback when running on GPU\n",
            "WARNING:tensorflow:Layer Encoder-Last-LSTM will not use cuDNN kernel since it doesn't meet the cuDNN kernel criteria. It will use generic GPU kernel as fallback when running on GPU\n"
          ],
          "name": "stdout"
        }
      ]
    },
    {
      "cell_type": "code",
      "metadata": {
        "id": "CNzFBiFr82b2",
        "colab_type": "code",
        "colab": {}
      },
      "source": [
        "vecs = encoder_model.predict(pad_seqs)"
      ],
      "execution_count": 0,
      "outputs": []
    },
    {
      "cell_type": "code",
      "metadata": {
        "id": "dIqqh30a8Sgk",
        "colab_type": "code",
        "outputId": "5bfeace9-db61-44cc-aa4d-f63decd25410",
        "colab": {
          "base_uri": "https://localhost:8080/"
        }
      },
      "source": [
        "vecs[1]"
      ],
      "execution_count": 0,
      "outputs": [
        {
          "output_type": "execute_result",
          "data": {
            "text/plain": [
              "array([0.00274622, 0.0062083 , 0.0267744 , 0.02734233, 0.02562678,\n",
              "       0.01053141, 0.006746  , 0.00162819, 0.0323598 , 0.00491927,\n",
              "       0.02339721, 0.00709164, 0.02250202, 0.05504746, 0.0016601 ,\n",
              "       0.02132615, 0.01952218, 0.01310861, 0.01012161, 0.0111191 ],\n",
              "      dtype=float32)"
            ]
          },
          "metadata": {
            "tags": []
          },
          "execution_count": 29
        }
      ]
    },
    {
      "cell_type": "code",
      "metadata": {
        "id": "Sqm8kNDb7IOx",
        "colab_type": "code",
        "outputId": "0ae512e4-40a9-4f9a-9f6f-864b886fb89a",
        "colab": {
          "base_uri": "https://localhost:8080/",
          "height": 231
        }
      },
      "source": [
        "from tensorflow.keras import optimizers\n",
        "seq2seq_Model = Model(encoder_inputs, decoder_outputs)\n",
        "seq2seq_Model.compile(optimizer=optimizers.Nadam(lr=0.001), loss='sparse_categorical_crossentropy')\n",
        "history = seq2seq_Model.fit(pad_seqs, np.expand_dims(pad_seqs, -1),\n",
        "          batch_size=batch_size,\n",
        "          epochs=10)"
      ],
      "execution_count": 0,
      "outputs": [
        {
          "output_type": "error",
          "ename": "NameError",
          "evalue": "ignored",
          "traceback": [
            "\u001b[0;31m---------------------------------------------------------------------------\u001b[0m",
            "\u001b[0;31mNameError\u001b[0m                                 Traceback (most recent call last)",
            "\u001b[0;32m<ipython-input-24-d9f5fd68dd51>\u001b[0m in \u001b[0;36m<module>\u001b[0;34m()\u001b[0m\n\u001b[1;32m      2\u001b[0m \u001b[0mseq2seq_Model\u001b[0m \u001b[0;34m=\u001b[0m \u001b[0mModel\u001b[0m\u001b[0;34m(\u001b[0m\u001b[0mencoder_inputs\u001b[0m\u001b[0;34m,\u001b[0m \u001b[0mdecoder_outputs\u001b[0m\u001b[0;34m)\u001b[0m\u001b[0;34m\u001b[0m\u001b[0;34m\u001b[0m\u001b[0m\n\u001b[1;32m      3\u001b[0m \u001b[0mseq2seq_Model\u001b[0m\u001b[0;34m.\u001b[0m\u001b[0mcompile\u001b[0m\u001b[0;34m(\u001b[0m\u001b[0moptimizer\u001b[0m\u001b[0;34m=\u001b[0m\u001b[0moptimizers\u001b[0m\u001b[0;34m.\u001b[0m\u001b[0mNadam\u001b[0m\u001b[0;34m(\u001b[0m\u001b[0mlr\u001b[0m\u001b[0;34m=\u001b[0m\u001b[0;36m0.001\u001b[0m\u001b[0;34m)\u001b[0m\u001b[0;34m,\u001b[0m \u001b[0mloss\u001b[0m\u001b[0;34m=\u001b[0m\u001b[0;34m'sparse_categorical_crossentropy'\u001b[0m\u001b[0;34m)\u001b[0m\u001b[0;34m\u001b[0m\u001b[0;34m\u001b[0m\u001b[0m\n\u001b[0;32m----> 4\u001b[0;31m history = seq2seq_Model.fit(pad_seqs, np.expand_dims(pad_seqs, -1),\n\u001b[0m\u001b[1;32m      5\u001b[0m           \u001b[0mbatch_size\u001b[0m\u001b[0;34m=\u001b[0m\u001b[0mbatch_size\u001b[0m\u001b[0;34m,\u001b[0m\u001b[0;34m\u001b[0m\u001b[0;34m\u001b[0m\u001b[0m\n\u001b[1;32m      6\u001b[0m           epochs=10)\n",
            "\u001b[0;31mNameError\u001b[0m: name 'pad_seqs' is not defined"
          ]
        }
      ]
    },
    {
      "cell_type": "code",
      "metadata": {
        "id": "fed5tYHY7MU3",
        "colab_type": "code",
        "colab": {}
      },
      "source": [
        ""
      ],
      "execution_count": 0,
      "outputs": []
    },
    {
      "cell_type": "markdown",
      "metadata": {
        "id": "40y4ENbRVNPB",
        "colab_type": "text"
      },
      "source": [
        "## BERT With Stopwords\n"
      ]
    },
    {
      "cell_type": "code",
      "metadata": {
        "id": "0z5ir41IVyQo",
        "colab_type": "code",
        "outputId": "28a7233e-f189-4d55-ae93-e770aa6c96e7",
        "colab": {
          "base_uri": "https://localhost:8080/",
          "height": 34
        }
      },
      "source": [
        "pip install sentencepiece"
      ],
      "execution_count": 0,
      "outputs": [
        {
          "output_type": "stream",
          "text": [
            "Requirement already satisfied: sentencepiece in /usr/local/lib/python3.6/dist-packages (0.1.85)\n"
          ],
          "name": "stdout"
        }
      ]
    },
    {
      "cell_type": "code",
      "metadata": {
        "id": "nUqmAqRvVpnB",
        "colab_type": "code",
        "outputId": "ca9b9be6-7d19-418d-c176-4d2079d40371",
        "colab": {
          "base_uri": "https://localhost:8080/",
          "height": 122
        }
      },
      "source": [
        "pip install bert-for-tf2"
      ],
      "execution_count": 0,
      "outputs": [
        {
          "output_type": "stream",
          "text": [
            "Requirement already satisfied: bert-for-tf2 in /usr/local/lib/python3.6/dist-packages (0.14.1)\n",
            "Requirement already satisfied: params-flow>=0.8.0 in /usr/local/lib/python3.6/dist-packages (from bert-for-tf2) (0.8.0)\n",
            "Requirement already satisfied: py-params>=0.9.6 in /usr/local/lib/python3.6/dist-packages (from bert-for-tf2) (0.9.7)\n",
            "Requirement already satisfied: tqdm in /usr/local/lib/python3.6/dist-packages (from params-flow>=0.8.0->bert-for-tf2) (4.38.0)\n",
            "Requirement already satisfied: numpy in /usr/local/lib/python3.6/dist-packages (from params-flow>=0.8.0->bert-for-tf2) (1.18.2)\n"
          ],
          "name": "stdout"
        }
      ]
    },
    {
      "cell_type": "code",
      "metadata": {
        "id": "gz5hZdItVcgL",
        "colab_type": "code",
        "outputId": "3d6003bf-f5e1-49d8-e9d3-cb97aa0861f9",
        "colab": {
          "base_uri": "https://localhost:8080/",
          "height": 343
        }
      },
      "source": [
        "!pip install pytorch-pretrained-bert pytorch-nlp"
      ],
      "execution_count": 0,
      "outputs": [
        {
          "output_type": "stream",
          "text": [
            "Requirement already satisfied: pytorch-pretrained-bert in /usr/local/lib/python3.6/dist-packages (0.6.2)\n",
            "Requirement already satisfied: pytorch-nlp in /usr/local/lib/python3.6/dist-packages (0.5.0)\n",
            "Requirement already satisfied: regex in /usr/local/lib/python3.6/dist-packages (from pytorch-pretrained-bert) (2019.12.20)\n",
            "Requirement already satisfied: numpy in /usr/local/lib/python3.6/dist-packages (from pytorch-pretrained-bert) (1.18.2)\n",
            "Requirement already satisfied: requests in /usr/local/lib/python3.6/dist-packages (from pytorch-pretrained-bert) (2.21.0)\n",
            "Requirement already satisfied: boto3 in /usr/local/lib/python3.6/dist-packages (from pytorch-pretrained-bert) (1.12.34)\n",
            "Requirement already satisfied: tqdm in /usr/local/lib/python3.6/dist-packages (from pytorch-pretrained-bert) (4.38.0)\n",
            "Requirement already satisfied: torch>=0.4.1 in /usr/local/lib/python3.6/dist-packages (from pytorch-pretrained-bert) (1.4.0)\n",
            "Requirement already satisfied: certifi>=2017.4.17 in /usr/local/lib/python3.6/dist-packages (from requests->pytorch-pretrained-bert) (2019.11.28)\n",
            "Requirement already satisfied: idna<2.9,>=2.5 in /usr/local/lib/python3.6/dist-packages (from requests->pytorch-pretrained-bert) (2.8)\n",
            "Requirement already satisfied: urllib3<1.25,>=1.21.1 in /usr/local/lib/python3.6/dist-packages (from requests->pytorch-pretrained-bert) (1.24.3)\n",
            "Requirement already satisfied: chardet<3.1.0,>=3.0.2 in /usr/local/lib/python3.6/dist-packages (from requests->pytorch-pretrained-bert) (3.0.4)\n",
            "Requirement already satisfied: botocore<1.16.0,>=1.15.34 in /usr/local/lib/python3.6/dist-packages (from boto3->pytorch-pretrained-bert) (1.15.34)\n",
            "Requirement already satisfied: jmespath<1.0.0,>=0.7.1 in /usr/local/lib/python3.6/dist-packages (from boto3->pytorch-pretrained-bert) (0.9.5)\n",
            "Requirement already satisfied: s3transfer<0.4.0,>=0.3.0 in /usr/local/lib/python3.6/dist-packages (from boto3->pytorch-pretrained-bert) (0.3.3)\n",
            "Requirement already satisfied: python-dateutil<3.0.0,>=2.1 in /usr/local/lib/python3.6/dist-packages (from botocore<1.16.0,>=1.15.34->boto3->pytorch-pretrained-bert) (2.8.1)\n",
            "Requirement already satisfied: docutils<0.16,>=0.10 in /usr/local/lib/python3.6/dist-packages (from botocore<1.16.0,>=1.15.34->boto3->pytorch-pretrained-bert) (0.15.2)\n",
            "Requirement already satisfied: six>=1.5 in /usr/local/lib/python3.6/dist-packages (from python-dateutil<3.0.0,>=2.1->botocore<1.16.0,>=1.15.34->boto3->pytorch-pretrained-bert) (1.12.0)\n"
          ],
          "name": "stdout"
        }
      ]
    },
    {
      "cell_type": "code",
      "metadata": {
        "id": "_a4QaGcpVdW7",
        "colab_type": "code",
        "colab": {}
      },
      "source": [
        "from bert import bert_tokenization\n",
        "\n",
        "from tensorflow.keras.layers import Embedding\n",
        "from pytorch_pretrained_bert import BertTokenizer\n",
        "from tqdm.notebook import tqdm\n",
        "from sklearn.metrics.pairwise import cosine_similarity"
      ],
      "execution_count": 0,
      "outputs": []
    },
    {
      "cell_type": "code",
      "metadata": {
        "id": "hPFuc4stPtil",
        "colab_type": "code",
        "colab": {}
      },
      "source": [
        "from nltk.tokenize import RegexpTokenizer\n",
        "def preprocess_text(text):\n",
        "  stop_words = set(stopwords.words('english')) \n",
        "  tokenizer = RegexpTokenizer(r'\\w+')\n",
        "  text = text.lower()\n",
        "  text = text.split()\n",
        "  text = \" \".join(text)\n",
        "  w_t = tokenizer.tokenize(text)\n",
        "  pre_text = [] \n",
        "  for w in w_t: \n",
        "    if w not in stop_words:\n",
        "      pre_text.append(w)\n",
        "  return \" \".join(pre_text)"
      ],
      "execution_count": 0,
      "outputs": []
    },
    {
      "cell_type": "code",
      "metadata": {
        "id": "naACZl91SmmP",
        "colab_type": "code",
        "colab": {}
      },
      "source": [
        "data = pd.read_excel(\"/content/ICD10-2020.xlsm\",header=None,index_col=0,names=['idx','sno','out','input'])"
      ],
      "execution_count": 0,
      "outputs": []
    },
    {
      "cell_type": "code",
      "metadata": {
        "id": "TJvQoSBSPxqK",
        "colab_type": "code",
        "colab": {}
      },
      "source": [
        "data['input'] = data['input'].apply(preprocess_text)\n",
        "data['out'] = data['out'].apply(preprocess_text)"
      ],
      "execution_count": 0,
      "outputs": []
    },
    {
      "cell_type": "code",
      "metadata": {
        "id": "0rBiZaARQddn",
        "colab_type": "code",
        "outputId": "15f1fc4f-715f-42bd-d354-a443185cd6e3",
        "colab": {
          "base_uri": "https://localhost:8080/",
          "height": 204
        }
      },
      "source": [
        "data.head()"
      ],
      "execution_count": 0,
      "outputs": [
        {
          "output_type": "execute_result",
          "data": {
            "text/html": [
              "<div>\n",
              "<style scoped>\n",
              "    .dataframe tbody tr th:only-of-type {\n",
              "        vertical-align: middle;\n",
              "    }\n",
              "\n",
              "    .dataframe tbody tr th {\n",
              "        vertical-align: top;\n",
              "    }\n",
              "\n",
              "    .dataframe thead th {\n",
              "        text-align: right;\n",
              "    }\n",
              "</style>\n",
              "<table border=\"1\" class=\"dataframe\">\n",
              "  <thead>\n",
              "    <tr style=\"text-align: right;\">\n",
              "      <th></th>\n",
              "      <th>idx</th>\n",
              "      <th>sno</th>\n",
              "      <th>out</th>\n",
              "      <th>input</th>\n",
              "    </tr>\n",
              "  </thead>\n",
              "  <tbody>\n",
              "    <tr>\n",
              "      <th>1</th>\n",
              "      <td>A00</td>\n",
              "      <td>0</td>\n",
              "      <td>cholera</td>\n",
              "      <td>cholera</td>\n",
              "    </tr>\n",
              "    <tr>\n",
              "      <th>2</th>\n",
              "      <td>A000</td>\n",
              "      <td>1</td>\n",
              "      <td>cholera due vibrio cholerae 01 biovar cholerae</td>\n",
              "      <td>cholera due vibrio cholerae 01 biovar cholerae</td>\n",
              "    </tr>\n",
              "    <tr>\n",
              "      <th>3</th>\n",
              "      <td>A001</td>\n",
              "      <td>1</td>\n",
              "      <td>cholera due vibrio cholerae 01 biovar eltor</td>\n",
              "      <td>cholera due vibrio cholerae 01 biovar eltor</td>\n",
              "    </tr>\n",
              "    <tr>\n",
              "      <th>4</th>\n",
              "      <td>A009</td>\n",
              "      <td>1</td>\n",
              "      <td>cholera unspecified</td>\n",
              "      <td>cholera unspecified</td>\n",
              "    </tr>\n",
              "    <tr>\n",
              "      <th>5</th>\n",
              "      <td>A01</td>\n",
              "      <td>0</td>\n",
              "      <td>typhoid paratyphoid fevers</td>\n",
              "      <td>typhoid paratyphoid fevers</td>\n",
              "    </tr>\n",
              "  </tbody>\n",
              "</table>\n",
              "</div>"
            ],
            "text/plain": [
              "    idx  ...                                           input\n",
              "1   A00  ...                                         cholera\n",
              "2  A000  ...  cholera due vibrio cholerae 01 biovar cholerae\n",
              "3  A001  ...     cholera due vibrio cholerae 01 biovar eltor\n",
              "4  A009  ...                             cholera unspecified\n",
              "5   A01  ...                      typhoid paratyphoid fevers\n",
              "\n",
              "[5 rows x 4 columns]"
            ]
          },
          "metadata": {
            "tags": []
          },
          "execution_count": 24
        }
      ]
    },
    {
      "cell_type": "code",
      "metadata": {
        "id": "35RFdL-aVIPh",
        "colab_type": "code",
        "colab": {}
      },
      "source": [
        "\n",
        "def gen_id_mask(values):\n",
        "  # We need to add special tokens at the beginning and end of each sentence for BERT to work properly\n",
        "  inputs_s = [\"[CLS] \" + inputs + \" [SEP]\" for inputs in values]\n",
        "\n",
        "  tokenizer = BertTokenizer.from_pretrained('bert-base-uncased', do_lower_case=True)\n",
        "\n",
        "  tokenized_texts_in = [tokenizer.tokenize(inputs) for inputs in inputs_s]\n",
        "  MAX_LEN = 20\n",
        "  input_ids = [tokenizer.convert_tokens_to_ids(x) for x in tokenized_texts_in]\n",
        "  input_ids = pad_sequences(input_ids, maxlen=MAX_LEN, dtype=\"long\", truncating=\"post\", padding=\"post\")\n",
        "\n",
        "  return (input_ids)"
      ],
      "execution_count": 0,
      "outputs": []
    },
    {
      "cell_type": "code",
      "metadata": {
        "id": "yiHQEf6cn7JA",
        "colab_type": "code",
        "colab": {}
      },
      "source": [
        "dfs = np.array_split(data,97)"
      ],
      "execution_count": 0,
      "outputs": []
    },
    {
      "cell_type": "code",
      "metadata": {
        "id": "kFArAgdnoJPE",
        "colab_type": "code",
        "outputId": "e5c2a6fe-bfb2-4592-a520-23d21598766e",
        "colab": {
          "base_uri": "https://localhost:8080/",
          "height": 66,
          "referenced_widgets": [
            "c1eab38c8dfd46f38348858f515a627f",
            "f6b1d70c82374920adaac4e8deff3b50",
            "b33783ab4dc746e8b86efcd2e51b40ef",
            "9e872aec60e148019d0932f5d4c4df49",
            "466ea6fcb63949d791802544bdb9a49a",
            "847cde01c83444d88e476bee3a16f30f",
            "79705f2faec24f9ab219f7ae967b8c21",
            "2a71ff85fec24326920861452b5207df"
          ]
        }
      },
      "source": [
        "input_ids = []\n",
        "output_ids = []\n",
        "for df in tqdm(dfs,total=len(dfs)):\n",
        "  input_ids.append(gen_id_mask(df['input'].values))\n",
        "  output_ids.append(gen_id_mask(df['out'].values))"
      ],
      "execution_count": 0,
      "outputs": [
        {
          "output_type": "display_data",
          "data": {
            "application/vnd.jupyter.widget-view+json": {
              "model_id": "c1eab38c8dfd46f38348858f515a627f",
              "version_minor": 0,
              "version_major": 2
            },
            "text/plain": [
              "HBox(children=(IntProgress(value=0, max=97), HTML(value='')))"
            ]
          },
          "metadata": {
            "tags": []
          }
        },
        {
          "output_type": "stream",
          "text": [
            "\n"
          ],
          "name": "stdout"
        }
      ]
    },
    {
      "cell_type": "code",
      "metadata": {
        "id": "MY50Bucbo4MQ",
        "colab_type": "code",
        "colab": {}
      },
      "source": [
        "import itertools\n",
        "input_ids = list(itertools.chain(*input_ids))\n",
        "output_ids = list(itertools.chain(*output_ids))"
      ],
      "execution_count": 0,
      "outputs": []
    },
    {
      "cell_type": "code",
      "metadata": {
        "id": "7m5TfsP_pMyz",
        "colab_type": "code",
        "outputId": "f24a1a74-75aa-4cc4-a9de-4e20946e48fd",
        "colab": {
          "base_uri": "https://localhost:8080/",
          "height": 66,
          "referenced_widgets": [
            "f1701a9bc1a54f7195d3a6cc519ae1eb",
            "1521070666cb4126a91d85c977021b84",
            "747c727d377847f3b2600ffe31ae90c6",
            "90f8cb06e57e4f9facf47b087984287b",
            "9cb2d7ced3534a7eb1c38cb645c44a32",
            "932579f8331540338b64d7f4ac8071f9",
            "bfd75c7cb8454186adcf8fe9d2b94252",
            "5349fc537f5944818861fef3a68c3cd7"
          ]
        }
      },
      "source": [
        "sim = []\n",
        "for i in tqdm(range(len(input_ids))):\n",
        "  sim.append(cosine_similarity([list(input_ids[i])],[list(output_ids[i])]))"
      ],
      "execution_count": 0,
      "outputs": [
        {
          "output_type": "display_data",
          "data": {
            "application/vnd.jupyter.widget-view+json": {
              "model_id": "f1701a9bc1a54f7195d3a6cc519ae1eb",
              "version_minor": 0,
              "version_major": 2
            },
            "text/plain": [
              "HBox(children=(IntProgress(value=0, max=94765), HTML(value='')))"
            ]
          },
          "metadata": {
            "tags": []
          }
        },
        {
          "output_type": "stream",
          "text": [
            "\n"
          ],
          "name": "stdout"
        }
      ]
    },
    {
      "cell_type": "code",
      "metadata": {
        "id": "BOf-iDbWkj9b",
        "colab_type": "code",
        "colab": {}
      },
      "source": [
        "data_1 = pd.DataFrame(list(zip(input_ids,output_ids,sim)), columns=['input','output','similarity'])"
      ],
      "execution_count": 0,
      "outputs": []
    },
    {
      "cell_type": "code",
      "metadata": {
        "id": "ro04RtLOqX5r",
        "colab_type": "code",
        "outputId": "39a24361-98ff-4e40-e86b-b8251782dede",
        "colab": {
          "base_uri": "https://localhost:8080/",
          "height": 34
        }
      },
      "source": [
        "data_1.shape"
      ],
      "execution_count": 0,
      "outputs": [
        {
          "output_type": "execute_result",
          "data": {
            "text/plain": [
              "(94765, 3)"
            ]
          },
          "metadata": {
            "tags": []
          },
          "execution_count": 60
        }
      ]
    },
    {
      "cell_type": "code",
      "metadata": {
        "id": "im5n6CwUkqo5",
        "colab_type": "code",
        "outputId": "908003bc-f17e-421f-e00a-03de7c94ab7d",
        "colab": {
          "base_uri": "https://localhost:8080/",
          "height": 204
        }
      },
      "source": [
        "data_1.head()"
      ],
      "execution_count": 0,
      "outputs": [
        {
          "output_type": "execute_result",
          "data": {
            "text/html": [
              "<div>\n",
              "<style scoped>\n",
              "    .dataframe tbody tr th:only-of-type {\n",
              "        vertical-align: middle;\n",
              "    }\n",
              "\n",
              "    .dataframe tbody tr th {\n",
              "        vertical-align: top;\n",
              "    }\n",
              "\n",
              "    .dataframe thead th {\n",
              "        text-align: right;\n",
              "    }\n",
              "</style>\n",
              "<table border=\"1\" class=\"dataframe\">\n",
              "  <thead>\n",
              "    <tr style=\"text-align: right;\">\n",
              "      <th></th>\n",
              "      <th>input</th>\n",
              "      <th>output</th>\n",
              "      <th>similarity</th>\n",
              "    </tr>\n",
              "  </thead>\n",
              "  <tbody>\n",
              "    <tr>\n",
              "      <th>0</th>\n",
              "      <td>[101, 25916, 102, 0, 0, 0, 0, 0, 0, 0, 0, 0, 0...</td>\n",
              "      <td>[101, 25916, 102, 0, 0, 0, 0, 0, 0, 0, 0, 0, 0...</td>\n",
              "      <td>[[1.0]]</td>\n",
              "    </tr>\n",
              "    <tr>\n",
              "      <th>1</th>\n",
              "      <td>[101, 25916, 2349, 6819, 23736, 2080, 25916, 2...</td>\n",
              "      <td>[101, 25916, 2349, 6819, 23736, 2080, 25916, 2...</td>\n",
              "      <td>[[0.9999999999999999]]</td>\n",
              "    </tr>\n",
              "    <tr>\n",
              "      <th>2</th>\n",
              "      <td>[101, 25916, 2349, 6819, 23736, 2080, 25916, 2...</td>\n",
              "      <td>[101, 25916, 2349, 6819, 23736, 2080, 25916, 2...</td>\n",
              "      <td>[[0.9999999999999998]]</td>\n",
              "    </tr>\n",
              "    <tr>\n",
              "      <th>3</th>\n",
              "      <td>[101, 25916, 25851, 102, 0, 0, 0, 0, 0, 0, 0, ...</td>\n",
              "      <td>[101, 25916, 25851, 102, 0, 0, 0, 0, 0, 0, 0, ...</td>\n",
              "      <td>[[1.0]]</td>\n",
              "    </tr>\n",
              "    <tr>\n",
              "      <th>4</th>\n",
              "      <td>[101, 5939, 8458, 9314, 11498, 3723, 8458, 931...</td>\n",
              "      <td>[101, 5939, 8458, 9314, 11498, 3723, 8458, 931...</td>\n",
              "      <td>[[1.0]]</td>\n",
              "    </tr>\n",
              "  </tbody>\n",
              "</table>\n",
              "</div>"
            ],
            "text/plain": [
              "                                               input  ...              similarity\n",
              "0  [101, 25916, 102, 0, 0, 0, 0, 0, 0, 0, 0, 0, 0...  ...                 [[1.0]]\n",
              "1  [101, 25916, 2349, 6819, 23736, 2080, 25916, 2...  ...  [[0.9999999999999999]]\n",
              "2  [101, 25916, 2349, 6819, 23736, 2080, 25916, 2...  ...  [[0.9999999999999998]]\n",
              "3  [101, 25916, 25851, 102, 0, 0, 0, 0, 0, 0, 0, ...  ...                 [[1.0]]\n",
              "4  [101, 5939, 8458, 9314, 11498, 3723, 8458, 931...  ...                 [[1.0]]\n",
              "\n",
              "[5 rows x 3 columns]"
            ]
          },
          "metadata": {
            "tags": []
          },
          "execution_count": 61
        }
      ]
    },
    {
      "cell_type": "code",
      "metadata": {
        "id": "QWMMNQKkGA6v",
        "colab_type": "code",
        "outputId": "29433ce1-c397-48dc-a2da-826f8e0c8c92",
        "colab": {
          "base_uri": "https://localhost:8080/",
          "height": 34
        }
      },
      "source": [
        "data_1.to_csv('bert_cosine_tokens.csv')"
      ],
      "execution_count": 0,
      "outputs": [
        {
          "output_type": "stream",
          "text": [
            "ERROR! Session/line number was not unique in database. History logging moved to new session 59\n"
          ],
          "name": "stdout"
        }
      ]
    },
    {
      "cell_type": "code",
      "metadata": {
        "id": "ZX9IF0cRHNYi",
        "colab_type": "code",
        "colab": {}
      },
      "source": [
        "data_2 = pd.DataFrame(list(zip(data['input'].tolist(),data['out'].tolist(),sim)),columns=['input','output','similarity'])"
      ],
      "execution_count": 0,
      "outputs": []
    },
    {
      "cell_type": "code",
      "metadata": {
        "id": "FIvIjH8-HeWw",
        "colab_type": "code",
        "colab": {}
      },
      "source": [
        "data_2.to_csv('bert_cosine_text.csv')"
      ],
      "execution_count": 0,
      "outputs": []
    },
    {
      "cell_type": "code",
      "metadata": {
        "id": "0QANsU_iRA2O",
        "colab_type": "code",
        "colab": {}
      },
      "source": [
        "import itertools\n",
        "merged_i = list(itertools.chain(*input_ids))\n",
        "merged_o = list(itertools.chain(*output_ids))"
      ],
      "execution_count": 0,
      "outputs": []
    },
    {
      "cell_type": "code",
      "metadata": {
        "id": "Kxa9KZpmRMjG",
        "colab_type": "code",
        "outputId": "fc1cc8df-ba7d-4e73-a913-39d11204281f",
        "colab": {
          "base_uri": "https://localhost:8080/",
          "height": 34
        }
      },
      "source": [
        "cosine_similarity([merged_i],[merged_o])"
      ],
      "execution_count": 0,
      "outputs": [
        {
          "output_type": "execute_result",
          "data": {
            "text/plain": [
              "array([[0.76209092]])"
            ]
          },
          "metadata": {
            "tags": []
          },
          "execution_count": 66
        }
      ]
    },
    {
      "cell_type": "code",
      "metadata": {
        "id": "HJ1krW3sRZ21",
        "colab_type": "code",
        "outputId": "f06dd265-b14b-4c6d-c7d2-7dc5f0220489",
        "colab": {
          "base_uri": "https://localhost:8080/",
          "height": 34
        }
      },
      "source": [
        "cosine_similarity([[1]],[[1]])"
      ],
      "execution_count": 0,
      "outputs": [
        {
          "output_type": "execute_result",
          "data": {
            "text/plain": [
              "array([[1.]])"
            ]
          },
          "metadata": {
            "tags": []
          },
          "execution_count": 67
        }
      ]
    },
    {
      "cell_type": "code",
      "metadata": {
        "id": "oTAMNKQP6tMK",
        "colab_type": "code",
        "colab": {}
      },
      "source": [
        ""
      ],
      "execution_count": 0,
      "outputs": []
    },
    {
      "cell_type": "markdown",
      "metadata": {
        "colab_type": "text",
        "id": "IcOqvr9P6t2G"
      },
      "source": [
        "## BERT With out Stopwords\n"
      ]
    },
    {
      "cell_type": "code",
      "metadata": {
        "colab_type": "code",
        "id": "eJbvZ1Hn6t2d",
        "colab": {}
      },
      "source": [
        "from nltk.tokenize import RegexpTokenizer\n",
        "def preprocess_text(text):\n",
        "  stop_words = set(stopwords.words('english')) \n",
        "  tokenizer = RegexpTokenizer(r'\\w+')\n",
        "  text = text.lower()\n",
        "  text = text.split()\n",
        "  text = \" \".join(text)\n",
        "  w_t = tokenizer.tokenize(text)\n",
        "  pre_text = [] \n",
        "  for w in w_t:\n",
        "    pre_text.append(w)\n",
        "  return \" \".join(pre_text)"
      ],
      "execution_count": 0,
      "outputs": []
    },
    {
      "cell_type": "code",
      "metadata": {
        "id": "3EM44RuA7ADF",
        "colab_type": "code",
        "colab": {}
      },
      "source": [
        "a = \"Hai Hello type1 23 2ya ! ook sdf , sdf a the o) ? \""
      ],
      "execution_count": 0,
      "outputs": []
    },
    {
      "cell_type": "code",
      "metadata": {
        "id": "lMrC_hE47Kxg",
        "colab_type": "code",
        "outputId": "a08dc139-38cb-4a9b-cf7e-e7e33897c0bf",
        "colab": {
          "base_uri": "https://localhost:8080/",
          "height": 34
        }
      },
      "source": [
        "preprocess_text(a)"
      ],
      "execution_count": 0,
      "outputs": [
        {
          "output_type": "execute_result",
          "data": {
            "text/plain": [
              "'hai hello type1 23 2ya ook sdf sdf a the o'"
            ]
          },
          "metadata": {
            "tags": []
          },
          "execution_count": 70
        }
      ]
    },
    {
      "cell_type": "code",
      "metadata": {
        "colab_type": "code",
        "id": "MnkjIDK56t2h",
        "colab": {}
      },
      "source": [
        "data = pd.read_excel(\"/content/ICD10-2020.xlsm\",header=None,index_col=0,names=['idx','sno','out','input'])"
      ],
      "execution_count": 0,
      "outputs": []
    },
    {
      "cell_type": "code",
      "metadata": {
        "colab_type": "code",
        "id": "DJP9rnR-6t2k",
        "colab": {}
      },
      "source": [
        "data['input'] = data['input'].apply(preprocess_text)\n",
        "data['out'] = data['out'].apply(preprocess_text)"
      ],
      "execution_count": 0,
      "outputs": []
    },
    {
      "cell_type": "code",
      "metadata": {
        "colab_type": "code",
        "outputId": "590b02d6-2f72-4366-aa96-4c397b8c120f",
        "id": "JfIFjeui6t2o",
        "colab": {
          "base_uri": "https://localhost:8080/",
          "height": 204
        }
      },
      "source": [
        "data.head()"
      ],
      "execution_count": 0,
      "outputs": [
        {
          "output_type": "execute_result",
          "data": {
            "text/html": [
              "<div>\n",
              "<style scoped>\n",
              "    .dataframe tbody tr th:only-of-type {\n",
              "        vertical-align: middle;\n",
              "    }\n",
              "\n",
              "    .dataframe tbody tr th {\n",
              "        vertical-align: top;\n",
              "    }\n",
              "\n",
              "    .dataframe thead th {\n",
              "        text-align: right;\n",
              "    }\n",
              "</style>\n",
              "<table border=\"1\" class=\"dataframe\">\n",
              "  <thead>\n",
              "    <tr style=\"text-align: right;\">\n",
              "      <th></th>\n",
              "      <th>idx</th>\n",
              "      <th>sno</th>\n",
              "      <th>out</th>\n",
              "      <th>input</th>\n",
              "    </tr>\n",
              "  </thead>\n",
              "  <tbody>\n",
              "    <tr>\n",
              "      <th>1</th>\n",
              "      <td>A00</td>\n",
              "      <td>0</td>\n",
              "      <td>cholera</td>\n",
              "      <td>cholera</td>\n",
              "    </tr>\n",
              "    <tr>\n",
              "      <th>2</th>\n",
              "      <td>A000</td>\n",
              "      <td>1</td>\n",
              "      <td>cholera due to vibrio cholerae 01 biovar cholerae</td>\n",
              "      <td>cholera due to vibrio cholerae 01 biovar cholerae</td>\n",
              "    </tr>\n",
              "    <tr>\n",
              "      <th>3</th>\n",
              "      <td>A001</td>\n",
              "      <td>1</td>\n",
              "      <td>cholera due to vibrio cholerae 01 biovar eltor</td>\n",
              "      <td>cholera due to vibrio cholerae 01 biovar eltor</td>\n",
              "    </tr>\n",
              "    <tr>\n",
              "      <th>4</th>\n",
              "      <td>A009</td>\n",
              "      <td>1</td>\n",
              "      <td>cholera unspecified</td>\n",
              "      <td>cholera unspecified</td>\n",
              "    </tr>\n",
              "    <tr>\n",
              "      <th>5</th>\n",
              "      <td>A01</td>\n",
              "      <td>0</td>\n",
              "      <td>typhoid and paratyphoid fevers</td>\n",
              "      <td>typhoid and paratyphoid fevers</td>\n",
              "    </tr>\n",
              "  </tbody>\n",
              "</table>\n",
              "</div>"
            ],
            "text/plain": [
              "    idx  ...                                              input\n",
              "1   A00  ...                                            cholera\n",
              "2  A000  ...  cholera due to vibrio cholerae 01 biovar cholerae\n",
              "3  A001  ...     cholera due to vibrio cholerae 01 biovar eltor\n",
              "4  A009  ...                                cholera unspecified\n",
              "5   A01  ...                     typhoid and paratyphoid fevers\n",
              "\n",
              "[5 rows x 4 columns]"
            ]
          },
          "metadata": {
            "tags": []
          },
          "execution_count": 73
        }
      ]
    },
    {
      "cell_type": "code",
      "metadata": {
        "colab_type": "code",
        "id": "j1rxbNoSq8tP",
        "colab": {}
      },
      "source": [
        "\n",
        "def gen_id_mask(values):\n",
        "  # We need to add special tokens at the beginning and end of each sentence for BERT to work properly\n",
        "  inputs_s = [\"[CLS] \" + inputs + \" [SEP]\" for inputs in values]\n",
        "\n",
        "  tokenizer = BertTokenizer.from_pretrained('bert-base-uncased', do_lower_case=True)\n",
        "\n",
        "  tokenized_texts_in = [tokenizer.tokenize(inputs) for inputs in inputs_s]\n",
        "  MAX_LEN = 20\n",
        "  input_ids = [tokenizer.convert_tokens_to_ids(x) for x in tokenized_texts_in]\n",
        "  input_ids = pad_sequences(input_ids, maxlen=MAX_LEN, dtype=\"long\", truncating=\"post\", padding=\"post\")\n",
        "\n",
        "  return (input_ids)"
      ],
      "execution_count": 0,
      "outputs": []
    },
    {
      "cell_type": "code",
      "metadata": {
        "colab_type": "code",
        "id": "ZaLWB5knq8tX",
        "colab": {}
      },
      "source": [
        "dfs = np.array_split(data,97)"
      ],
      "execution_count": 0,
      "outputs": []
    },
    {
      "cell_type": "code",
      "metadata": {
        "colab_type": "code",
        "outputId": "3c58e60d-0fdb-497e-f8af-e14fbd0b49e8",
        "id": "jzwrzrZbq8tb",
        "colab": {
          "base_uri": "https://localhost:8080/",
          "height": 66,
          "referenced_widgets": [
            "40bd3bdb50d14eec9a8677ec8dfe4617",
            "37816fe6386442ce8333a38444b9cbc8",
            "226f95bf6d7f4b8ba34e4fa134163c65",
            "c79d39cce8994f278117646263c6746d",
            "718ce9404de04165bb84856b3abb803b",
            "7b1ba1be5411405f95690f9918a49bee",
            "657645359dd744ec9c2fda4743b0a32f",
            "24fcff01e5244331981f82b57d35be26"
          ]
        }
      },
      "source": [
        "input_ids = []\n",
        "output_ids = []\n",
        "for df in tqdm(dfs,total=len(dfs)):\n",
        "  input_ids.append(gen_id_mask(df['input'].values))\n",
        "  output_ids.append(gen_id_mask(df['out'].values))"
      ],
      "execution_count": 0,
      "outputs": [
        {
          "output_type": "display_data",
          "data": {
            "application/vnd.jupyter.widget-view+json": {
              "model_id": "40bd3bdb50d14eec9a8677ec8dfe4617",
              "version_minor": 0,
              "version_major": 2
            },
            "text/plain": [
              "HBox(children=(IntProgress(value=0, max=97), HTML(value='')))"
            ]
          },
          "metadata": {
            "tags": []
          }
        },
        {
          "output_type": "stream",
          "text": [
            "\n"
          ],
          "name": "stdout"
        }
      ]
    },
    {
      "cell_type": "code",
      "metadata": {
        "colab_type": "code",
        "id": "UWBI8zQ-q8tf",
        "colab": {}
      },
      "source": [
        "import itertools\n",
        "input_ids = list(itertools.chain(*input_ids))\n",
        "output_ids = list(itertools.chain(*output_ids))"
      ],
      "execution_count": 0,
      "outputs": []
    },
    {
      "cell_type": "code",
      "metadata": {
        "colab_type": "code",
        "outputId": "0276806b-fa07-43d5-f106-6f1bbcee1e5f",
        "id": "-Za2TilFq8ti",
        "colab": {
          "base_uri": "https://localhost:8080/",
          "height": 66,
          "referenced_widgets": [
            "2b7bd384a6184a048c310c1d8b148dbf",
            "f163d97027cf418596606ab624d01ed2",
            "6df9649df7144aadb753c0b4703391aa",
            "a99ca1f7a99241339f1142a69927614b",
            "572c8a6ddf194277a65304b7ab3eb926",
            "92bf1bd020d642729dc196c57d5e8fe8",
            "fa4d854687a24666a9b35f3360956edf",
            "93a063c16648440cac3385826c9fcf4f"
          ]
        }
      },
      "source": [
        "sim = []\n",
        "for i in tqdm(range(len(input_ids))):\n",
        "  sim.append(cosine_similarity([list(input_ids[i])],[list(output_ids[i])]))"
      ],
      "execution_count": 0,
      "outputs": [
        {
          "output_type": "display_data",
          "data": {
            "application/vnd.jupyter.widget-view+json": {
              "model_id": "2b7bd384a6184a048c310c1d8b148dbf",
              "version_minor": 0,
              "version_major": 2
            },
            "text/plain": [
              "HBox(children=(IntProgress(value=0, max=94765), HTML(value='')))"
            ]
          },
          "metadata": {
            "tags": []
          }
        },
        {
          "output_type": "stream",
          "text": [
            "\n"
          ],
          "name": "stdout"
        }
      ]
    },
    {
      "cell_type": "code",
      "metadata": {
        "colab_type": "code",
        "id": "WP794uVH6t3H",
        "colab": {}
      },
      "source": [
        "data_3 = pd.DataFrame(list(zip(input_ids,output_ids,sim)), columns=['input','output','similarity'])"
      ],
      "execution_count": 0,
      "outputs": []
    },
    {
      "cell_type": "code",
      "metadata": {
        "colab_type": "code",
        "outputId": "2a902a6d-b25a-40b4-d124-8639e3e5f065",
        "id": "ksTRMDyN6t3O",
        "colab": {
          "base_uri": "https://localhost:8080/",
          "height": 204
        }
      },
      "source": [
        "data_3.head()"
      ],
      "execution_count": 0,
      "outputs": [
        {
          "output_type": "execute_result",
          "data": {
            "text/html": [
              "<div>\n",
              "<style scoped>\n",
              "    .dataframe tbody tr th:only-of-type {\n",
              "        vertical-align: middle;\n",
              "    }\n",
              "\n",
              "    .dataframe tbody tr th {\n",
              "        vertical-align: top;\n",
              "    }\n",
              "\n",
              "    .dataframe thead th {\n",
              "        text-align: right;\n",
              "    }\n",
              "</style>\n",
              "<table border=\"1\" class=\"dataframe\">\n",
              "  <thead>\n",
              "    <tr style=\"text-align: right;\">\n",
              "      <th></th>\n",
              "      <th>input</th>\n",
              "      <th>output</th>\n",
              "      <th>similarity</th>\n",
              "    </tr>\n",
              "  </thead>\n",
              "  <tbody>\n",
              "    <tr>\n",
              "      <th>0</th>\n",
              "      <td>[101, 25916, 102, 0, 0, 0, 0, 0, 0, 0, 0, 0, 0...</td>\n",
              "      <td>[101, 25916, 102, 0, 0, 0, 0, 0, 0, 0, 0, 0, 0...</td>\n",
              "      <td>[[1.0]]</td>\n",
              "    </tr>\n",
              "    <tr>\n",
              "      <th>1</th>\n",
              "      <td>[101, 25916, 2349, 2000, 6819, 23736, 2080, 25...</td>\n",
              "      <td>[101, 25916, 2349, 2000, 6819, 23736, 2080, 25...</td>\n",
              "      <td>[[1.0]]</td>\n",
              "    </tr>\n",
              "    <tr>\n",
              "      <th>2</th>\n",
              "      <td>[101, 25916, 2349, 2000, 6819, 23736, 2080, 25...</td>\n",
              "      <td>[101, 25916, 2349, 2000, 6819, 23736, 2080, 25...</td>\n",
              "      <td>[[0.9999999999999998]]</td>\n",
              "    </tr>\n",
              "    <tr>\n",
              "      <th>3</th>\n",
              "      <td>[101, 25916, 25851, 102, 0, 0, 0, 0, 0, 0, 0, ...</td>\n",
              "      <td>[101, 25916, 25851, 102, 0, 0, 0, 0, 0, 0, 0, ...</td>\n",
              "      <td>[[1.0]]</td>\n",
              "    </tr>\n",
              "    <tr>\n",
              "      <th>4</th>\n",
              "      <td>[101, 5939, 8458, 9314, 1998, 11498, 3723, 845...</td>\n",
              "      <td>[101, 5939, 8458, 9314, 1998, 11498, 3723, 845...</td>\n",
              "      <td>[[1.0000000000000002]]</td>\n",
              "    </tr>\n",
              "  </tbody>\n",
              "</table>\n",
              "</div>"
            ],
            "text/plain": [
              "                                               input  ...              similarity\n",
              "0  [101, 25916, 102, 0, 0, 0, 0, 0, 0, 0, 0, 0, 0...  ...                 [[1.0]]\n",
              "1  [101, 25916, 2349, 2000, 6819, 23736, 2080, 25...  ...                 [[1.0]]\n",
              "2  [101, 25916, 2349, 2000, 6819, 23736, 2080, 25...  ...  [[0.9999999999999998]]\n",
              "3  [101, 25916, 25851, 102, 0, 0, 0, 0, 0, 0, 0, ...  ...                 [[1.0]]\n",
              "4  [101, 5939, 8458, 9314, 1998, 11498, 3723, 845...  ...  [[1.0000000000000002]]\n",
              "\n",
              "[5 rows x 3 columns]"
            ]
          },
          "metadata": {
            "tags": []
          },
          "execution_count": 85
        }
      ]
    },
    {
      "cell_type": "code",
      "metadata": {
        "colab_type": "code",
        "id": "xq78Qn5o6t3S",
        "colab": {}
      },
      "source": [
        "data_3.to_csv('bert_cosine_ws_tokens.csv')"
      ],
      "execution_count": 0,
      "outputs": []
    },
    {
      "cell_type": "code",
      "metadata": {
        "colab_type": "code",
        "id": "OyZCNgpU6t3Y",
        "colab": {}
      },
      "source": [
        "data_4 = pd.DataFrame(list(zip(data['input'].tolist(),data['out'].tolist(),sim)),columns=['input','output','similarity'])"
      ],
      "execution_count": 0,
      "outputs": []
    },
    {
      "cell_type": "code",
      "metadata": {
        "colab_type": "code",
        "id": "F3LdzSSz6t3c",
        "colab": {}
      },
      "source": [
        "data_4.to_csv('bert_cosine_ws_text.csv')"
      ],
      "execution_count": 0,
      "outputs": []
    },
    {
      "cell_type": "code",
      "metadata": {
        "colab_type": "code",
        "id": "vZdczwVT6t3l",
        "colab": {}
      },
      "source": [
        "import itertools\n",
        "merged_i = list(itertools.chain(*input_ids))\n",
        "merged_o = list(itertools.chain(*output_ids))"
      ],
      "execution_count": 0,
      "outputs": []
    },
    {
      "cell_type": "code",
      "metadata": {
        "colab_type": "code",
        "outputId": "6176946d-c6b9-458e-c9d2-9df3a8558c23",
        "id": "SJImWB0g6t3o",
        "colab": {
          "base_uri": "https://localhost:8080/",
          "height": 34
        }
      },
      "source": [
        "cosine_similarity([merged_i],[merged_o])"
      ],
      "execution_count": 0,
      "outputs": [
        {
          "output_type": "execute_result",
          "data": {
            "text/plain": [
              "array([[0.74995165]])"
            ]
          },
          "metadata": {
            "tags": []
          },
          "execution_count": 90
        }
      ]
    },
    {
      "cell_type": "code",
      "metadata": {
        "id": "zXey61gUr1G3",
        "colab_type": "code",
        "outputId": "43eb9c77-4f39-4a0c-f1eb-763535e8a843",
        "colab": {
          "base_uri": "https://localhost:8080/",
          "height": 735
        }
      },
      "source": [
        "import seaborn as sns\n",
        "import matplotlib.pyplot as plt\n",
        "\n",
        "fig,(ax1,ax2) = plt.subplots(nrows=2,ncols=1,figsize=(20,15))\n",
        "ax1.set_title('Cosine similarity with stopwords')\n",
        "ax2.set_title('Cosine similarity with out stopwords')\n",
        "sns.distplot(data_1['similarity'],ax=ax1)\n",
        "sns.distplot(data_4['similarity'],ax=ax2);"
      ],
      "execution_count": 0,
      "outputs": [
        {
          "output_type": "display_data",
          "data": {
            "image/png": "[encoded data removed]",
            "text/plain": [
              "<Figure size 1440x1080 with 2 Axes>"
            ]
          },
          "metadata": {
            "tags": []
          }
        }
      ]
    },
    {
      "cell_type": "code",
      "metadata": {
        "id": "DQKPZ7NisZrK",
        "colab_type": "code",
        "colab": {}
      },
      "source": [
        "fig.savefig('cosine_sim.png')"
      ],
      "execution_count": 0,
      "outputs": []
    },
    {
      "cell_type": "markdown",
      "metadata": {
        "id": "N8zhGCqrFeX9",
        "colab_type": "text"
      },
      "source": [
        "## Keras AE"
      ]
    },
    {
      "cell_type": "code",
      "metadata": {
        "id": "pVjMQyx0sp3m",
        "colab_type": "code",
        "colab": {}
      },
      "source": [
        "data = pd.read_excel(\"/content/ICD10-2020.xlsm\",header=None,index_col=0,names=['idx','sno','out','input'])\n",
        "#data = data.loc[:,['out','input']].sample(n=1000, random_state=1)"
      ],
      "execution_count": 0,
      "outputs": []
    },
    {
      "cell_type": "code",
      "metadata": {
        "id": "X305ffxHFZ18",
        "colab_type": "code",
        "colab": {}
      },
      "source": [
        "from nltk.tokenize import RegexpTokenizer\n",
        "def preprocess_text(text,MAX_LEN,pad_word = 'padword'):\n",
        "  stop_words = set(stopwords.words('english')) \n",
        "  tokenizer = RegexpTokenizer(r'\\w+')\n",
        "  text = text.lower()\n",
        "  text = text.split()\n",
        "  text = [w for w in text if not w in stop_words]\n",
        "  text = [word for word in text if word.isalpha()]\n",
        "  if len(text) < MAX_LEN:\n",
        "    diff = MAX_LEN - len(text)\n",
        "    for i in range(diff):\n",
        "      text.append(pad_word)    \n",
        "    text = \" \".join(text)\n",
        "    w_t = tokenizer.tokenize(text)  \n",
        "  else:\n",
        "    text = \" \".join(text[:MAX_LEN])\n",
        "    w_t = tokenizer.tokenize(text)\n",
        "  return w_t"
      ],
      "execution_count": 0,
      "outputs": []
    },
    {
      "cell_type": "code",
      "metadata": {
        "id": "RROqdYRHFdmA",
        "colab_type": "code",
        "colab": {}
      },
      "source": [
        "d_o = []\n",
        "d_i = []\n",
        "for i,v in data.iterrows():\n",
        "  d_o.append(preprocess_text(v['out'],20))\n",
        "  d_i.append(preprocess_text(v['input'],20))\n"
      ],
      "execution_count": 0,
      "outputs": []
    },
    {
      "cell_type": "code",
      "metadata": {
        "colab_type": "code",
        "id": "cz393H5eF_5x",
        "colab": {}
      },
      "source": [
        "total_data = d_o + d_i"
      ],
      "execution_count": 0,
      "outputs": []
    },
    {
      "cell_type": "code",
      "metadata": {
        "colab_type": "code",
        "id": "hvC3lRMyF_54",
        "colab": {}
      },
      "source": [
        "path = get_tmpfile(\"word2vec.model\")\n",
        "\n",
        "cb = Word2Vec(sentences=total_data, size=100, window=2, min_count=1)"
      ],
      "execution_count": 0,
      "outputs": []
    },
    {
      "cell_type": "code",
      "metadata": {
        "id": "zWXH9oQqG3oO",
        "colab_type": "code",
        "colab": {}
      },
      "source": [
        "d_i_wv = []\n",
        "di_w_r = []\n",
        "for i in d_i:\n",
        "  di_w_r = []\n",
        "  for w in i:\n",
        "    di_w_r.append(cb.wv[w])\n",
        "  d_i_wv.append(di_w_r)"
      ],
      "execution_count": 0,
      "outputs": []
    },
    {
      "cell_type": "code",
      "metadata": {
        "id": "N0FP4_vrGdO5",
        "colab_type": "code",
        "colab": {}
      },
      "source": [
        "d_o_wv = []\n",
        "do_w_r = []\n",
        "for i in d_o:\n",
        "  do_w_r = []\n",
        "  for w in i:\n",
        "    do_w_r.append(cb.wv[w])\n",
        "  d_o_wv.append(do_w_r)"
      ],
      "execution_count": 0,
      "outputs": []
    },
    {
      "cell_type": "code",
      "metadata": {
        "id": "bijIsWoQPqd-",
        "colab_type": "code",
        "colab": {}
      },
      "source": [
        "d_i_wv_ = np.array(d_i_wv)"
      ],
      "execution_count": 0,
      "outputs": []
    },
    {
      "cell_type": "code",
      "metadata": {
        "id": "EXjG06cvPv1x",
        "colab_type": "code",
        "outputId": "30b63876-e1e1-44a7-e953-86f1a7fee1a7",
        "colab": {
          "base_uri": "https://localhost:8080/",
          "height": 34
        }
      },
      "source": [
        "d_i_wv_[0].shape"
      ],
      "execution_count": 0,
      "outputs": [
        {
          "output_type": "execute_result",
          "data": {
            "text/plain": [
              "(20, 100)"
            ]
          },
          "metadata": {
            "tags": []
          },
          "execution_count": 48
        }
      ]
    },
    {
      "cell_type": "code",
      "metadata": {
        "id": "D0bvxjHSQEg4",
        "colab_type": "code",
        "outputId": "f3d06bb0-ec42-4732-9a86-bea2a432efae",
        "colab": {
          "base_uri": "https://localhost:8080/",
          "height": 34
        }
      },
      "source": [
        "d_i_wv_[0].shape"
      ],
      "execution_count": 0,
      "outputs": [
        {
          "output_type": "execute_result",
          "data": {
            "text/plain": [
              "(20, 100)"
            ]
          },
          "metadata": {
            "tags": []
          },
          "execution_count": 49
        }
      ]
    },
    {
      "cell_type": "code",
      "metadata": {
        "id": "Ux8SBHdFQvqg",
        "colab_type": "code",
        "colab": {}
      },
      "source": [
        "import itertools\n",
        "di_m = []\n",
        "do_m = []\n",
        "for i in range(len(d_i_wv)):\n",
        "  di_m.append(list(itertools.chain(*d_i_wv[i])))\n",
        "  do_m.append(list(itertools.chain(*d_o_wv[i])))\n"
      ],
      "execution_count": 0,
      "outputs": []
    },
    {
      "cell_type": "code",
      "metadata": {
        "colab_type": "code",
        "id": "RS4mY62aOUT3",
        "colab": {}
      },
      "source": [
        "di_m = np.array(di_m)\n",
        "do_m = np.array(do_m)"
      ],
      "execution_count": 0,
      "outputs": []
    },
    {
      "cell_type": "code",
      "metadata": {
        "id": "EjkNbOhNHBxk",
        "colab_type": "code",
        "colab": {}
      },
      "source": [
        "from tensorflow.keras.models import Model\n",
        "\n",
        "\n",
        "encoding_dim = 20 \n",
        "input_img = Input(shape=(2000,))\n",
        "layer_1 = Dense(1000, activation='relu')(input_img)\n",
        "layer_2 = Dense(100, activation='relu')(layer_1)\n",
        "encoded = Dense(encoding_dim, activation='relu')(layer_2)\n",
        "\n",
        "decoded = Dense(2000, activation='sigmoid')(encoded)\n",
        "\n",
        "autoencoder = Model(input_img, decoded)\n",
        "\n",
        "encoder = Model(input_img, encoded)\n",
        "\n",
        "encoded_input = Input(shape=(encoding_dim,))\n",
        "\n",
        "decoder_layer = Dense(encoding_dim, activation='relu')(encoded_input)\n",
        "decoder_layer = Dense(100, activation='relu')(decoder_layer)\n",
        "decoder_layer = Dense(1000, activation='relu')(decoder_layer)\n",
        "decoder_layer = Dense(2000, activation='sigmoid')(decoder_layer)\n",
        "\n",
        "decoder = Model(encoded_input, decoder_layer)\n",
        "\n",
        "autoencoder.compile(optimizer='adadelta', loss='binary_crossentropy')"
      ],
      "execution_count": 0,
      "outputs": []
    },
    {
      "cell_type": "code",
      "metadata": {
        "id": "_q3nTJI4dg3s",
        "colab_type": "code",
        "outputId": "870327c4-c452-484d-eeea-8db74f5d502f",
        "colab": {
          "base_uri": "https://localhost:8080/",
          "height": 34
        }
      },
      "source": [
        "di_m.shape"
      ],
      "execution_count": 0,
      "outputs": [
        {
          "output_type": "execute_result",
          "data": {
            "text/plain": [
              "(94765, 2000)"
            ]
          },
          "metadata": {
            "tags": []
          },
          "execution_count": 120
        }
      ]
    },
    {
      "cell_type": "code",
      "metadata": {
        "id": "a6GKlr16YgqG",
        "colab_type": "code",
        "outputId": "b25d7bf5-8221-4e92-de6a-fd098499cafc",
        "colab": {
          "base_uri": "https://localhost:8080/",
          "height": 714
        }
      },
      "source": [
        "autoencoder.fit(di_m[:94000], di_m[:94000],\n",
        "                epochs=20,\n",
        "                batch_size=256,\n",
        "                shuffle=True,\n",
        "                validation_data=(di_m[765:], di_m[765:]))"
      ],
      "execution_count": 0,
      "outputs": [
        {
          "output_type": "stream",
          "text": [
            "Epoch 1/20\n",
            "368/368 [==============================] - 4s 12ms/step - loss: 0.6956 - val_loss: 0.6950\n",
            "Epoch 2/20\n",
            "368/368 [==============================] - 4s 11ms/step - loss: 0.6944 - val_loss: 0.6939\n",
            "Epoch 3/20\n",
            "368/368 [==============================] - 4s 11ms/step - loss: 0.6934 - val_loss: 0.6930\n",
            "Epoch 4/20\n",
            "368/368 [==============================] - 4s 11ms/step - loss: 0.6925 - val_loss: 0.6921\n",
            "Epoch 5/20\n",
            "368/368 [==============================] - 4s 11ms/step - loss: 0.6916 - val_loss: 0.6912\n",
            "Epoch 6/20\n",
            "368/368 [==============================] - 4s 11ms/step - loss: 0.6907 - val_loss: 0.6903\n",
            "Epoch 7/20\n",
            "368/368 [==============================] - 4s 11ms/step - loss: 0.6897 - val_loss: 0.6892\n",
            "Epoch 8/20\n",
            "368/368 [==============================] - 4s 11ms/step - loss: 0.6886 - val_loss: 0.6880\n",
            "Epoch 9/20\n",
            "368/368 [==============================] - 4s 11ms/step - loss: 0.6873 - val_loss: 0.6865\n",
            "Epoch 10/20\n",
            "368/368 [==============================] - 4s 11ms/step - loss: 0.6857 - val_loss: 0.6847\n",
            "Epoch 11/20\n",
            "368/368 [==============================] - 4s 11ms/step - loss: 0.6836 - val_loss: 0.6824\n",
            "Epoch 12/20\n",
            "368/368 [==============================] - 4s 11ms/step - loss: 0.6811 - val_loss: 0.6795\n",
            "Epoch 13/20\n",
            "368/368 [==============================] - 4s 11ms/step - loss: 0.6777 - val_loss: 0.6757\n",
            "Epoch 14/20\n",
            "368/368 [==============================] - 4s 11ms/step - loss: 0.6733 - val_loss: 0.6707\n",
            "Epoch 15/20\n",
            "368/368 [==============================] - 4s 11ms/step - loss: 0.6676 - val_loss: 0.6641\n",
            "Epoch 16/20\n",
            "368/368 [==============================] - 4s 11ms/step - loss: 0.6598 - val_loss: 0.6550\n",
            "Epoch 17/20\n",
            "368/368 [==============================] - 4s 11ms/step - loss: 0.6492 - val_loss: 0.6426\n",
            "Epoch 18/20\n",
            "368/368 [==============================] - 4s 11ms/step - loss: 0.6345 - val_loss: 0.6254\n",
            "Epoch 19/20\n",
            "368/368 [==============================] - 4s 11ms/step - loss: 0.6138 - val_loss: 0.6008\n",
            "Epoch 20/20\n",
            "368/368 [==============================] - 4s 11ms/step - loss: 0.5842 - val_loss: 0.5653\n"
          ],
          "name": "stdout"
        },
        {
          "output_type": "execute_result",
          "data": {
            "text/plain": [
              "<tensorflow.python.keras.callbacks.History at 0x7fca4b25ac50>"
            ]
          },
          "metadata": {
            "tags": []
          },
          "execution_count": 121
        }
      ]
    },
    {
      "cell_type": "code",
      "metadata": {
        "id": "OpLLEhG6PDA7",
        "colab_type": "code",
        "colab": {}
      },
      "source": [
        "i_t = encoder.predict(di_m)\n",
        "o_t = encoder.predict(do_m)\n",
        "\n",
        "\n",
        "d_i_t = decoder.predict(i_t)\n",
        "d_o_t = decoder.predict(o_t)"
      ],
      "execution_count": 0,
      "outputs": []
    },
    {
      "cell_type": "code",
      "metadata": {
        "id": "hwC8UXu-S2lB",
        "colab_type": "code",
        "outputId": "3ae52bae-4832-4e4b-99e1-9c879b83d565",
        "colab": {
          "base_uri": "https://localhost:8080/",
          "height": 34
        }
      },
      "source": [
        "len(d_i_t[0])"
      ],
      "execution_count": 0,
      "outputs": [
        {
          "output_type": "execute_result",
          "data": {
            "text/plain": [
              "2000"
            ]
          },
          "metadata": {
            "tags": []
          },
          "execution_count": 123
        }
      ]
    },
    {
      "cell_type": "code",
      "metadata": {
        "colab_type": "code",
        "outputId": "037ed7ed-1c10-4426-c078-96c9f10f4bc8",
        "id": "P3Md2Hnna-iF",
        "colab": {
          "base_uri": "https://localhost:8080/",
          "height": 66,
          "referenced_widgets": [
            "8f244224d34744199c5f2c88ce1404b9",
            "77304ec2fee245dc912cdf49435b0b14",
            "405784c2cb34419ca68f56665153ed44",
            "22cf2b8d749449228877fa3e066bac01",
            "539f5443402b4700a03696d38c4823c8",
            "dcc7ae44129642a384cd090822ed4a69",
            "c8de6f6aa8824bc49434cbcaf38469e6",
            "e35120dd56cf458c810a5559217472b1"
          ]
        }
      },
      "source": [
        "from tqdm.notebook import tqdm\n",
        "from sklearn.metrics.pairwise import cosine_similarity\n",
        "sim = []\n",
        "for i in tqdm(range(len(d_i_t))):\n",
        "  sim.append(cosine_similarity([list(d_i_t[i])],[list(d_o_t[i])]))"
      ],
      "execution_count": 0,
      "outputs": [
        {
          "output_type": "display_data",
          "data": {
            "application/vnd.jupyter.widget-view+json": {
              "model_id": "8f244224d34744199c5f2c88ce1404b9",
              "version_minor": 0,
              "version_major": 2
            },
            "text/plain": [
              "HBox(children=(IntProgress(value=0, max=94765), HTML(value='')))"
            ]
          },
          "metadata": {
            "tags": []
          }
        },
        {
          "output_type": "stream",
          "text": [
            "\n"
          ],
          "name": "stdout"
        }
      ]
    },
    {
      "cell_type": "code",
      "metadata": {
        "colab_type": "code",
        "id": "gZihqBSma-iM",
        "colab": {}
      },
      "source": [
        "data_1 = pd.DataFrame(list(zip(d_i_t,d_o_t,sim)), columns=['input','output','similarity'])"
      ],
      "execution_count": 0,
      "outputs": []
    },
    {
      "cell_type": "code",
      "metadata": {
        "colab_type": "code",
        "outputId": "4e8a40f9-0c43-4ff4-84fe-73033d080ff0",
        "id": "dxTvJtXia-iQ",
        "colab": {
          "base_uri": "https://localhost:8080/",
          "height": 204
        }
      },
      "source": [
        "data_1.head()"
      ],
      "execution_count": 0,
      "outputs": [
        {
          "output_type": "execute_result",
          "data": {
            "text/html": [
              "<div>\n",
              "<style scoped>\n",
              "    .dataframe tbody tr th:only-of-type {\n",
              "        vertical-align: middle;\n",
              "    }\n",
              "\n",
              "    .dataframe tbody tr th {\n",
              "        vertical-align: top;\n",
              "    }\n",
              "\n",
              "    .dataframe thead th {\n",
              "        text-align: right;\n",
              "    }\n",
              "</style>\n",
              "<table border=\"1\" class=\"dataframe\">\n",
              "  <thead>\n",
              "    <tr style=\"text-align: right;\">\n",
              "      <th></th>\n",
              "      <th>input</th>\n",
              "      <th>output</th>\n",
              "      <th>similarity</th>\n",
              "    </tr>\n",
              "  </thead>\n",
              "  <tbody>\n",
              "    <tr>\n",
              "      <th>0</th>\n",
              "      <td>[0.48623592, 0.4483583, 0.4683769, 0.4859993, ...</td>\n",
              "      <td>[0.48623592, 0.4483583, 0.4683769, 0.4859993, ...</td>\n",
              "      <td>[[1.0000001]]</td>\n",
              "    </tr>\n",
              "    <tr>\n",
              "      <th>1</th>\n",
              "      <td>[0.49750897, 0.45751736, 0.47589883, 0.4868732...</td>\n",
              "      <td>[0.49750897, 0.45751736, 0.47589883, 0.4868732...</td>\n",
              "      <td>[[1.0000002]]</td>\n",
              "    </tr>\n",
              "    <tr>\n",
              "      <th>2</th>\n",
              "      <td>[0.49744546, 0.45718142, 0.47574943, 0.4868791...</td>\n",
              "      <td>[0.49744546, 0.45718142, 0.47574943, 0.4868791...</td>\n",
              "      <td>[[1.0]]</td>\n",
              "    </tr>\n",
              "    <tr>\n",
              "      <th>3</th>\n",
              "      <td>[0.4864555, 0.44969642, 0.46641353, 0.48463234...</td>\n",
              "      <td>[0.4864555, 0.44969642, 0.46641353, 0.48463234...</td>\n",
              "      <td>[[1.0000004]]</td>\n",
              "    </tr>\n",
              "    <tr>\n",
              "      <th>4</th>\n",
              "      <td>[0.48835507, 0.45105514, 0.4691653, 0.4856893,...</td>\n",
              "      <td>[0.48835507, 0.45105514, 0.4691653, 0.4856893,...</td>\n",
              "      <td>[[0.99999994]]</td>\n",
              "    </tr>\n",
              "  </tbody>\n",
              "</table>\n",
              "</div>"
            ],
            "text/plain": [
              "                                               input  ...      similarity\n",
              "0  [0.48623592, 0.4483583, 0.4683769, 0.4859993, ...  ...   [[1.0000001]]\n",
              "1  [0.49750897, 0.45751736, 0.47589883, 0.4868732...  ...   [[1.0000002]]\n",
              "2  [0.49744546, 0.45718142, 0.47574943, 0.4868791...  ...         [[1.0]]\n",
              "3  [0.4864555, 0.44969642, 0.46641353, 0.48463234...  ...   [[1.0000004]]\n",
              "4  [0.48835507, 0.45105514, 0.4691653, 0.4856893,...  ...  [[0.99999994]]\n",
              "\n",
              "[5 rows x 3 columns]"
            ]
          },
          "metadata": {
            "tags": []
          },
          "execution_count": 126
        }
      ]
    },
    {
      "cell_type": "code",
      "metadata": {
        "colab_type": "code",
        "id": "9C4MG3D4a-iS",
        "colab": {}
      },
      "source": [
        "data_1.to_csv('decoder_WVk_cosine_tokens.csv')"
      ],
      "execution_count": 0,
      "outputs": []
    },
    {
      "cell_type": "code",
      "metadata": {
        "colab_type": "code",
        "id": "wK1k7aa3a-iV",
        "colab": {}
      },
      "source": [
        "data_2 = pd.DataFrame(list(zip(data['input'].tolist(),data['out'].tolist(),sim)),columns=['input','output','similarity'])"
      ],
      "execution_count": 0,
      "outputs": []
    },
    {
      "cell_type": "code",
      "metadata": {
        "colab_type": "code",
        "id": "bqT1ojwRa-iY",
        "colab": {}
      },
      "source": [
        "data_2.to_csv('decoder_WVk_cosine_text.csv')"
      ],
      "execution_count": 0,
      "outputs": []
    },
    {
      "cell_type": "code",
      "metadata": {
        "colab_type": "code",
        "id": "903c0JfVa-ic",
        "colab": {}
      },
      "source": [
        "import itertools\n",
        "merged_i = list(itertools.chain(*d_i_t))\n",
        "merged_o = list(itertools.chain(*d_o_t))"
      ],
      "execution_count": 0,
      "outputs": []
    },
    {
      "cell_type": "code",
      "metadata": {
        "colab_type": "code",
        "outputId": "b3036ad0-c636-4dfe-b7b5-08758c7b20f9",
        "id": "Eyv7drVya-if",
        "colab": {
          "base_uri": "https://localhost:8080/",
          "height": 34
        }
      },
      "source": [
        "cosine_similarity([merged_i],[merged_o])"
      ],
      "execution_count": 0,
      "outputs": [
        {
          "output_type": "execute_result",
          "data": {
            "text/plain": [
              "array([[0.9998295]], dtype=float32)"
            ]
          },
          "metadata": {
            "tags": []
          },
          "execution_count": 131
        }
      ]
    },
    {
      "cell_type": "code",
      "metadata": {
        "id": "tSElsHFqjrS0",
        "colab_type": "code",
        "colab": {}
      },
      "source": [
        "import itertools\n",
        "merged_i = list(itertools.chain(*i_t))\n",
        "merged_o = list(itertools.chain(*o_t))"
      ],
      "execution_count": 0,
      "outputs": []
    },
    {
      "cell_type": "code",
      "metadata": {
        "id": "-68eVxywjr0Y",
        "colab_type": "code",
        "outputId": "58ff5439-1a34-4f48-df69-a95318f06705",
        "colab": {
          "base_uri": "https://localhost:8080/",
          "height": 34
        }
      },
      "source": [
        "cosine_similarity([merged_i],[merged_o])"
      ],
      "execution_count": 0,
      "outputs": [
        {
          "output_type": "execute_result",
          "data": {
            "text/plain": [
              "array([[0.9930305]], dtype=float32)"
            ]
          },
          "metadata": {
            "tags": []
          },
          "execution_count": 133
        }
      ]
    },
    {
      "cell_type": "code",
      "metadata": {
        "colab_type": "code",
        "id": "3ps6GNXKa-ij",
        "outputId": "4a71ceaa-d4f9-43c9-996e-343693b188a2",
        "colab": {
          "base_uri": "https://localhost:8080/",
          "height": 54
        }
      },
      "source": [
        "import tensorflow\n",
        "encoder.save('/content/drive/My Drive/RoundSqr/Finitive/Autoencoder/ae_encoder.h5')\n",
        "decoder.save('/content/drive/My Drive/RoundSqr/Finitive/Autoencoder/ae_decoder.h5')"
      ],
      "execution_count": 0,
      "outputs": [
        {
          "output_type": "stream",
          "text": [
            "WARNING:tensorflow:Error in loading the saved optimizer state. As a result, your model is starting with a freshly initialized optimizer.\n"
          ],
          "name": "stdout"
        }
      ]
    },
    {
      "cell_type": "markdown",
      "metadata": {
        "id": "ybC20m2Ta7eH",
        "colab_type": "text"
      },
      "source": [
        "## Encoder"
      ]
    },
    {
      "cell_type": "code",
      "metadata": {
        "colab_type": "code",
        "id": "FedmAeGfhbYp",
        "colab": {}
      },
      "source": [
        "data = pd.read_excel(\"/content/ICD10-2020.xlsm\",header=None,index_col=0,names=['idx','sno','out','input'])\n",
        "#data = data.loc[:,['out','input']].sample(n=1000, random_state=1)"
      ],
      "execution_count": 0,
      "outputs": []
    },
    {
      "cell_type": "code",
      "metadata": {
        "colab_type": "code",
        "id": "hqZpgBmUhbYv",
        "colab": {}
      },
      "source": [
        "from nltk.tokenize import RegexpTokenizer\n",
        "def preprocess_text(text,MAX_LEN,pad_word = 'padword'):\n",
        "  stop_words = set(stopwords.words('english')) \n",
        "  tokenizer = RegexpTokenizer(r'\\w+')\n",
        "  text = text.lower()\n",
        "  text = text.split()\n",
        "  text = [w for w in text if not w in stop_words]\n",
        "  text = [word for word in text if word.isalpha()]\n",
        "  if len(text) < MAX_LEN:\n",
        "    diff = MAX_LEN - len(text)\n",
        "    for i in range(diff):\n",
        "      text.append(pad_word)    \n",
        "    text = \" \".join(text)\n",
        "    w_t = tokenizer.tokenize(text)  \n",
        "  else:\n",
        "    text = \" \".join(text[:MAX_LEN])\n",
        "    w_t = tokenizer.tokenize(text)\n",
        "  return w_t"
      ],
      "execution_count": 0,
      "outputs": []
    },
    {
      "cell_type": "code",
      "metadata": {
        "colab_type": "code",
        "id": "1E0i2byUhbYy",
        "colab": {}
      },
      "source": [
        "d_o = []\n",
        "d_i = []\n",
        "for i,v in data.iterrows():\n",
        "  d_o.append(preprocess_text(v['out'],20))\n",
        "  d_i.append(preprocess_text(v['input'],20))\n"
      ],
      "execution_count": 0,
      "outputs": []
    },
    {
      "cell_type": "code",
      "metadata": {
        "colab_type": "code",
        "id": "JLtuaRTDhbY1",
        "colab": {}
      },
      "source": [
        "total_data = d_o + d_i"
      ],
      "execution_count": 0,
      "outputs": []
    },
    {
      "cell_type": "code",
      "metadata": {
        "colab_type": "code",
        "id": "AkmDqs7khbY4",
        "colab": {}
      },
      "source": [
        "path = get_tmpfile(\"word2vec.model\")\n",
        "\n",
        "cb = Word2Vec(sentences=total_data, size=100, window=2, min_count=1)"
      ],
      "execution_count": 0,
      "outputs": []
    },
    {
      "cell_type": "code",
      "metadata": {
        "colab_type": "code",
        "id": "46D0CCHthbY6",
        "colab": {}
      },
      "source": [
        "d_i_wv = []\n",
        "di_w_r = []\n",
        "for i in d_i:\n",
        "  di_w_r = []\n",
        "  for w in i:\n",
        "    di_w_r.append(cb.wv[w])\n",
        "  d_i_wv.append(di_w_r)"
      ],
      "execution_count": 0,
      "outputs": []
    },
    {
      "cell_type": "code",
      "metadata": {
        "colab_type": "code",
        "id": "pwzgRicuhbY9",
        "colab": {}
      },
      "source": [
        "d_o_wv = []\n",
        "do_w_r = []\n",
        "for i in d_o:\n",
        "  do_w_r = []\n",
        "  for w in i:\n",
        "    do_w_r.append(cb.wv[w])\n",
        "  d_o_wv.append(do_w_r)"
      ],
      "execution_count": 0,
      "outputs": []
    },
    {
      "cell_type": "code",
      "metadata": {
        "colab_type": "code",
        "id": "PshmdMqChbZA",
        "colab": {}
      },
      "source": [
        "d_i_wv_ = np.array(d_i_wv)"
      ],
      "execution_count": 0,
      "outputs": []
    },
    {
      "cell_type": "code",
      "metadata": {
        "colab_type": "code",
        "outputId": "60bea3e2-5532-41da-d4d7-a6f29b22bd1f",
        "id": "UT8sQ9WGhbZD",
        "colab": {
          "base_uri": "https://localhost:8080/",
          "height": 34
        }
      },
      "source": [
        "d_i_wv_[0].shape"
      ],
      "execution_count": 0,
      "outputs": [
        {
          "output_type": "execute_result",
          "data": {
            "text/plain": [
              "(20, 100)"
            ]
          },
          "metadata": {
            "tags": []
          },
          "execution_count": 92
        }
      ]
    },
    {
      "cell_type": "code",
      "metadata": {
        "colab_type": "code",
        "outputId": "07c6d74c-2145-4972-d529-e79bf52e4bb2",
        "id": "NG_YWCHnhbZG",
        "colab": {
          "base_uri": "https://localhost:8080/",
          "height": 34
        }
      },
      "source": [
        "d_i_wv_[0].shape"
      ],
      "execution_count": 0,
      "outputs": [
        {
          "output_type": "execute_result",
          "data": {
            "text/plain": [
              "(20, 100)"
            ]
          },
          "metadata": {
            "tags": []
          },
          "execution_count": 93
        }
      ]
    },
    {
      "cell_type": "code",
      "metadata": {
        "colab_type": "code",
        "id": "C6nqN50hhbZJ",
        "colab": {}
      },
      "source": [
        "import itertools\n",
        "di_m = []\n",
        "do_m = []\n",
        "for i in range(len(d_i_wv)):\n",
        "  di_m.append(list(itertools.chain(*d_i_wv[i])))\n",
        "  do_m.append(list(itertools.chain(*d_o_wv[i])))\n"
      ],
      "execution_count": 0,
      "outputs": []
    },
    {
      "cell_type": "code",
      "metadata": {
        "colab_type": "code",
        "id": "HNmOxcathbZL",
        "colab": {}
      },
      "source": [
        "di_m = np.array(di_m)\n",
        "do_m = np.array(do_m)"
      ],
      "execution_count": 0,
      "outputs": []
    },
    {
      "cell_type": "code",
      "metadata": {
        "colab_type": "code",
        "id": "f5--Za-5hbZO",
        "colab": {}
      },
      "source": [
        "from tensorflow.keras.models import Model\n",
        "\n",
        "\n",
        "encoding_dim = 20 \n",
        "input_img = Input(shape=(2000,))\n",
        "layer_1 = Dense(1000, activation='relu')(input_img)\n",
        "layer_2 = Dense(100, activation='relu')(layer_1)\n",
        "encoded = Dense(encoding_dim, activation='relu')(layer_2)\n",
        "encoder = Model(input_img, encoded)"
      ],
      "execution_count": 0,
      "outputs": []
    },
    {
      "cell_type": "code",
      "metadata": {
        "colab_type": "code",
        "outputId": "84ad6925-764a-43fc-dc00-eff54a01ca23",
        "id": "hnmkO08thbZR",
        "colab": {
          "base_uri": "https://localhost:8080/",
          "height": 34
        }
      },
      "source": [
        "di_m.shape"
      ],
      "execution_count": 0,
      "outputs": [
        {
          "output_type": "execute_result",
          "data": {
            "text/plain": [
              "(94765, 2000)"
            ]
          },
          "metadata": {
            "tags": []
          },
          "execution_count": 101
        }
      ]
    },
    {
      "cell_type": "code",
      "metadata": {
        "colab_type": "code",
        "id": "n5BuqlhZhbZa",
        "colab": {}
      },
      "source": [
        "i_t = encoder.predict(di_m)\n",
        "o_t = encoder.predict(do_m)"
      ],
      "execution_count": 0,
      "outputs": []
    },
    {
      "cell_type": "code",
      "metadata": {
        "id": "cEwlfQhWVHW5",
        "colab_type": "code",
        "outputId": "14873b20-fd32-49d7-8f26-ff36708f9c4d",
        "colab": {
          "base_uri": "https://localhost:8080/",
          "height": 66,
          "referenced_widgets": [
            "0bde2ebf2c5e475dba018368dc3520bd",
            "f40c8a15d5824f0c84fc080a3e9ec055",
            "2b09b56d88a140b7a482386c9ac7c1da",
            "fbc8ced5142a414594386606e328e5dd",
            "2fae8252067840a7994350d0d26b167d",
            "81df2437caf8480e9479c3743e54ca96",
            "b1d9d808b440432bbbb6d034d79fbdaa",
            "1c1c7b12e49c4781890613f4adf1fb87"
          ]
        }
      },
      "source": [
        "from tqdm.notebook import tqdm\n",
        "from sklearn.metrics.pairwise import cosine_similarity\n",
        "sim = []\n",
        "for i in tqdm(range(len(i_t))):\n",
        "  sim.append(cosine_similarity([list(i_t[i])],[list(o_t[i])]))"
      ],
      "execution_count": 0,
      "outputs": [
        {
          "output_type": "display_data",
          "data": {
            "application/vnd.jupyter.widget-view+json": {
              "model_id": "0bde2ebf2c5e475dba018368dc3520bd",
              "version_minor": 0,
              "version_major": 2
            },
            "text/plain": [
              "HBox(children=(IntProgress(value=0, max=94765), HTML(value='')))"
            ]
          },
          "metadata": {
            "tags": []
          }
        },
        {
          "output_type": "stream",
          "text": [
            "\n"
          ],
          "name": "stdout"
        }
      ]
    },
    {
      "cell_type": "code",
      "metadata": {
        "colab_type": "code",
        "id": "Ni2gx1z7VwV3",
        "colab": {}
      },
      "source": [
        "data_1 = pd.DataFrame(list(zip(i_t,o_t,sim)), columns=['input','output','similarity'])"
      ],
      "execution_count": 0,
      "outputs": []
    },
    {
      "cell_type": "code",
      "metadata": {
        "colab_type": "code",
        "outputId": "8b79c540-114d-4f3b-a32a-382a38a4a803",
        "id": "sMgLNVBAVwWA",
        "colab": {
          "base_uri": "https://localhost:8080/",
          "height": 204
        }
      },
      "source": [
        "data_1.head()"
      ],
      "execution_count": 0,
      "outputs": [
        {
          "output_type": "execute_result",
          "data": {
            "text/html": [
              "<div>\n",
              "<style scoped>\n",
              "    .dataframe tbody tr th:only-of-type {\n",
              "        vertical-align: middle;\n",
              "    }\n",
              "\n",
              "    .dataframe tbody tr th {\n",
              "        vertical-align: top;\n",
              "    }\n",
              "\n",
              "    .dataframe thead th {\n",
              "        text-align: right;\n",
              "    }\n",
              "</style>\n",
              "<table border=\"1\" class=\"dataframe\">\n",
              "  <thead>\n",
              "    <tr style=\"text-align: right;\">\n",
              "      <th></th>\n",
              "      <th>input</th>\n",
              "      <th>output</th>\n",
              "      <th>similarity</th>\n",
              "    </tr>\n",
              "  </thead>\n",
              "  <tbody>\n",
              "    <tr>\n",
              "      <th>0</th>\n",
              "      <td>[0.0, 0.28807968, 0.28498617, 0.0, 0.0, 0.0339...</td>\n",
              "      <td>[0.0, 0.28807968, 0.28498617, 0.0, 0.0, 0.0339...</td>\n",
              "      <td>[[1.0]]</td>\n",
              "    </tr>\n",
              "    <tr>\n",
              "      <th>1</th>\n",
              "      <td>[0.23148018, 0.0, 0.430037, 0.0, 0.13593486, 0...</td>\n",
              "      <td>[0.23148018, 0.0, 0.430037, 0.0, 0.13593486, 0...</td>\n",
              "      <td>[[0.99999994]]</td>\n",
              "    </tr>\n",
              "    <tr>\n",
              "      <th>2</th>\n",
              "      <td>[0.23398277, 0.0, 0.4355881, 0.0, 0.121749945,...</td>\n",
              "      <td>[0.23398277, 0.0, 0.4355881, 0.0, 0.121749945,...</td>\n",
              "      <td>[[0.99999994]]</td>\n",
              "    </tr>\n",
              "    <tr>\n",
              "      <th>3</th>\n",
              "      <td>[0.0114015, 0.2763524, 0.4285378, 0.0, 0.0, 0....</td>\n",
              "      <td>[0.0114015, 0.2763524, 0.4285378, 0.0, 0.0, 0....</td>\n",
              "      <td>[[0.99999994]]</td>\n",
              "    </tr>\n",
              "    <tr>\n",
              "      <th>4</th>\n",
              "      <td>[0.19293119, 0.18792884, 0.29310545, 0.1329415...</td>\n",
              "      <td>[0.19293119, 0.18792884, 0.29310545, 0.1329415...</td>\n",
              "      <td>[[0.9999999]]</td>\n",
              "    </tr>\n",
              "  </tbody>\n",
              "</table>\n",
              "</div>"
            ],
            "text/plain": [
              "                                               input  ...      similarity\n",
              "0  [0.0, 0.28807968, 0.28498617, 0.0, 0.0, 0.0339...  ...         [[1.0]]\n",
              "1  [0.23148018, 0.0, 0.430037, 0.0, 0.13593486, 0...  ...  [[0.99999994]]\n",
              "2  [0.23398277, 0.0, 0.4355881, 0.0, 0.121749945,...  ...  [[0.99999994]]\n",
              "3  [0.0114015, 0.2763524, 0.4285378, 0.0, 0.0, 0....  ...  [[0.99999994]]\n",
              "4  [0.19293119, 0.18792884, 0.29310545, 0.1329415...  ...   [[0.9999999]]\n",
              "\n",
              "[5 rows x 3 columns]"
            ]
          },
          "metadata": {
            "tags": []
          },
          "execution_count": 105
        }
      ]
    },
    {
      "cell_type": "code",
      "metadata": {
        "colab_type": "code",
        "id": "OPiZ6N_SVwWD",
        "colab": {}
      },
      "source": [
        "data_1.to_csv('WVk_cosine_tokens.csv')"
      ],
      "execution_count": 0,
      "outputs": []
    },
    {
      "cell_type": "code",
      "metadata": {
        "colab_type": "code",
        "id": "_78kNdaDVwWG",
        "colab": {}
      },
      "source": [
        "data_2 = pd.DataFrame(list(zip(data['input'].tolist(),data['out'].tolist(),sim)),columns=['input','output','similarity'])"
      ],
      "execution_count": 0,
      "outputs": []
    },
    {
      "cell_type": "code",
      "metadata": {
        "colab_type": "code",
        "id": "jN_Na0UBVwWJ",
        "colab": {}
      },
      "source": [
        "data_2.to_csv('WVk_cosine_text.csv')"
      ],
      "execution_count": 0,
      "outputs": []
    },
    {
      "cell_type": "code",
      "metadata": {
        "colab_type": "code",
        "id": "YXSjy55FVwWM",
        "colab": {}
      },
      "source": [
        "import itertools\n",
        "merged_i = list(itertools.chain(*i_t))\n",
        "merged_o = list(itertools.chain(*o_t))"
      ],
      "execution_count": 0,
      "outputs": []
    },
    {
      "cell_type": "code",
      "metadata": {
        "colab_type": "code",
        "outputId": "e59aade0-0d84-40b3-b445-09483c509bb9",
        "id": "xYPoSaXFVwWP",
        "colab": {
          "base_uri": "https://localhost:8080/",
          "height": 34
        }
      },
      "source": [
        "cosine_similarity([merged_i],[merged_o])"
      ],
      "execution_count": 0,
      "outputs": [
        {
          "output_type": "execute_result",
          "data": {
            "text/plain": [
              "array([[0.7957728]], dtype=float32)"
            ]
          },
          "metadata": {
            "tags": []
          },
          "execution_count": 110
        }
      ]
    },
    {
      "cell_type": "code",
      "metadata": {
        "id": "09_dNYnaV9_5",
        "colab_type": "code",
        "colab": {}
      },
      "source": [
        "import tensorflow\n",
        "autoencoder.save('/content/drive/My Drive/RoundSqr/Finitive/Autoencoder/encoder_only.h5')\n",
        "rae = tensorflow.keras.models.load_model('/content/drive/My Drive/RoundSqr/Finitive/Autoencoder/encoder_only.h5')"
      ],
      "execution_count": 0,
      "outputs": []
    },
    {
      "cell_type": "code",
      "metadata": {
        "id": "WgSO3KDWjIQC",
        "colab_type": "code",
        "colab": {}
      },
      "source": [
        ""
      ],
      "execution_count": 0,
      "outputs": []
    }
  ]
}